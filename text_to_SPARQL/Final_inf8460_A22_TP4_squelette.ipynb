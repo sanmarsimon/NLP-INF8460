{
  "cells": [
    {
      "cell_type": "markdown",
      "metadata": {
        "id": "8VR5HjXwNuvX"
      },
      "source": [
        "## <center> École Polytechnique de Montréal <br> Département Génie Informatique et Génie Logiciel <br>  INF8460 – Traitement automatique de la langue naturelle <br> </center>\n",
        "## <center> TP4 INF8460 <br>  Automne 2022 </center>"
      ]
    },
    {
      "cell_type": "markdown",
      "metadata": {
        "id": "XucTbTqIN3H2"
      },
      "source": [
        "## 1. DESCRIPTION\n",
        "Dans ce TP, l’idée est d'utiliser un système de traduction automatique pour générer des requêtes de base de connaissances en SPARQL à partir de questions en langage naturel.\n",
        "\n",
        "Les bases de connaissances sont une source de données structurées, selon les standards, modèles et langages du Web sémantique, qui permettent un accès efficace à une grande quantité d'information dans des domaines très variés. Cependant, leur accès est limité par la complexité des requêtes qui ne permet pas au public de s'en servir. Un système de traduction automatique pourrait permettre de générer automatiquement une requête étant donnée une question formulée par un usager en langage naturel.\n",
        "\n",
        "Dans notre cas, la langue d’entrée sera l’anglais et le langage de requête sera SPARQL (https://www.w3.org/TR/sparql11-query/). Afin de faciliter le travail du modèle, nous vous fournissons une version modifiée des questions dans laquelle certains mots sont remplacés par leur équivalent que l’on retrouve dans la requête.\n",
        "\n",
        "Voici un exemple : <br>\n",
        "\n",
        "__Question originale :__ _In how many other states do people live, whose languages are spoken in apocalypto?_\n",
        "\n",
        "__Entrée : Question taggée :__ _In how many other dbp:region do people live, whose dbo:language are spoken in dbr:Apocalypto?_\n",
        "\n",
        "__Sortie attendue : Requête:__ _select distinct count ( ?uri ) where { dbr:Apocalypto dbo:language ?x . ?x dbp:region ?uri }_\n",
        "\n",
        "(Cette demande revoie à la partie suivant de la base de connaissance DBPedia:\n",
        "\n",
        "![image.png](data:image/png;base64,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)\n",
        "\n",
        "dbr:Apocalypto a dbo:Film . <br>\n",
        "dbr:Apocalypto dbo:language dbr:Yucatec_Maya_language .  <br>\n",
        "dbr:Yucatec_Maya_language dbp:region \"Yucatán, Quintana Roo, Campeche, northern Belize\"@en . )\n",
        "\n",
        "__Réponse : 1__"
      ]
    },
    {
      "cell_type": "markdown",
      "metadata": {
        "id": "UEMylxPCPFgp"
      },
      "source": [
        "## 2. LIBRARIES PERMISES\n",
        "- Numpy\n",
        "- Pandas\n",
        "- HuggingFace\n",
        "- Keras\n",
        "- NLTK\n",
        "- SPACY\n",
        "- Pytorch\n",
        "- re\n",
        "\n",
        "\n",
        "- Pour toute autre librairie, demandez à votre chargé de laboratoire"
      ]
    },
    {
      "cell_type": "markdown",
      "metadata": {
        "id": "UFHoV-vcPYWw"
      },
      "source": [
        "## 3. INFRASTRUCTURE\n",
        "\n",
        "- Vous avez accès aux GPU du local L-4818. Dans ce cas, vous devez utiliser le dossier temp (voir le tutoriel VirtualEnv.pdf)\n",
        "- Vous pouvez aussi utiliser l’environnement Google Colab :  https://colab.research.google.com/"
      ]
    },
    {
      "cell_type": "markdown",
      "metadata": {
        "id": "VZmv6OCzPY8h"
      },
      "source": [
        "## 4. ECHÉANCE \n",
        "\n",
        "- Fin de la session. La date précise sera indiquée sur Moodle.\n"
      ]
    },
    {
      "cell_type": "markdown",
      "metadata": {
        "id": "fSlDX8dEPjWE"
      },
      "source": [
        "## 5. KAGGLE\n",
        " \n",
        "Le TP4-projet se fera sous forme d’une compétition Kaggle.  Vous devrez utiliser l’environnement Kaggle pour la soumission et l’évaluation de vos modèles.  \n",
        "Pour tester votre système au fur et à mesure, vous aurez le droit à 4 soumissions par jour sur Kaggle. Vous verrez deux types de résultats sur votre « private leaderboard » et votre « public leaderboard » :\n",
        "- Le « public leaderboard » est calculé sur approximativement 30% des données de test, choisies aléatoirement par Kaggle. Ce score est public et est calculé sur la même tranche de donnée pour tous les participants. \n",
        "- Le « private leaderboard » est calculé sur approximativement 70% des données de test et n’est visible qu’à la fin de la compétition. Le résultat final sera basé sur ce leaderboard. Si aucune soumission n’est choisie, la soumission avec le meilleur score sur le « public leaderboard » sera utilisée pour calculer le score sur le « private leaderboard ».\n",
        "\n",
        "Pour l’évaluation, vous devrez soumettre un fichier de données _tp4_submission.csv_ du même format que le fichier _sample_submission.csv_ (disponible sur le site de la compétition et Moodle). _tp4_submission.csv_ devra contenir pour chaque ligne de votre ensemble de test, la requête retournée par votre approche, selon le format indiqué dans la compétition.\n",
        "\n"
      ]
    },
    {
      "cell_type": "markdown",
      "metadata": {
        "id": "MN3Q1FqLQJhX"
      },
      "source": [
        "## 6. DESCRIPTION DES DONNEES ET METRIQUES D’EVALUATION\n",
        "\n",
        "Le corpus est un corpus de 5 000 paires de questions - requêtes sur DBPedia portant sur une grande variété de thèmes plus ou moins spécifiques. Trois documents sont fournis :\n",
        "\n",
        "-\tLes 4000 paires de questions – requêtes d’entrainement dans un fichier train.csv.\n",
        "-\tLes 500 paires de questions – requêtes de validation dans un fichier validation.csv.\n",
        "-\tLes 500 questions de test pour lesquelles vous devez générer des requêtes SPARQL dans un fichier test.csv.\n",
        "\n",
        "La sortie de votre modèle sera comparée à notre ensemble de référence. Vous serez évalués en utilisant la métrique « accuracy » sur les requêtes prédites par vos modèles dans la compétition Kaggle. Cette métrique vérifie pour chaque requête prédite par votre modèle si elle est exactement égale à la requête attendue. Faite donc bien attention aux requêtes générées : un seul caractère non correct fait compter la requête comme fausse. \n",
        "\n",
        "Nous vous demandons également de rapporter, dans votre notebook uniquement, la métrique BLEU de votre modèle sur l’ensemble de validation. Cette métrique est très utilisée dans les tâches de traduction automatique et nous vous fournissons une fonction qui la calcule. Pour plus d’information voir https://en.wikipedia.org/wiki/BLEU. "
      ]
    },
    {
      "cell_type": "markdown",
      "metadata": {
        "id": "123Zds9PQMIN"
      },
      "source": [
        "## 7. ETAPES DU TP \n",
        "\n",
        "A partir de ce notebook squelette, vous devez réaliser les étapes suivantes. (Notez que les cellules dans le squelette sont là à titre informatif il est fort probable que vous rajoutiez des sections au fur et à mesure de votre TP).\n"
      ]
    },
    {
      "cell_type": "markdown",
      "metadata": {
        "id": "JyOPA9qmQPc8"
      },
      "source": [
        "### 7.1. Etat de l’art (5%)\n",
        " \n",
        "Décrivez en __deux paragraphes__, dans une cellule du notebook, avec les références appropriées, les architectures de l’état de l’art pour la génération de requêtes SPARQL. Utilisez le service Google Scholar. Voici quelques mots-clés : Neural Machine Translation SPARQL, SPARQL Sequence to Sequence Model, etc.\n",
        "\n",
        "En vous basant sur vos recherches et sur cet article, quelles sont les meilleures techniques de l’état de l’art ?  Soyez brefs et clairs. Attention à comparer des approches sur les mêmes jeux de données et en utilisant les mêmes métriques dans votre analyse.\n",
        "\n"
      ]
    },
    {
      "cell_type": "markdown",
      "metadata": {
        "id": "OEohtbVAXCKf"
      },
      "source": [
        "Pour notre recherche nous avons étudié l'article initulé \"Neural machine translating from natural language to SPARQL\" de Xiaoyu Yin, Dagmar Gromann et Sebastian Rudolph [1]. Les chercheurs ont étudié la traduction automatique de l'anglais vers le langage SPARQL. Ils ont comparé 8 architectures différentes : NSpM, NSpM+Att1, NSpM+Att2,GNMT-4, GNMT-8, LSTM_Luong, ConvS2S et Transformer. \n",
        "Le NSpM est une architecture generator–learner–interpreter. \n",
        "Le générateur prend des modèles de requête comme entrée et crée l'ensemble de données d'entrainement, qui est transmis au learner.\n",
        "Le learner prend le langage naturel comme entrée et génère une séquence\n",
        "qui encode une requête SPARQL. Ensuite un RNN encodeur-décodeur est employé comme traducteur séquentiel [2]. Le modèle est amélioré avec un phénomène d'attention globals Att1 et locals Att2.\n",
        "Le LSTM_Luong combine l'architecture LSTM et les phénomènes d'attention [3]. Le GNMT utilise des connexions résiduelles pour remédier\n",
        "la perte d’information causée par les nombreuses couches.De plus, GNMT utilise un RNN bidirectionnel sur la première couche de l’encodeur. GNMT-4 possède 4 couches et GNMT-8, 8 couches [4]\n",
        "\n"
      ]
    },
    {
      "cell_type": "markdown",
      "metadata": {
        "id": "qvCL6sHMapkF"
      },
      "source": [
        "L'article présente une comparaison des modèles avec la métrique BLEU (p 517). On observe que les deux meilleures techniques sont le ConvSeq2Seq puis le Transformer. Nous allons donc nous intéresser à ces modèles. \n",
        "L'architectures du Transformer est présentée dans la partie 7.2.1  et l'architecture du ConvSeq2Seq dans la partie 7.3. "
      ]
    },
    {
      "cell_type": "markdown",
      "metadata": {
        "id": "na_a0bhBXCSi"
      },
      "source": [
        "Références :  \n",
        "[1] X. Yin, D. Gromann, S. Rudolph, Neural machine translating from natural language to SPARQL\n",
        "\n",
        "[2]  T. Soru, E. Marx, A. Valdestilhas, D. Esteves, D. Moussallem, G. Publio,\n",
        "Neural machine translation for query construction and composition, CoRR\n",
        "abs/1806.10478 (2018) arXiv:1806.10478.\n",
        "\n",
        "[3] T. Luong, H. Pham, C.D. Manning, Effective approaches to attentionbased neural machine translation, in: L. Màrquez, C. Callison-Burch, J.\n",
        "Su, D. Pighin, Y. Marton (Eds.), Proceedings of the 2015 Conference on\n",
        "Empirical Methods in Natural Language Processing, EMNLP, ACL, 2015, pp.\n",
        "1412–1421, http://dx.doi.org/10.18653/v1/D15-1166.\n",
        "\n",
        "[4] Y. Wu, M. Schuster, Z. Chen, Q.V. Le, M. Norouzi, W. Macherey, M. Krikun,\n",
        "Y. Cao, Q. Gao, K. Macherey, J. Klingner, A. Shah, M. Johnson, X. Liu, L.\n",
        "Kaiser, S. Gouws, Y. Kato, T. Kudo, H. Kazawa, K. Stevens, G. Kurian, N. Patil,\n",
        "W. Wang, C. Young, J. Smith, J. Riesa, A. Rudnick, O. Vinyals, G. Corrado,\n",
        "M. Hughes, J. Dean, Google’s neural machine translation system: Bridging\n",
        "the gap between human and machine translation, CoRR abs/1609.08144\n",
        "(2016) arXiv:1609.08144."
      ]
    },
    {
      "cell_type": "markdown",
      "metadata": {
        "id": "Z3mcb6v3QUVl"
      },
      "source": [
        "### 7.2. Méthodologie\n",
        "#### 7.2.1. Architecture proposée (5%)\n",
        "\n",
        "Proposez une architecture d'encodeur-décodeur non pré-entrainée de type Transformer ou CNN pour la tâche. Décrivez l’architecture et la méthodologie en quelques lignes dans une cellule de texte."
      ]
    },
    {
      "cell_type": "markdown",
      "metadata": {
        "id": "f8pjoX-Ml-sq"
      },
      "source": [
        "Pour la première partie nous avons choisi de proposer une architecture de Transfomer. \n",
        "\n",
        "Le Transformer est un encoder-décoder avec pour chaque bloc une enchainement de couches d'auto-attention et de réseaux de neurones entièrements connectés. Les blocs des décodeurs ont également une couche encodeur-décodeur attention dont les matrices key et value sont issues de la sortie de l'encodeur pour définir l'attention. \n",
        "\n",
        "\n",
        "Avant l'entrée dans le modèle nous allons faire un pré-traitement de notre corpus et nous allons le segmenter à l'aide des Tokenizer de Spacy. \n",
        "Pour la préparation des séquences des batchs avant d'entrer dans le modèle nous allons inclure des pads pour que les séquences soient de même longueur. Ces pads seront masqués pour indiquer au modèle de les ignorer"
      ]
    },
    {
      "cell_type": "markdown",
      "metadata": {
        "id": "eF5z4UWZrgW9"
      },
      "source": [
        "[5]  A. Vaswani, N. Shazeer, N. Parmar, J. Uszkoreit, L. Jones, A.N. Gomez, L.\n",
        "Kaiser, I. Polosukhin, Attention is all you need, in: I. Guyon, U. von Luxburg,\n",
        "S. Bengio, H.M. Wallach, R. Fergus, S.V.N. Vishwanathan, R. Garnett (Eds.),\n",
        "Advances in Neural Information Processing Systems 30, Curran Associates,\n",
        "Inc., 2017, pp. 5998–6008."
      ]
    },
    {
      "cell_type": "markdown",
      "metadata": {
        "id": "YOvcuz0A1VhQ"
      },
      "source": [
        "#### 7.2.2. Mise en place (45%)\n",
        "\n",
        "Mettez en place la solution proposée dans la partie précédente. "
      ]
    },
    {
      "cell_type": "markdown",
      "metadata": {
        "id": "GBJuloG-EUkM"
      },
      "source": [
        "#### Imports"
      ]
    },
    {
      "cell_type": "code",
      "execution_count": null,
      "metadata": {
        "colab": {
          "base_uri": "https://localhost:8080/"
        },
        "id": "PdJCQi-Mbti9",
        "outputId": "19085775-efec-47e3-c50f-99fc082611e5"
      },
      "outputs": [
        {
          "name": "stderr",
          "output_type": "stream",
          "text": [
            "[nltk_data] Downloading package wordnet to /root/nltk_data...\n",
            "[nltk_data] Downloading package stopwords to /root/nltk_data...\n",
            "[nltk_data]   Unzipping corpora/stopwords.zip.\n",
            "[nltk_data] Downloading package punkt to /root/nltk_data...\n",
            "[nltk_data]   Unzipping tokenizers/punkt.zip.\n",
            "[nltk_data] Downloading package omw-1.4 to /root/nltk_data...\n"
          ]
        },
        {
          "name": "stdout",
          "output_type": "stream",
          "text": [
            "Looking in indexes: https://pypi.org/simple, https://us-python.pkg.dev/colab-wheels/public/simple/\n",
            "Requirement already satisfied: spacy in /usr/local/lib/python3.8/dist-packages (3.4.3)\n",
            "Requirement already satisfied: requests<3.0.0,>=2.13.0 in /usr/local/lib/python3.8/dist-packages (from spacy) (2.23.0)\n",
            "Requirement already satisfied: pathy>=0.3.5 in /usr/local/lib/python3.8/dist-packages (from spacy) (0.10.0)\n",
            "Requirement already satisfied: jinja2 in /usr/local/lib/python3.8/dist-packages (from spacy) (2.11.3)\n",
            "Requirement already satisfied: pydantic!=1.8,!=1.8.1,<1.11.0,>=1.7.4 in /usr/local/lib/python3.8/dist-packages (from spacy) (1.10.2)\n",
            "Requirement already satisfied: tqdm<5.0.0,>=4.38.0 in /usr/local/lib/python3.8/dist-packages (from spacy) (4.64.1)\n",
            "Requirement already satisfied: spacy-loggers<2.0.0,>=1.0.0 in /usr/local/lib/python3.8/dist-packages (from spacy) (1.0.3)\n",
            "Requirement already satisfied: setuptools in /usr/local/lib/python3.8/dist-packages (from spacy) (57.4.0)\n",
            "Requirement already satisfied: murmurhash<1.1.0,>=0.28.0 in /usr/local/lib/python3.8/dist-packages (from spacy) (1.0.9)\n",
            "Requirement already satisfied: catalogue<2.1.0,>=2.0.6 in /usr/local/lib/python3.8/dist-packages (from spacy) (2.0.8)\n",
            "Requirement already satisfied: preshed<3.1.0,>=3.0.2 in /usr/local/lib/python3.8/dist-packages (from spacy) (3.0.8)\n",
            "Requirement already satisfied: packaging>=20.0 in /usr/local/lib/python3.8/dist-packages (from spacy) (21.3)\n",
            "Requirement already satisfied: thinc<8.2.0,>=8.1.0 in /usr/local/lib/python3.8/dist-packages (from spacy) (8.1.5)\n",
            "Requirement already satisfied: langcodes<4.0.0,>=3.2.0 in /usr/local/lib/python3.8/dist-packages (from spacy) (3.3.0)\n",
            "Requirement already satisfied: spacy-legacy<3.1.0,>=3.0.10 in /usr/local/lib/python3.8/dist-packages (from spacy) (3.0.10)\n",
            "Requirement already satisfied: wasabi<1.1.0,>=0.9.1 in /usr/local/lib/python3.8/dist-packages (from spacy) (0.10.1)\n",
            "Requirement already satisfied: cymem<2.1.0,>=2.0.2 in /usr/local/lib/python3.8/dist-packages (from spacy) (2.0.7)\n",
            "Requirement already satisfied: typer<0.8.0,>=0.3.0 in /usr/local/lib/python3.8/dist-packages (from spacy) (0.7.0)\n",
            "Requirement already satisfied: numpy>=1.15.0 in /usr/local/lib/python3.8/dist-packages (from spacy) (1.21.6)\n",
            "Requirement already satisfied: srsly<3.0.0,>=2.4.3 in /usr/local/lib/python3.8/dist-packages (from spacy) (2.4.5)\n",
            "Requirement already satisfied: pyparsing!=3.0.5,>=2.0.2 in /usr/local/lib/python3.8/dist-packages (from packaging>=20.0->spacy) (3.0.9)\n",
            "Requirement already satisfied: smart-open<6.0.0,>=5.2.1 in /usr/local/lib/python3.8/dist-packages (from pathy>=0.3.5->spacy) (5.2.1)\n",
            "Requirement already satisfied: typing-extensions>=4.1.0 in /usr/local/lib/python3.8/dist-packages (from pydantic!=1.8,!=1.8.1,<1.11.0,>=1.7.4->spacy) (4.4.0)\n",
            "Requirement already satisfied: idna<3,>=2.5 in /usr/local/lib/python3.8/dist-packages (from requests<3.0.0,>=2.13.0->spacy) (2.10)\n",
            "Requirement already satisfied: urllib3!=1.25.0,!=1.25.1,<1.26,>=1.21.1 in /usr/local/lib/python3.8/dist-packages (from requests<3.0.0,>=2.13.0->spacy) (1.24.3)\n",
            "Requirement already satisfied: chardet<4,>=3.0.2 in /usr/local/lib/python3.8/dist-packages (from requests<3.0.0,>=2.13.0->spacy) (3.0.4)\n",
            "Requirement already satisfied: certifi>=2017.4.17 in /usr/local/lib/python3.8/dist-packages (from requests<3.0.0,>=2.13.0->spacy) (2022.9.24)\n",
            "Requirement already satisfied: blis<0.8.0,>=0.7.8 in /usr/local/lib/python3.8/dist-packages (from thinc<8.2.0,>=8.1.0->spacy) (0.7.9)\n",
            "Requirement already satisfied: confection<1.0.0,>=0.0.1 in /usr/local/lib/python3.8/dist-packages (from thinc<8.2.0,>=8.1.0->spacy) (0.0.3)\n",
            "Requirement already satisfied: click<9.0.0,>=7.1.1 in /usr/local/lib/python3.8/dist-packages (from typer<0.8.0,>=0.3.0->spacy) (7.1.2)\n",
            "Requirement already satisfied: MarkupSafe>=0.23 in /usr/local/lib/python3.8/dist-packages (from jinja2->spacy) (2.0.1)\n",
            "Looking in indexes: https://pypi.org/simple, https://us-python.pkg.dev/colab-wheels/public/simple/\n",
            "Collecting en-core-web-sm==3.4.1\n",
            "  Using cached https://github.com/explosion/spacy-models/releases/download/en_core_web_sm-3.4.1/en_core_web_sm-3.4.1-py3-none-any.whl (12.8 MB)\n",
            "Requirement already satisfied: spacy<3.5.0,>=3.4.0 in /usr/local/lib/python3.8/dist-packages (from en-core-web-sm==3.4.1) (3.4.3)\n",
            "Requirement already satisfied: requests<3.0.0,>=2.13.0 in /usr/local/lib/python3.8/dist-packages (from spacy<3.5.0,>=3.4.0->en-core-web-sm==3.4.1) (2.23.0)\n",
            "Requirement already satisfied: wasabi<1.1.0,>=0.9.1 in /usr/local/lib/python3.8/dist-packages (from spacy<3.5.0,>=3.4.0->en-core-web-sm==3.4.1) (0.10.1)\n",
            "Requirement already satisfied: catalogue<2.1.0,>=2.0.6 in /usr/local/lib/python3.8/dist-packages (from spacy<3.5.0,>=3.4.0->en-core-web-sm==3.4.1) (2.0.8)\n",
            "Requirement already satisfied: langcodes<4.0.0,>=3.2.0 in /usr/local/lib/python3.8/dist-packages (from spacy<3.5.0,>=3.4.0->en-core-web-sm==3.4.1) (3.3.0)\n",
            "Requirement already satisfied: thinc<8.2.0,>=8.1.0 in /usr/local/lib/python3.8/dist-packages (from spacy<3.5.0,>=3.4.0->en-core-web-sm==3.4.1) (8.1.5)\n",
            "Requirement already satisfied: typer<0.8.0,>=0.3.0 in /usr/local/lib/python3.8/dist-packages (from spacy<3.5.0,>=3.4.0->en-core-web-sm==3.4.1) (0.7.0)\n",
            "Requirement already satisfied: preshed<3.1.0,>=3.0.2 in /usr/local/lib/python3.8/dist-packages (from spacy<3.5.0,>=3.4.0->en-core-web-sm==3.4.1) (3.0.8)\n",
            "Requirement already satisfied: murmurhash<1.1.0,>=0.28.0 in /usr/local/lib/python3.8/dist-packages (from spacy<3.5.0,>=3.4.0->en-core-web-sm==3.4.1) (1.0.9)\n",
            "Requirement already satisfied: srsly<3.0.0,>=2.4.3 in /usr/local/lib/python3.8/dist-packages (from spacy<3.5.0,>=3.4.0->en-core-web-sm==3.4.1) (2.4.5)\n",
            "Requirement already satisfied: packaging>=20.0 in /usr/local/lib/python3.8/dist-packages (from spacy<3.5.0,>=3.4.0->en-core-web-sm==3.4.1) (21.3)\n",
            "Requirement already satisfied: pathy>=0.3.5 in /usr/local/lib/python3.8/dist-packages (from spacy<3.5.0,>=3.4.0->en-core-web-sm==3.4.1) (0.10.0)\n",
            "Requirement already satisfied: tqdm<5.0.0,>=4.38.0 in /usr/local/lib/python3.8/dist-packages (from spacy<3.5.0,>=3.4.0->en-core-web-sm==3.4.1) (4.64.1)\n",
            "Requirement already satisfied: setuptools in /usr/local/lib/python3.8/dist-packages (from spacy<3.5.0,>=3.4.0->en-core-web-sm==3.4.1) (57.4.0)\n",
            "Requirement already satisfied: spacy-loggers<2.0.0,>=1.0.0 in /usr/local/lib/python3.8/dist-packages (from spacy<3.5.0,>=3.4.0->en-core-web-sm==3.4.1) (1.0.3)\n",
            "Requirement already satisfied: numpy>=1.15.0 in /usr/local/lib/python3.8/dist-packages (from spacy<3.5.0,>=3.4.0->en-core-web-sm==3.4.1) (1.21.6)\n",
            "Requirement already satisfied: cymem<2.1.0,>=2.0.2 in /usr/local/lib/python3.8/dist-packages (from spacy<3.5.0,>=3.4.0->en-core-web-sm==3.4.1) (2.0.7)\n",
            "Requirement already satisfied: spacy-legacy<3.1.0,>=3.0.10 in /usr/local/lib/python3.8/dist-packages (from spacy<3.5.0,>=3.4.0->en-core-web-sm==3.4.1) (3.0.10)\n",
            "Requirement already satisfied: pydantic!=1.8,!=1.8.1,<1.11.0,>=1.7.4 in /usr/local/lib/python3.8/dist-packages (from spacy<3.5.0,>=3.4.0->en-core-web-sm==3.4.1) (1.10.2)\n",
            "Requirement already satisfied: jinja2 in /usr/local/lib/python3.8/dist-packages (from spacy<3.5.0,>=3.4.0->en-core-web-sm==3.4.1) (2.11.3)\n",
            "Requirement already satisfied: pyparsing!=3.0.5,>=2.0.2 in /usr/local/lib/python3.8/dist-packages (from packaging>=20.0->spacy<3.5.0,>=3.4.0->en-core-web-sm==3.4.1) (3.0.9)\n",
            "Requirement already satisfied: smart-open<6.0.0,>=5.2.1 in /usr/local/lib/python3.8/dist-packages (from pathy>=0.3.5->spacy<3.5.0,>=3.4.0->en-core-web-sm==3.4.1) (5.2.1)\n",
            "Requirement already satisfied: typing-extensions>=4.1.0 in /usr/local/lib/python3.8/dist-packages (from pydantic!=1.8,!=1.8.1,<1.11.0,>=1.7.4->spacy<3.5.0,>=3.4.0->en-core-web-sm==3.4.1) (4.4.0)\n",
            "Requirement already satisfied: urllib3!=1.25.0,!=1.25.1,<1.26,>=1.21.1 in /usr/local/lib/python3.8/dist-packages (from requests<3.0.0,>=2.13.0->spacy<3.5.0,>=3.4.0->en-core-web-sm==3.4.1) (1.24.3)\n",
            "Requirement already satisfied: idna<3,>=2.5 in /usr/local/lib/python3.8/dist-packages (from requests<3.0.0,>=2.13.0->spacy<3.5.0,>=3.4.0->en-core-web-sm==3.4.1) (2.10)\n",
            "Requirement already satisfied: certifi>=2017.4.17 in /usr/local/lib/python3.8/dist-packages (from requests<3.0.0,>=2.13.0->spacy<3.5.0,>=3.4.0->en-core-web-sm==3.4.1) (2022.9.24)\n",
            "Requirement already satisfied: chardet<4,>=3.0.2 in /usr/local/lib/python3.8/dist-packages (from requests<3.0.0,>=2.13.0->spacy<3.5.0,>=3.4.0->en-core-web-sm==3.4.1) (3.0.4)\n",
            "Requirement already satisfied: confection<1.0.0,>=0.0.1 in /usr/local/lib/python3.8/dist-packages (from thinc<8.2.0,>=8.1.0->spacy<3.5.0,>=3.4.0->en-core-web-sm==3.4.1) (0.0.3)\n",
            "Requirement already satisfied: blis<0.8.0,>=0.7.8 in /usr/local/lib/python3.8/dist-packages (from thinc<8.2.0,>=8.1.0->spacy<3.5.0,>=3.4.0->en-core-web-sm==3.4.1) (0.7.9)\n",
            "Requirement already satisfied: click<9.0.0,>=7.1.1 in /usr/local/lib/python3.8/dist-packages (from typer<0.8.0,>=0.3.0->spacy<3.5.0,>=3.4.0->en-core-web-sm==3.4.1) (7.1.2)\n",
            "Requirement already satisfied: MarkupSafe>=0.23 in /usr/local/lib/python3.8/dist-packages (from jinja2->spacy<3.5.0,>=3.4.0->en-core-web-sm==3.4.1) (2.0.1)\n",
            "\u001b[38;5;2m✔ Download and installation successful\u001b[0m\n",
            "You can now load the package via spacy.load('en_core_web_sm')\n"
          ]
        }
      ],
      "source": [
        "import numpy as np\n",
        "import torch\n",
        "import torch.nn as nn\n",
        "import torch.nn.functional as F\n",
        "import time\n",
        "import pandas as pd\n",
        "from nltk.corpus import stopwords\n",
        "from nltk.tokenize import word_tokenize\n",
        "import string\n",
        "import re\n",
        "import nltk\n",
        "\n",
        "nltk.download('wordnet')\n",
        "nltk.download('stopwords')\n",
        "nltk.download('punkt')\n",
        "nltk.download('omw-1.4')\n",
        "\n",
        "!python3 -m spacy download en > /dev/null\n",
        "!pip install torchinfo > /dev/null\n",
        "!pip install einops > /dev/null\n",
        "!pip install -U spacy\n",
        "!python -m spacy download en_core_web_sm\n",
        "\n",
        "from itertools import takewhile\n",
        "from collections import Counter, defaultdict\n",
        "\n",
        "from sklearn.model_selection import train_test_split\n",
        "\n",
        "import torch.optim as optim\n",
        "from torch.utils.data.dataset import Dataset\n",
        "from torch.utils.data import DataLoader\n",
        "from torch.nn.utils.rnn import pad_sequence\n",
        "\n",
        "import torchtext\n",
        "from torchtext.data.utils import get_tokenizer\n",
        "from torchtext.vocab import build_vocab_from_iterator, Vocab\n",
        "\n",
        "import einops\n",
        "from torchinfo import summary"
      ]
    },
    {
      "cell_type": "code",
      "execution_count": null,
      "metadata": {
        "id": "5HEsI1QPm9B3"
      },
      "outputs": [],
      "source": [
        "PATH = \"\""
      ]
    },
    {
      "cell_type": "code",
      "execution_count": null,
      "metadata": {
        "id": "EQgz_tjYm31X"
      },
      "outputs": [],
      "source": [
        "train=pd.read_csv(PATH+\"train.csv\")\n",
        "test=pd.read_csv(PATH+\"test.csv\")\n",
        "validation=pd.read_csv(PATH+\"validation.csv\")"
      ]
    },
    {
      "cell_type": "code",
      "execution_count": null,
      "metadata": {
        "colab": {
          "base_uri": "https://localhost:8080/"
        },
        "id": "0A518wB3nOBp",
        "outputId": "47debedd-70cd-4ef0-a63a-5b9b7c5ec792"
      },
      "outputs": [
        {
          "data": {
            "text/html": [
              "\n",
              "  <div id=\"df-5f367bb7-e7d7-459b-aab7-9212b94a649a\">\n",
              "    <div class=\"colab-df-container\">\n",
              "      <div>\n",
              "<style scoped>\n",
              "    .dataframe tbody tr th:only-of-type {\n",
              "        vertical-align: middle;\n",
              "    }\n",
              "\n",
              "    .dataframe tbody tr th {\n",
              "        vertical-align: top;\n",
              "    }\n",
              "\n",
              "    .dataframe thead th {\n",
              "        text-align: right;\n",
              "    }\n",
              "</style>\n",
              "<table border=\"1\" class=\"dataframe\">\n",
              "  <thead>\n",
              "    <tr style=\"text-align: right;\">\n",
              "      <th></th>\n",
              "      <th>id</th>\n",
              "      <th>english</th>\n",
              "      <th>sparql</th>\n",
              "    </tr>\n",
              "  </thead>\n",
              "  <tbody>\n",
              "    <tr>\n",
              "      <th>0</th>\n",
              "      <td>0</td>\n",
              "      <td>how many movies are there whose dbo:director i...</td>\n",
              "      <td>select distinct count ( ?uri ) where { ?uri db...</td>\n",
              "    </tr>\n",
              "    <tr>\n",
              "      <th>1</th>\n",
              "      <td>1</td>\n",
              "      <td>what dbo:City 's dbo:founder is dbr:John_Forbe...</td>\n",
              "      <td>select distinct ?uri where { ?uri dbo:founder ...</td>\n",
              "    </tr>\n",
              "    <tr>\n",
              "      <th>2</th>\n",
              "      <td>2</td>\n",
              "      <td>what is the dbo:River whose dbo:riverMouth is ...</td>\n",
              "      <td>select distinct ?uri where { ?uri dbo:riverMou...</td>\n",
              "    </tr>\n",
              "    <tr>\n",
              "      <th>3</th>\n",
              "      <td>3</td>\n",
              "      <td>what is the dbp:allegiance of dbr:John_Kotelaw...</td>\n",
              "      <td>select distinct ?uri where { dbr:John_Kotelawa...</td>\n",
              "    </tr>\n",
              "    <tr>\n",
              "      <th>4</th>\n",
              "      <td>4</td>\n",
              "      <td>what is the total number of dbp:race of the ra...</td>\n",
              "      <td>select distinct count ( ?uri ) where { ?x dbo:...</td>\n",
              "    </tr>\n",
              "  </tbody>\n",
              "</table>\n",
              "</div>\n",
              "      <button class=\"colab-df-convert\" onclick=\"convertToInteractive('df-5f367bb7-e7d7-459b-aab7-9212b94a649a')\"\n",
              "              title=\"Convert this dataframe to an interactive table.\"\n",
              "              style=\"display:none;\">\n",
              "        \n",
              "  <svg xmlns=\"http://www.w3.org/2000/svg\" height=\"24px\"viewBox=\"0 0 24 24\"\n",
              "       width=\"24px\">\n",
              "    <path d=\"M0 0h24v24H0V0z\" fill=\"none\"/>\n",
              "    <path d=\"M18.56 5.44l.94 2.06.94-2.06 2.06-.94-2.06-.94-.94-2.06-.94 2.06-2.06.94zm-11 1L8.5 8.5l.94-2.06 2.06-.94-2.06-.94L8.5 2.5l-.94 2.06-2.06.94zm10 10l.94 2.06.94-2.06 2.06-.94-2.06-.94-.94-2.06-.94 2.06-2.06.94z\"/><path d=\"M17.41 7.96l-1.37-1.37c-.4-.4-.92-.59-1.43-.59-.52 0-1.04.2-1.43.59L10.3 9.45l-7.72 7.72c-.78.78-.78 2.05 0 2.83L4 21.41c.39.39.9.59 1.41.59.51 0 1.02-.2 1.41-.59l7.78-7.78 2.81-2.81c.8-.78.8-2.07 0-2.86zM5.41 20L4 18.59l7.72-7.72 1.47 1.35L5.41 20z\"/>\n",
              "  </svg>\n",
              "      </button>\n",
              "      \n",
              "  <style>\n",
              "    .colab-df-container {\n",
              "      display:flex;\n",
              "      flex-wrap:wrap;\n",
              "      gap: 12px;\n",
              "    }\n",
              "\n",
              "    .colab-df-convert {\n",
              "      background-color: #E8F0FE;\n",
              "      border: none;\n",
              "      border-radius: 50%;\n",
              "      cursor: pointer;\n",
              "      display: none;\n",
              "      fill: #1967D2;\n",
              "      height: 32px;\n",
              "      padding: 0 0 0 0;\n",
              "      width: 32px;\n",
              "    }\n",
              "\n",
              "    .colab-df-convert:hover {\n",
              "      background-color: #E2EBFA;\n",
              "      box-shadow: 0px 1px 2px rgba(60, 64, 67, 0.3), 0px 1px 3px 1px rgba(60, 64, 67, 0.15);\n",
              "      fill: #174EA6;\n",
              "    }\n",
              "\n",
              "    [theme=dark] .colab-df-convert {\n",
              "      background-color: #3B4455;\n",
              "      fill: #D2E3FC;\n",
              "    }\n",
              "\n",
              "    [theme=dark] .colab-df-convert:hover {\n",
              "      background-color: #434B5C;\n",
              "      box-shadow: 0px 1px 3px 1px rgba(0, 0, 0, 0.15);\n",
              "      filter: drop-shadow(0px 1px 2px rgba(0, 0, 0, 0.3));\n",
              "      fill: #FFFFFF;\n",
              "    }\n",
              "  </style>\n",
              "\n",
              "      <script>\n",
              "        const buttonEl =\n",
              "          document.querySelector('#df-5f367bb7-e7d7-459b-aab7-9212b94a649a button.colab-df-convert');\n",
              "        buttonEl.style.display =\n",
              "          google.colab.kernel.accessAllowed ? 'block' : 'none';\n",
              "\n",
              "        async function convertToInteractive(key) {\n",
              "          const element = document.querySelector('#df-5f367bb7-e7d7-459b-aab7-9212b94a649a');\n",
              "          const dataTable =\n",
              "            await google.colab.kernel.invokeFunction('convertToInteractive',\n",
              "                                                     [key], {});\n",
              "          if (!dataTable) return;\n",
              "\n",
              "          const docLinkHtml = 'Like what you see? Visit the ' +\n",
              "            '<a target=\"_blank\" href=https://colab.research.google.com/notebooks/data_table.ipynb>data table notebook</a>'\n",
              "            + ' to learn more about interactive tables.';\n",
              "          element.innerHTML = '';\n",
              "          dataTable['output_type'] = 'display_data';\n",
              "          await google.colab.output.renderOutput(dataTable, element);\n",
              "          const docLink = document.createElement('div');\n",
              "          docLink.innerHTML = docLinkHtml;\n",
              "          element.appendChild(docLink);\n",
              "        }\n",
              "      </script>\n",
              "    </div>\n",
              "  </div>\n",
              "  "
            ],
            "text/plain": [
              "   id                                            english  \\\n",
              "0   0  how many movies are there whose dbo:director i...   \n",
              "1   1  what dbo:City 's dbo:founder is dbr:John_Forbe...   \n",
              "2   2  what is the dbo:River whose dbo:riverMouth is ...   \n",
              "3   3  what is the dbp:allegiance of dbr:John_Kotelaw...   \n",
              "4   4  what is the total number of dbp:race of the ra...   \n",
              "\n",
              "                                              sparql  \n",
              "0  select distinct count ( ?uri ) where { ?uri db...  \n",
              "1  select distinct ?uri where { ?uri dbo:founder ...  \n",
              "2  select distinct ?uri where { ?uri dbo:riverMou...  \n",
              "3  select distinct ?uri where { dbr:John_Kotelawa...  \n",
              "4  select distinct count ( ?uri ) where { ?x dbo:...  "
            ]
          },
          "execution_count": 4,
          "metadata": {},
          "output_type": "execute_result"
        }
      ],
      "source": [
        "train.head()"
      ]
    },
    {
      "cell_type": "markdown",
      "metadata": {
        "id": "pkaVN-LtEZZz"
      },
      "source": [
        "#### Preprocessing"
      ]
    },
    {
      "cell_type": "code",
      "execution_count": null,
      "metadata": {
        "id": "5f1J0ApUwdkH"
      },
      "outputs": [],
      "source": [
        "#Pour le préprocess de nos corpus nous nous sommes apperçus qu'avec SPARQL on retrouve beaucoup des tokens de la forme ?uri et dbr: ou dbo: avec des ponctuations collés à des caractères\n",
        "#Nos modèles avait des difficultés à traiter ces formes donc nous ajoutons des espaces pour traiter ce soucis entre les \":\" et les\"?\" pour l'ensemble de nos corpus\n",
        "\n",
        "\n",
        "def preprocess(sentence):\n",
        "\n",
        "  sentence = sentence.replace(':',' : ')\n",
        "  sentence = sentence.replace('?','? ')\n",
        "  return sentence\n",
        "\n"
      ]
    },
    {
      "cell_type": "code",
      "execution_count": null,
      "metadata": {
        "id": "LyUW3ZiinhIz"
      },
      "outputs": [],
      "source": [
        "# # On applique la fonction preprocess à nos données\n",
        "\n",
        "train['english']=train['english'].apply(preprocess)\n",
        "test['english']=test['english'].apply(preprocess)\n",
        "validation['english']=validation['english'].apply(preprocess)\n",
        "validation['sparql']=validation['sparql'].apply(preprocess)\n",
        "train['sparql'] = train['sparql'].apply(preprocess)"
      ]
    },
    {
      "cell_type": "markdown",
      "metadata": {
        "id": "HVF_MLJIEezp"
      },
      "source": [
        "#### Create Dataset PyTorch"
      ]
    },
    {
      "cell_type": "code",
      "execution_count": null,
      "metadata": {
        "id": "zPILgTiLC2n-"
      },
      "outputs": [],
      "source": [
        "import torchtext\n",
        "from torchtext.data.utils import get_tokenizer\n",
        "from torchtext.vocab import build_vocab_from_iterator, Vocab\n",
        "from torch.utils.data.dataset import Dataset\n",
        "from torchtext.data.functional import to_map_style_dataset\n",
        "from torch.utils.data import DataLoader\n",
        "from torchtext.vocab import build_vocab_from_iterator\n",
        "import torchtext.datasets as datasets\n",
        "from os.path import exists\n",
        "import spacy\n",
        "from torchtext.vocab import vocab\n",
        "\n",
        "#Ajout de jetons spéciaux <unk> pour les mots inconnus, <pad> pour le padding, <bos> pour les débuts de séquences, <bos> pour les fins de séquences\n",
        "SPECIALS = ['<unk>', '<pad>', '<bos>', '<eos>']\n",
        "\n",
        "#Get english and sparql tokenizer with spacy\n",
        "en_tokenizer = get_tokenizer('spacy', language='en_core_web_sm')\n",
        "\n",
        "\n",
        "sparql_tokenizer = get_tokenizer('spacy', language='en_core_web_sm')\n",
        "\n",
        "class TranslationDataset(Dataset):\n",
        "    def __init__(\n",
        "            self,\n",
        "            dataset,\n",
        "            en_vocab: Vocab,\n",
        "            sparql_vocab: Vocab,\n",
        "            en_tokenizer, \n",
        "            sparql_tokenizer\n",
        "        ):\n",
        "        super().__init__()\n",
        "\n",
        "\n",
        "\n",
        "        self.dataset = dataset\n",
        "        self.en_vocab = en_vocab\n",
        "        self.sparql_vocab = sparql_vocab\n",
        "        self.en_tokenizer = en_tokenizer\n",
        "        self.sparql_tokenizer = sparql_tokenizer\n",
        "    \n",
        "    def __len__(self):\n",
        "\n",
        "        return len(self.dataset)\n",
        "\n",
        "    def __getitem__(self, index: int) -> tuple:\n",
        "\n",
        "        # Get english and sparql sentence\n",
        "        en_sentence, sparql_sentence = self.dataset.iloc[index,1], self.dataset.iloc[index,2]\n",
        "\n",
        "        # We also add the beggining-of-sentence and end-of-sentence tokens\n",
        "        en_tokens = ['<bos>'] + self.en_tokenizer(en_sentence) + ['<eos>']\n",
        "        sparql_tokens = ['<bos>'] + self.sparql_tokenizer(sparql_sentence) + ['<eos>']\n",
        "\n",
        "        # To list of tokens\n",
        "        en_tokens = self.en_vocab(en_tokens)  \n",
        "        sparql_tokens = self.sparql_vocab(sparql_tokens)\n",
        "\n",
        "        return torch.LongTensor(en_tokens), torch.LongTensor(sparql_tokens)\n",
        "\n",
        "\n",
        "  \n",
        "\n",
        "#Function to build english and sparql vocabulary\n",
        "def build_voc(document, min_freq, specials):\n",
        "\n",
        "    voc = {}\n",
        "    for _, row in document.iterrows():\n",
        "      for word in row['english'].split(' '):\n",
        "        if word not in voc:\n",
        "            voc.update({word :  1})\n",
        "        else:\n",
        "            voc[word] += 1\n",
        "    \n",
        "    dictio_eng =  {key:voc[key] for key in voc if voc[key] >= min_freq}\n",
        "\n",
        "    vocab_en = vocab(dictio_eng, min_freq = min_freq, specials = specials)\n",
        "\n",
        "    voc = {}\n",
        "    for idx, row in document.iterrows():\n",
        "      for word in row['sparql'].split(' '):\n",
        "        if word not in voc:\n",
        "            voc.update({word :  1})\n",
        "        else:\n",
        "            voc[word] += 1\n",
        "\n",
        "    dictio_sparql =  {key:voc[key] for key in voc if voc[key] >= min_freq}\n",
        "    vocab_sparql = vocab(dictio_sparql, min_freq = min_freq, specials = specials)\n",
        "    \n",
        "    vocab_en.set_default_index(vocab_en['<unk>']) \n",
        "    vocab_sparql.set_default_index(vocab_sparql['<unk>']) \n",
        "\n",
        "    return vocab_en, vocab_sparql\n",
        "\n",
        "#Build datasets\n",
        "def build_datasets(\n",
        "        max_sequence_length: int,\n",
        "        min_token_freq: int,\n",
        "        en_tokenizer,\n",
        "        sparql_tokenizer,\n",
        "        train,\n",
        "        dataset\n",
        "    ) -> tuple:\n",
        "\n",
        "    datasets = [\n",
        "        samples for samples in [train, dataset[0], dataset[1]]\n",
        "    ]\n",
        "\n",
        "    en_vocab, sparql_vocab = build_voc(train, min_token_freq, SPECIALS)\n",
        "\n",
        "    datasets = [\n",
        "        TranslationDataset(samples, en_vocab, sparql_vocab, en_tokenizer, sparql_tokenizer)\n",
        "        for samples in datasets\n",
        "    ]\n",
        "\n",
        "    return datasets\n",
        "\n"
      ]
    },
    {
      "cell_type": "code",
      "execution_count": null,
      "metadata": {
        "colab": {
          "base_uri": "https://localhost:8080/"
        },
        "id": "gY7zgg_v3sLP",
        "outputId": "1d126f2a-d0b4-4ef5-bf5e-4881076f34d9"
      },
      "outputs": [
        {
          "name": "stdout",
          "output_type": "stream",
          "text": [
            "English vocabulary size: 4,235\n",
            "SPARQL vocabulary size: 4,023\n",
            "\n",
            "Training examples: 4,000\n",
            "Validation examples: 500\n",
            "Test examples: 500\n"
          ]
        }
      ],
      "source": [
        "# Instanciate the datasets\n",
        "\n",
        "MAX_SEQ_LEN = 128\n",
        "MIN_TOK_FREQ = 1\n",
        "train_dataset,val_dataset, test_dataset= build_datasets(\n",
        "    MAX_SEQ_LEN,\n",
        "    MIN_TOK_FREQ,\n",
        "    en_tokenizer,\n",
        "    sparql_tokenizer,\n",
        "    train=train,\n",
        "    dataset=[validation, test])\n",
        "\n",
        "train_voc_en=train_dataset.en_vocab\n",
        "train_voc_sparql=train_dataset.sparql_vocab\n",
        "\n",
        "print(f'English vocabulary size: {len(train_dataset.en_vocab):,}')\n",
        "print(f'SPARQL vocabulary size: {len(train_dataset.sparql_vocab):,}')\n",
        "\n",
        "print(f'\\nTraining examples: {len(train_dataset):,}')\n",
        "print(f'Validation examples: {len(val_dataset):,}')\n",
        "print(f'Test examples: {len(test_dataset):,}')"
      ]
    },
    {
      "cell_type": "markdown",
      "metadata": {
        "id": "J3HaH2sUEmXh"
      },
      "source": [
        "#### Model Transformer"
      ]
    },
    {
      "cell_type": "code",
      "execution_count": null,
      "metadata": {
        "id": "fwzqJrOXE2GS"
      },
      "outputs": [],
      "source": [
        "#Structure du modèle Transformer\n",
        "from torch.autograd import Variable\n",
        "\n",
        "class Transformer(nn.Module):\n",
        "\n",
        "    def __init__(\n",
        "            self,\n",
        "            n_tokens_src: int,\n",
        "            n_tokens_tgt: int,\n",
        "            n_heads: int,\n",
        "            dim_embedding: int,\n",
        "            dim_hidden: int,\n",
        "            n_layers: int,\n",
        "            dropout: float,\n",
        "            src_pad_idx: int,\n",
        "            tgt_pad_idx: int,\n",
        "        ):\n",
        "        super(Transformer,self).__init__()\n",
        "        self.n_tokens_src=n_tokens_src\n",
        "        self.n_tokens_tgt=n_tokens_tgt\n",
        "        self.n_heads=n_heads\n",
        "        self.dim_embedding=dim_embedding\n",
        "        self.dim_hidden=dim_hidden\n",
        "        self.n_layers=n_layers\n",
        "        self.dropout=dropout\n",
        "        self.src_pad_idx=src_pad_idx\n",
        "        self.tgt_pad_idx=tgt_pad_idx\n",
        "\n",
        "        self.dropoutfct=nn.Dropout(p=dropout, inplace=False)\n",
        "        self.embedsrc=nn.Embedding(num_embeddings=n_tokens_src,embedding_dim=dim_embedding,padding_idx=src_pad_idx)\n",
        "        self.embedtgt=nn.Embedding(num_embeddings=n_tokens_tgt,embedding_dim=dim_embedding,padding_idx=tgt_pad_idx)\n",
        "\n",
        "        self.transfct=nn.Transformer(self.dim_embedding,self.n_heads,self.n_layers,self.n_layers,self.dim_hidden,self.dropout,batch_first=True)\n",
        "\n",
        "        self.lin = nn.Linear(self.dim_embedding,self.n_tokens_tgt)\n",
        "\n",
        "\n",
        "\n",
        "    def forward(\n",
        "            self,\n",
        "            source: torch.LongTensor,\n",
        "            target: torch.LongTensor\n",
        "        ) -> torch.FloatTensor:\n",
        "\n",
        "        #On applique embedding\n",
        "        batch_size=source.shape[0]\n",
        "        src_seq_len=source.shape[1]\n",
        "\n",
        "        src_embed=self.embedsrc(source)\n",
        "        tgt_embed=self.embedtgt(target)\n",
        "\n",
        "        input_size=src_embed.shape[2]\n",
        "        \n",
        "\n",
        "        #On implémente l'encodage de position\n",
        "        max_len=5000\n",
        "        d_model=self.dim_embedding\n",
        "        pe = torch.zeros(max_len, d_model).to(source.device)\n",
        "        position = torch.arange(0, max_len).unsqueeze(1).to(source.device)\n",
        "        div_term = torch.exp(torch.arange(0, d_model, 2) *(-np.log(10000.0) / d_model)).to(source.device)\n",
        "        pe[:, 0::2] = torch.sin(position * div_term).to(source.device)\n",
        "        pe[:, 1::2] = torch.cos(position * div_term).to(source.device)\n",
        "        pe = pe.unsqueeze(0)\n",
        "        self.register_buffer('pe', pe)\n",
        "\n",
        "        src =src_embed+ Variable(pe[:, :src_embed.shape[1]], requires_grad=False)\n",
        "        src=self.dropoutfct(src)\n",
        "\n",
        "        tgt =tgt_embed+ Variable(pe[:, :tgt_embed.shape[1]], requires_grad=False)\n",
        "        tgt=self.dropoutfct(tgt)\n",
        "\n",
        "\n",
        "        #On crée les masques\n",
        "        N,trg_len=target.shape\n",
        "        N,src_len=source.shape\n",
        "        tgt_mask_attn = torch.triu(torch.ones((trg_len,trg_len),dtype=torch.bool),diagonal=1).to(source.device)\n",
        "        tgt_key_paddig_mask=(target == self.tgt_pad_idx).to(source.device)\n",
        "        src_key_paddig_mask=(source == self.src_pad_idx).to(source.device)\n",
        "\n",
        "\n",
        "        #On applique le tranformer\n",
        "        y=self.transfct(src,tgt,tgt_mask=tgt_mask_attn,src_key_padding_mask=src_key_paddig_mask,tgt_key_padding_mask=tgt_key_paddig_mask)\n",
        "\n",
        "        lin=self.lin.to(source.device)\n",
        "        y=lin(y).to(source.device)\n",
        "  \n",
        "\n",
        "        return y\n",
        "\n",
        "\n"
      ]
    },
    {
      "cell_type": "markdown",
      "metadata": {
        "id": "ekDMpSwiEqO7"
      },
      "source": [
        "#### Fonctions pour l'entrainement et l'évaluation"
      ]
    },
    {
      "cell_type": "code",
      "execution_count": null,
      "metadata": {
        "id": "FnLlJi4-GleV"
      },
      "outputs": [],
      "source": [
        " \n",
        "import einops\n",
        "from torchinfo import summary\n",
        "from sklearn.metrics import accuracy_score\n",
        "\n",
        "def accuracy_fct(\n",
        "        real_tokens: torch.FloatTensor,\n",
        "        probs_tokens: torch.FloatTensor,\n",
        "        tgt_pad_idx: int,\n",
        "    ) -> torch.FloatTensor:\n",
        "\n",
        "    total = (real_tokens != tgt_pad_idx).sum()\n",
        "\n",
        "    _, pred_tokens = probs_tokens.topk(k=1, dim=-1)  \n",
        "    real_tokens = einops.repeat(real_tokens, 'b -> b k', k=1) \n",
        "\n",
        "    # Calcule de l'accuracy avec prise en compte des pads\n",
        "    good = (pred_tokens == real_tokens) & (real_tokens != tgt_pad_idx)\n",
        "    acc = good.sum() / total\n",
        "    return acc\n",
        "\n",
        "\n",
        "def loss_batch(\n",
        "        model: nn.Module,\n",
        "        source: torch.LongTensor,\n",
        "        target: torch.LongTensor,\n",
        "        config: dict,\n",
        "    )-> dict:\n",
        "\n",
        "    device = config['device']\n",
        "    loss_fn = config['loss'].to(device)\n",
        "\n",
        "    source, target = source.to(device), target.to(device)\n",
        "    target_in, target_out = target[:, :-1], target[:, 1:]\n",
        "\n",
        "    # Prédiction avec notre modèle\n",
        "    pred = model(source, target_in)\n",
        "    pred = pred.view(-1, pred.shape[2])  \n",
        "    target_out = target_out.flatten()  \n",
        "\n",
        "    #Calcul de la loss et de l'accuracy\n",
        "    loss = loss_fn(pred, target_out)\n",
        "    accuracy=accuracy_fct(target_out, pred,config['tgt_pad_idx'])\n",
        "\n",
        "    return loss,accuracy\n",
        "\n",
        "\n",
        "def eval_model(model: nn.Module, dataloader: DataLoader, config: dict) -> dict:\n",
        "    \"\"\"Evaluer le modèle sur le dataset donné\n",
        "    \"\"\"\n",
        "    device = config['device']\n",
        "\n",
        "    model.to(device)\n",
        "    model.eval()\n",
        "\n",
        "    loss_tot=0\n",
        "    accuracy_tot=0\n",
        "    cnt=0\n",
        "\n",
        "    with torch.no_grad():\n",
        "        for source, target in dataloader:\n",
        "            cnt+=1\n",
        "            loss, accuracy = loss_batch(model, source, target, config)\n",
        "            loss_tot+=loss\n",
        "            accuracy_tot+=accuracy\n",
        "\n",
        "    loss_mean=loss_tot/cnt\n",
        "    accuracy_mean=accuracy_tot/cnt\n",
        "\n",
        "    return loss_mean,accuracy_mean\n",
        "  \n",
        "\n",
        "def train_model(model: nn.Module, config: dict):\n",
        "  \n",
        "    train_loader, val_loader = config['train_loader'], config['val_loader']\n",
        "    train_dataset, val_dataset = train_loader.dataset.dataset, val_loader.dataset.dataset\n",
        "    optimizer = config['optimizer']\n",
        "    device = config['device']\n",
        "\n",
        "    for e in range(config['epochs']):\n",
        "        print(f'\\nEpoch {e+1}')\n",
        "\n",
        "        model.to(device)\n",
        "        model.train()\n",
        "\n",
        "        loss_train_tot=0\n",
        "        accuracy_train_tot=0\n",
        "        loss_eval_tot=0\n",
        "        accuracy_eval_tot=0\n",
        "\n",
        "        nb_batchs=0\n",
        "        for batch_id, (source, target) in enumerate(train_loader):\n",
        "          nb_batchs+=1\n",
        "\n",
        "          optimizer.zero_grad()\n",
        "          loss_train,accuracy_train = loss_batch(model, source, target, config)\n",
        "\n",
        "          loss_train.backward()\n",
        "\n",
        "          optimizer.step()\n",
        "\n",
        "          loss_train_tot+=loss_train\n",
        "          accuracy_train_tot+=accuracy_train\n",
        "\n",
        "          loss_eval,accuracy_eval = eval_model(model, val_loader, config)\n",
        "\n",
        "          loss_eval_tot+=loss_eval\n",
        "          accuracy_eval_tot+=accuracy_eval\n",
        "\n",
        "\n",
        "\n",
        "        loss_train_mean=loss_train_tot/nb_batchs\n",
        "        accuracy_train_mean=accuracy_train_tot/nb_batchs\n",
        "\n",
        "        loss_eval_mean=loss_train_tot/nb_batchs\n",
        "        accuracy_eval_mean=accuracy_train_tot/nb_batchs\n",
        "\n",
        "        print(\"Train Loss: %6.2f\" %loss_train_mean, end=' ')\n",
        "        print(\"Accuracy : %6.2f\" %accuracy_train_mean)\n",
        "        print(\"Eval Loss: %6.2f\" %loss_eval_mean, end=' ')\n",
        "        print(\"Accuracy : %6.2f\" % accuracy_eval_mean)\n",
        "\n",
        "\n",
        "    \n"
      ]
    },
    {
      "cell_type": "markdown",
      "metadata": {
        "id": "dhJSJKAPEwKo"
      },
      "source": [
        "#### Generate batch"
      ]
    },
    {
      "cell_type": "code",
      "execution_count": null,
      "metadata": {
        "id": "6Y7reB6lH09Z"
      },
      "outputs": [],
      "source": [
        "#Fonction pour générer les batch avec le padding\n",
        "def generate_batch(data_batch: list, src_pad_idx: int, tgt_pad_idx: int) -> tuple:\n",
        "\n",
        "    en_batch, sparql_batch = [], []\n",
        "    for en_tokens, sparql_tokens in data_batch:\n",
        "        en_batch.append(en_tokens)\n",
        "        sparql_batch.append(sparql_tokens)\n",
        "\n",
        "    en_batch = pad_sequence(en_batch, padding_value=src_pad_idx, batch_first=True)\n",
        "    sparql_batch = pad_sequence(sparql_batch, padding_value=tgt_pad_idx, batch_first=True)\n",
        "    return en_batch, sparql_batch"
      ]
    },
    {
      "cell_type": "markdown",
      "metadata": {
        "id": "5wVMZtPAE2Zq"
      },
      "source": [
        "#### Config model"
      ]
    },
    {
      "cell_type": "code",
      "execution_count": null,
      "metadata": {
        "colab": {
          "base_uri": "https://localhost:8080/"
        },
        "id": "zb4ZwM19G0js",
        "outputId": "dd167b64-1726-4461-e256-d6de9f2bc310"
      },
      "outputs": [
        {
          "name": "stdout",
          "output_type": "stream",
          "text": [
            "Transformer(\n",
            "  (dropoutfct): Dropout(p=0.1, inplace=False)\n",
            "  (embedsrc): Embedding(4235, 196, padding_idx=1)\n",
            "  (embedtgt): Embedding(4023, 196, padding_idx=1)\n",
            "  (transfct): Transformer(\n",
            "    (encoder): TransformerEncoder(\n",
            "      (layers): ModuleList(\n",
            "        (0): TransformerEncoderLayer(\n",
            "          (self_attn): MultiheadAttention(\n",
            "            (out_proj): NonDynamicallyQuantizableLinear(in_features=196, out_features=196, bias=True)\n",
            "          )\n",
            "          (linear1): Linear(in_features=196, out_features=256, bias=True)\n",
            "          (dropout): Dropout(p=0.1, inplace=False)\n",
            "          (linear2): Linear(in_features=256, out_features=196, bias=True)\n",
            "          (norm1): LayerNorm((196,), eps=1e-05, elementwise_affine=True)\n",
            "          (norm2): LayerNorm((196,), eps=1e-05, elementwise_affine=True)\n",
            "          (dropout1): Dropout(p=0.1, inplace=False)\n",
            "          (dropout2): Dropout(p=0.1, inplace=False)\n",
            "        )\n",
            "        (1): TransformerEncoderLayer(\n",
            "          (self_attn): MultiheadAttention(\n",
            "            (out_proj): NonDynamicallyQuantizableLinear(in_features=196, out_features=196, bias=True)\n",
            "          )\n",
            "          (linear1): Linear(in_features=196, out_features=256, bias=True)\n",
            "          (dropout): Dropout(p=0.1, inplace=False)\n",
            "          (linear2): Linear(in_features=256, out_features=196, bias=True)\n",
            "          (norm1): LayerNorm((196,), eps=1e-05, elementwise_affine=True)\n",
            "          (norm2): LayerNorm((196,), eps=1e-05, elementwise_affine=True)\n",
            "          (dropout1): Dropout(p=0.1, inplace=False)\n",
            "          (dropout2): Dropout(p=0.1, inplace=False)\n",
            "        )\n",
            "        (2): TransformerEncoderLayer(\n",
            "          (self_attn): MultiheadAttention(\n",
            "            (out_proj): NonDynamicallyQuantizableLinear(in_features=196, out_features=196, bias=True)\n",
            "          )\n",
            "          (linear1): Linear(in_features=196, out_features=256, bias=True)\n",
            "          (dropout): Dropout(p=0.1, inplace=False)\n",
            "          (linear2): Linear(in_features=256, out_features=196, bias=True)\n",
            "          (norm1): LayerNorm((196,), eps=1e-05, elementwise_affine=True)\n",
            "          (norm2): LayerNorm((196,), eps=1e-05, elementwise_affine=True)\n",
            "          (dropout1): Dropout(p=0.1, inplace=False)\n",
            "          (dropout2): Dropout(p=0.1, inplace=False)\n",
            "        )\n",
            "      )\n",
            "      (norm): LayerNorm((196,), eps=1e-05, elementwise_affine=True)\n",
            "    )\n",
            "    (decoder): TransformerDecoder(\n",
            "      (layers): ModuleList(\n",
            "        (0): TransformerDecoderLayer(\n",
            "          (self_attn): MultiheadAttention(\n",
            "            (out_proj): NonDynamicallyQuantizableLinear(in_features=196, out_features=196, bias=True)\n",
            "          )\n",
            "          (multihead_attn): MultiheadAttention(\n",
            "            (out_proj): NonDynamicallyQuantizableLinear(in_features=196, out_features=196, bias=True)\n",
            "          )\n",
            "          (linear1): Linear(in_features=196, out_features=256, bias=True)\n",
            "          (dropout): Dropout(p=0.1, inplace=False)\n",
            "          (linear2): Linear(in_features=256, out_features=196, bias=True)\n",
            "          (norm1): LayerNorm((196,), eps=1e-05, elementwise_affine=True)\n",
            "          (norm2): LayerNorm((196,), eps=1e-05, elementwise_affine=True)\n",
            "          (norm3): LayerNorm((196,), eps=1e-05, elementwise_affine=True)\n",
            "          (dropout1): Dropout(p=0.1, inplace=False)\n",
            "          (dropout2): Dropout(p=0.1, inplace=False)\n",
            "          (dropout3): Dropout(p=0.1, inplace=False)\n",
            "        )\n",
            "        (1): TransformerDecoderLayer(\n",
            "          (self_attn): MultiheadAttention(\n",
            "            (out_proj): NonDynamicallyQuantizableLinear(in_features=196, out_features=196, bias=True)\n",
            "          )\n",
            "          (multihead_attn): MultiheadAttention(\n",
            "            (out_proj): NonDynamicallyQuantizableLinear(in_features=196, out_features=196, bias=True)\n",
            "          )\n",
            "          (linear1): Linear(in_features=196, out_features=256, bias=True)\n",
            "          (dropout): Dropout(p=0.1, inplace=False)\n",
            "          (linear2): Linear(in_features=256, out_features=196, bias=True)\n",
            "          (norm1): LayerNorm((196,), eps=1e-05, elementwise_affine=True)\n",
            "          (norm2): LayerNorm((196,), eps=1e-05, elementwise_affine=True)\n",
            "          (norm3): LayerNorm((196,), eps=1e-05, elementwise_affine=True)\n",
            "          (dropout1): Dropout(p=0.1, inplace=False)\n",
            "          (dropout2): Dropout(p=0.1, inplace=False)\n",
            "          (dropout3): Dropout(p=0.1, inplace=False)\n",
            "        )\n",
            "        (2): TransformerDecoderLayer(\n",
            "          (self_attn): MultiheadAttention(\n",
            "            (out_proj): NonDynamicallyQuantizableLinear(in_features=196, out_features=196, bias=True)\n",
            "          )\n",
            "          (multihead_attn): MultiheadAttention(\n",
            "            (out_proj): NonDynamicallyQuantizableLinear(in_features=196, out_features=196, bias=True)\n",
            "          )\n",
            "          (linear1): Linear(in_features=196, out_features=256, bias=True)\n",
            "          (dropout): Dropout(p=0.1, inplace=False)\n",
            "          (linear2): Linear(in_features=256, out_features=196, bias=True)\n",
            "          (norm1): LayerNorm((196,), eps=1e-05, elementwise_affine=True)\n",
            "          (norm2): LayerNorm((196,), eps=1e-05, elementwise_affine=True)\n",
            "          (norm3): LayerNorm((196,), eps=1e-05, elementwise_affine=True)\n",
            "          (dropout1): Dropout(p=0.1, inplace=False)\n",
            "          (dropout2): Dropout(p=0.1, inplace=False)\n",
            "          (dropout3): Dropout(p=0.1, inplace=False)\n",
            "        )\n",
            "      )\n",
            "      (norm): LayerNorm((196,), eps=1e-05, elementwise_affine=True)\n",
            "    )\n",
            "  )\n",
            "  (lin): Linear(in_features=196, out_features=4023, bias=True)\n",
            ")\n"
          ]
        }
      ],
      "source": [
        "# \n",
        "\n",
        "config = {\n",
        "    # General parameters\n",
        "    'epochs': 30, #30\n",
        "    'batch_size': 128,\n",
        "    'lr': 1e-3,\n",
        "    'betas': (0.9, 0.99),\n",
        "    'clip': 5,\n",
        "    'device': 'cuda' if torch.cuda.is_available() else 'cpu',\n",
        "\n",
        "    # Model parameters\n",
        "    'n_tokens_src': len(train_voc_en),\n",
        "    'n_tokens_tgt': len(train_voc_sparql),\n",
        "    'n_heads': 4,\n",
        "    'dim_embedding': 196,\n",
        "    'dim_hidden': 256,\n",
        "    'n_layers': 3,\n",
        "    'dropout': 0.1,\n",
        "    'model_type': 'RNN',\n",
        "\n",
        "    # Others\n",
        "    'max_sequence_length': MAX_SEQ_LEN,\n",
        "    'min_token_freq': MIN_TOK_FREQ,\n",
        "    'src_vocab': train_voc_en,\n",
        "    'tgt_vocab': train_voc_sparql,\n",
        "    'src_tokenizer': en_tokenizer,\n",
        "    'tgt_tokenizer': sparql_tokenizer,\n",
        "    'src_pad_idx': train_dataset.en_vocab['<pad>'],\n",
        "    'tgt_pad_idx': train_dataset.sparql_vocab['<pad>'],\n",
        "}\n",
        "\n",
        "\n",
        "config['train_loader'] = DataLoader(\n",
        "    train_dataset,\n",
        "    batch_size=config['batch_size'],\n",
        "    shuffle=True,\n",
        "    collate_fn=lambda batch: generate_batch(batch, config['src_pad_idx'], config['tgt_pad_idx'])\n",
        ")\n",
        "\n",
        "config['val_loader'] = DataLoader(\n",
        "    val_dataset,\n",
        "    batch_size=config['batch_size'],\n",
        "    shuffle=True,\n",
        "    collate_fn=lambda batch: generate_batch(batch, config['src_pad_idx'], config['tgt_pad_idx'])\n",
        ")\n",
        "\n",
        "\n",
        "model = Transformer(\n",
        "    config['n_tokens_src'],\n",
        "    config['n_tokens_tgt'],\n",
        "    config['n_heads'],\n",
        "    config['dim_embedding'],\n",
        "    config['dim_hidden'],\n",
        "    config['n_layers'],\n",
        "    config['dropout'],\n",
        "    config['src_pad_idx'],\n",
        "    config['tgt_pad_idx'],\n",
        ")\n",
        "\n",
        "\n",
        "\n",
        "print(model)\n",
        "\n",
        "\n",
        "config['optimizer'] = optim.Adam(\n",
        "    model.parameters(),\n",
        "    lr=config['lr'],\n",
        "    betas=config['betas'],\n",
        ")\n",
        "\n",
        "weight_classes = torch.ones(config['n_tokens_tgt'], dtype=torch.float)\n",
        "weight_classes[config['tgt_vocab']['<unk>']] = 0.1  \n",
        "config['loss'] = nn.CrossEntropyLoss(\n",
        "    weight=weight_classes,\n",
        "    ignore_index=config['tgt_pad_idx'],  \n",
        ")\n",
        "\n",
        "\n",
        "\n"
      ]
    },
    {
      "cell_type": "code",
      "execution_count": null,
      "metadata": {
        "id": "FcLJXIhZe_bV"
      },
      "outputs": [],
      "source": [
        "def train_model(model: nn.Module, config: dict):\n",
        "  \n",
        "    train_loader, val_loader = config['train_loader'], config['val_loader']\n",
        "    train_dataset, val_dataset = train_loader.dataset.dataset, val_loader.dataset.dataset\n",
        "    optimizer = config['optimizer']\n",
        "    device = config['device']\n",
        "\n",
        "    for e in range(config['epochs']):\n",
        "        print(f'\\nEpoch {e+1}')\n",
        "\n",
        "        model.to(device)\n",
        "        model.train()\n",
        "\n",
        "        loss_train_tot=0\n",
        "        accuracy_train_tot=0\n",
        "        loss_eval_tot=0\n",
        "        accuracy_eval_tot=0\n",
        "\n",
        "        nb_batchs=0\n",
        "        for batch_id, (source, target) in enumerate(train_loader):\n",
        "          nb_batchs+=1\n",
        "\n",
        "          optimizer.zero_grad()\n",
        "          loss_train,accuracy_train = loss_batch(model, source, target, config)\n",
        "\n",
        "          loss_train.backward()\n",
        "\n",
        "          optimizer.step()\n",
        "\n",
        "          loss_train_tot+=loss_train\n",
        "          accuracy_train_tot+=accuracy_train\n",
        "\n",
        "          loss_eval,accuracy_eval = eval_model(model, val_loader, config)\n",
        "\n",
        "          loss_eval_tot+=loss_eval\n",
        "          accuracy_eval_tot+=accuracy_eval\n",
        "\n",
        "\n",
        "\n",
        "        loss_train_mean=loss_train_tot/nb_batchs\n",
        "        accuracy_train_mean=accuracy_train_tot/nb_batchs\n",
        "\n",
        "        loss_eval_mean=loss_train_tot/nb_batchs\n",
        "        accuracy_eval_mean=accuracy_train_tot/nb_batchs\n",
        "\n",
        "        print(\"Train Loss: %6.2f\" %loss_train_mean, end=' ')\n",
        "        print(\"Accuracy : %6.2f\" %accuracy_train_mean)\n",
        "        print(\"Eval Loss: %6.2f\" %loss_eval_mean, end=' ')\n",
        "        print(\"Accuracy : %6.2f\" % accuracy_eval_mean)\n",
        "\n",
        "\n",
        "\n"
      ]
    },
    {
      "cell_type": "markdown",
      "metadata": {
        "id": "-NbcXBzYE5m5"
      },
      "source": [
        "#### Training"
      ]
    },
    {
      "cell_type": "code",
      "execution_count": null,
      "metadata": {
        "colab": {
          "base_uri": "https://localhost:8080/"
        },
        "id": "TtV6G-tBG-iv",
        "outputId": "3c648604-a873-4b66-c898-5f56827de3a3"
      },
      "outputs": [
        {
          "name": "stdout",
          "output_type": "stream",
          "text": [
            "\n",
            "Epoch 1\n"
          ]
        },
        {
          "name": "stderr",
          "output_type": "stream",
          "text": [
            "/usr/local/lib/python3.8/dist-packages/torch/nn/modules/transformer.py:276: UserWarning: The PyTorch API of nested tensors is in prototype stage and will change in the near future. (Triggered internally at ../aten/src/ATen/NestedTensorImpl.cpp:175.)\n",
            "  output = torch._nested_tensor_from_mask(output, src_key_padding_mask.logical_not(), mask_check=False)\n"
          ]
        },
        {
          "name": "stdout",
          "output_type": "stream",
          "text": [
            "Train Loss:   3.45 Accuracy :   0.48\n",
            "Eval Loss:   3.45 Accuracy :   0.48\n",
            "\n",
            "Epoch 2\n",
            "Train Loss:   1.23 Accuracy :   0.76\n",
            "Eval Loss:   1.23 Accuracy :   0.76\n",
            "\n",
            "Epoch 3\n",
            "Train Loss:   0.97 Accuracy :   0.83\n",
            "Eval Loss:   0.97 Accuracy :   0.83\n",
            "\n",
            "Epoch 4\n",
            "Train Loss:   0.87 Accuracy :   0.85\n",
            "Eval Loss:   0.87 Accuracy :   0.85\n",
            "\n",
            "Epoch 5\n",
            "Train Loss:   0.80 Accuracy :   0.86\n",
            "Eval Loss:   0.80 Accuracy :   0.86\n",
            "\n",
            "Epoch 6\n",
            "Train Loss:   0.77 Accuracy :   0.86\n",
            "Eval Loss:   0.77 Accuracy :   0.86\n",
            "\n",
            "Epoch 7\n",
            "Train Loss:   0.74 Accuracy :   0.87\n",
            "Eval Loss:   0.74 Accuracy :   0.87\n",
            "\n",
            "Epoch 8\n",
            "Train Loss:   0.69 Accuracy :   0.87\n",
            "Eval Loss:   0.69 Accuracy :   0.87\n",
            "\n",
            "Epoch 9\n",
            "Train Loss:   0.65 Accuracy :   0.88\n",
            "Eval Loss:   0.65 Accuracy :   0.88\n",
            "\n",
            "Epoch 10\n",
            "Train Loss:   0.58 Accuracy :   0.89\n",
            "Eval Loss:   0.58 Accuracy :   0.89\n",
            "\n",
            "Epoch 11\n",
            "Train Loss:   0.48 Accuracy :   0.91\n",
            "Eval Loss:   0.48 Accuracy :   0.91\n",
            "\n",
            "Epoch 12\n",
            "Train Loss:   0.36 Accuracy :   0.94\n",
            "Eval Loss:   0.36 Accuracy :   0.94\n",
            "\n",
            "Epoch 13\n",
            "Train Loss:   0.27 Accuracy :   0.95\n",
            "Eval Loss:   0.27 Accuracy :   0.95\n",
            "\n",
            "Epoch 14\n",
            "Train Loss:   0.20 Accuracy :   0.96\n",
            "Eval Loss:   0.20 Accuracy :   0.96\n",
            "\n",
            "Epoch 15\n",
            "Train Loss:   0.16 Accuracy :   0.97\n",
            "Eval Loss:   0.16 Accuracy :   0.97\n",
            "\n",
            "Epoch 16\n",
            "Train Loss:   0.13 Accuracy :   0.98\n",
            "Eval Loss:   0.13 Accuracy :   0.98\n",
            "\n",
            "Epoch 17\n",
            "Train Loss:   0.09 Accuracy :   0.99\n",
            "Eval Loss:   0.09 Accuracy :   0.99\n",
            "\n",
            "Epoch 18\n",
            "Train Loss:   0.07 Accuracy :   0.99\n",
            "Eval Loss:   0.07 Accuracy :   0.99\n",
            "\n",
            "Epoch 19\n",
            "Train Loss:   0.05 Accuracy :   0.99\n",
            "Eval Loss:   0.05 Accuracy :   0.99\n",
            "\n",
            "Epoch 20\n",
            "Train Loss:   0.03 Accuracy :   0.99\n",
            "Eval Loss:   0.03 Accuracy :   0.99\n",
            "\n",
            "Epoch 21\n",
            "Train Loss:   0.03 Accuracy :   0.99\n",
            "Eval Loss:   0.03 Accuracy :   0.99\n",
            "\n",
            "Epoch 22\n",
            "Train Loss:   0.02 Accuracy :   1.00\n",
            "Eval Loss:   0.02 Accuracy :   1.00\n",
            "\n",
            "Epoch 23\n",
            "Train Loss:   0.02 Accuracy :   0.99\n",
            "Eval Loss:   0.02 Accuracy :   0.99\n",
            "\n",
            "Epoch 24\n",
            "Train Loss:   0.03 Accuracy :   0.99\n",
            "Eval Loss:   0.03 Accuracy :   0.99\n",
            "\n",
            "Epoch 25\n",
            "Train Loss:   0.02 Accuracy :   0.99\n",
            "Eval Loss:   0.02 Accuracy :   0.99\n",
            "\n",
            "Epoch 26\n",
            "Train Loss:   0.02 Accuracy :   0.99\n",
            "Eval Loss:   0.02 Accuracy :   0.99\n",
            "\n",
            "Epoch 27\n",
            "Train Loss:   0.01 Accuracy :   1.00\n",
            "Eval Loss:   0.01 Accuracy :   1.00\n",
            "\n",
            "Epoch 28\n",
            "Train Loss:   0.01 Accuracy :   1.00\n",
            "Eval Loss:   0.01 Accuracy :   1.00\n",
            "\n",
            "Epoch 29\n",
            "Train Loss:   0.01 Accuracy :   1.00\n",
            "Eval Loss:   0.01 Accuracy :   1.00\n",
            "\n",
            "Epoch 30\n",
            "Train Loss:   0.01 Accuracy :   1.00\n",
            "Eval Loss:   0.01 Accuracy :   1.00\n"
          ]
        }
      ],
      "source": [
        "train_model(model, config)"
      ]
    },
    {
      "cell_type": "markdown",
      "metadata": {
        "id": "oYh5xo94nY-z"
      },
      "source": [
        "#### Predictions"
      ]
    },
    {
      "cell_type": "markdown",
      "metadata": {
        "id": "IATnPSwNnRhm"
      },
      "source": [
        "##### Test predictions"
      ]
    },
    {
      "cell_type": "code",
      "execution_count": null,
      "metadata": {
        "id": "NWcTF5Rdmupy"
      },
      "outputs": [],
      "source": [
        "def post_process(sentence: str) -> str:\n",
        "    \"\"\"Removes useless spaces.\n",
        "    \"\"\"\n",
        "    punc = {':'}\n",
        "    for p in punc:\n",
        "        sentence = sentence.replace(f' {p} ', p)\n",
        "    \n",
        "    punc = {'?'}\n",
        "    for p in punc:\n",
        "        sentence = sentence.replace(f'{p} ', p)\n",
        "    \n",
        "    return sentence"
      ]
    },
    {
      "cell_type": "code",
      "execution_count": null,
      "metadata": {
        "id": "2d8W7xJKne3s"
      },
      "outputs": [],
      "source": [
        "#Enlever les améliorations \n",
        "\n",
        "from tqdm import tqdm \n",
        "import random \n",
        "\n",
        "def append_prediction(\n",
        "        target: torch.FloatTensor,\n",
        "        prediction: torch.FloatTensor\n",
        "    ) -> torch.FloatTensor:\n",
        "    \"\"\"Ajoute le token prédit à la séquence cible \n",
        "    \"\"\"\n",
        "    batch_size, n_predictions = prediction.shape\n",
        "    n_tokens = target.shape[1]\n",
        "\n",
        "    target = einops.repeat(target, 'b t -> b c t', c=n_predictions)  \n",
        "    prediction = prediction.unsqueeze(dim=2)  \n",
        "\n",
        "    target = torch.cat((target, prediction), dim=2)  \n",
        "    target = target.view(batch_size*n_predictions, n_tokens+1)  # [batch_size * n_beams, n_tokens+1]\n",
        "    return target\n",
        "\n",
        "def predict_test_model(model: nn.Module, config: dict, dataset, validation:bool):\n",
        "\n",
        "  test_loader = DataLoader(\n",
        "    dataset, config['src_pad_idx'], config['tgt_pad_idx'])\n",
        "  \n",
        "  tgt_vocab = test_loader.dataset.sparql_vocab\n",
        "  src_vocab = test_loader.dataset.en_vocab\n",
        "  src_tokenizer = test_loader.dataset.en_tokenizer\n",
        "  tgt_tokenizer = test_loader.dataset.sparql_tokenizer\n",
        "  \n",
        "  device = config['device']\n",
        "  max_sequence_length = config['max_sequence_length']\n",
        "  tgt_pad_idx = config['tgt_pad_idx']\n",
        "\n",
        "  EOS_IDX = tgt_vocab['<eos>']\n",
        "  predictions = []\n",
        "\n",
        "  accuracies = [] #store accuracy for each sample \n",
        "\n",
        "  for idx, content in tqdm(test_loader.dataset.dataset.iterrows()):\n",
        "\n",
        "    source = content[1]\n",
        "\n",
        "    src_tokens_str = ['<bos>'] + src_tokenizer(source) + ['<eos>']\n",
        "    src_tokens = src_vocab(src_tokens_str)\n",
        "\n",
        "    tgt_tokens = ['<bos>']\n",
        "    tgt_tokens = tgt_vocab(tgt_tokens)\n",
        "    \n",
        "    # To tensor and add unitary batch dimension\n",
        "    src_tokens = torch.LongTensor(src_tokens).to(device)\n",
        "    tgt_tokens = torch.LongTensor(tgt_tokens).unsqueeze(dim=0).to(device)\n",
        "    target_probs = torch.FloatTensor([1]).to(device)\n",
        "    \n",
        "    model.to(device)\n",
        "\n",
        "    ### boucle sur longueur de la prediction \n",
        "    with torch.no_grad():\n",
        "        while tgt_tokens.shape[1] < 100:\n",
        "\n",
        "          _, n_tokens = tgt_tokens.shape #batch_size = 1\n",
        "    \n",
        "          src = einops.repeat(src_tokens, 't -> b t', b=1)\n",
        "          predicted = model.forward(src, tgt_tokens)\n",
        "\n",
        "          pred_probs, pred_idx = predicted[:,-1].topk(k=1, dim=-1)\n",
        "\n",
        "          tgt_tokens = append_prediction(tgt_tokens, pred_idx)      \n",
        "          \n",
        "    ###  \n",
        "\n",
        "    tgt_tokens = tgt_tokens.view(-1)  \n",
        "\n",
        "\n",
        "    pred_sentence = list(tgt_tokens)[1:] #Remove <bos> token\n",
        "    pred_sentence = list(takewhile(lambda t: t != EOS_IDX, pred_sentence))\n",
        "    pred_sentence = tgt_vocab.lookup_tokens(pred_sentence)\n",
        "\n",
        "\n",
        "    pred_sentence = ' '.join(pred_sentence)\n",
        "\n",
        "    if validation:\n",
        "\n",
        "      #calculer accuracy pour le cas d'une validation \n",
        "      real = content[2]\n",
        "\n",
        "      n=0\n",
        "      m=0\n",
        "\n",
        "      ## regarder dimensions\n",
        "      real = tgt_tokenizer(real)\n",
        "      tgt = tgt_tokenizer(pred_sentence)\n",
        "\n",
        "      if len(real) > len(tgt):\n",
        "        n = len(real)-len(tgt)\n",
        "      \n",
        "      \n",
        "      if len(real) < len(tgt):\n",
        "        m = len(tgt)-len(real)\n",
        "          \n",
        "      \n",
        "      real_tokens = ['<bos>'] + real + m*['<pad>'] + ['<eos>']\n",
        "      real_tokens = tgt_vocab(real_tokens)\n",
        "\n",
        "      tgt_tokens = ['<bos>'] + tgt + n*['<pad>'] + ['<eos>']\n",
        "      tgt_tokens = tgt_vocab(tgt_tokens)\n",
        "\n",
        "      tgt_tokens = torch.LongTensor(tgt_tokens).unsqueeze(dim=0).to(device)\n",
        "\n",
        "      real_tokens = torch.LongTensor(real_tokens).unsqueeze(dim=0).to(device)\n",
        "      \n",
        "      real_tokens = real_tokens.flatten()  \n",
        "      tgt_tokens = tgt_tokens.flatten()\n",
        "\n",
        "      total = (real_tokens != tgt_pad_idx).sum()\n",
        "    \n",
        "      good = (tgt_tokens == real_tokens) & (real_tokens != tgt_pad_idx)\n",
        "      \n",
        "      acc = good.sum() / total\n",
        "\n",
        "      print(\"Accuracy : %6.2f\" % acc)\n",
        "\n",
        "      accuracies.append(acc.cpu().detach().numpy())\n",
        "\n",
        "\n",
        "    pred_sentence = post_process(pred_sentence)\n",
        "    if validation: \n",
        "      predictions.append([pred_sentence, post_process(content[2]), acc.cpu().detach().numpy()])\n",
        "    else:\n",
        "      predictions.append(pred_sentence)\n",
        "\n",
        "\n",
        "  if validation:\n",
        "    preds = pd.DataFrame(np.array(predictions), columns=[\"translation\", \"ground truth\", \"accuracy\"])\n",
        "  else:\n",
        "    preds = pd.DataFrame(np.array(predictions), columns=[\"translation\"])\n",
        "  preds.index.name = \"id\"\n",
        "\n",
        "  if validation:\n",
        "    final_acc = sum(accuracies)/len(accuracies)\n",
        "    print(\"Accuracy : %6.2f\" % final_acc)\n",
        "  else : \n",
        "    final_acc = 0\n",
        "  \n",
        "  return preds, final_acc"
      ]
    },
    {
      "cell_type": "markdown",
      "metadata": {
        "id": "8BHCgOJzGSLc"
      },
      "source": [
        "Pourquoi on a {21: 'Emel_(magazine', 22: ')'} dans temp_dict à un moment? \n",
        "\n",
        "On voudrait {21: 'Emel_(magazine)'}\n",
        "-> en_tokenizer ?\n",
        "\n",
        "TODO :\n",
        "- gestion des mots inconnus\n",
        "  - pour l'instant random choice dans le dict mais voir pour un choix plus intelligent \n",
        "  - OU tokeniser en prenant le mot entier et sans couper à la fermeture de parenthèse ou au tiret - \n",
        "- pour la suppression des ) l'ordre importe donc à ré-implémenter (ici on suppr que si y en a pas mais si y en a on suppr pas mais on devrait en fonction de l'ordre) + remove : eneleve le premier element qui match donc à ré-implémenter pour plusieurs\n",
        "\n",
        "Ajout 7/12 :\n",
        "- suppression des ) si pas ( avant \n",
        "  - (sans \")\": 0.85 sinon 0.75) \n",
        "- modification du calcul l'accuracy "
      ]
    },
    {
      "cell_type": "code",
      "execution_count": null,
      "metadata": {
        "colab": {
          "base_uri": "https://localhost:8080/"
        },
        "id": "kze8Z1woDP03",
        "outputId": "3ebbb6fc-908a-434b-8f2a-e99eeec1da15"
      },
      "outputs": [
        {
          "name": "stderr",
          "output_type": "stream",
          "text": [
            "1it [00:00,  1.26it/s]"
          ]
        },
        {
          "name": "stdout",
          "output_type": "stream",
          "text": [
            "Accuracy :   0.53\n"
          ]
        },
        {
          "name": "stderr",
          "output_type": "stream",
          "text": [
            "\r2it [00:01,  1.25it/s]"
          ]
        },
        {
          "name": "stdout",
          "output_type": "stream",
          "text": [
            "Accuracy :   0.44\n"
          ]
        },
        {
          "name": "stderr",
          "output_type": "stream",
          "text": [
            "\r3it [00:02,  1.24it/s]"
          ]
        },
        {
          "name": "stdout",
          "output_type": "stream",
          "text": [
            "Accuracy :   0.39\n"
          ]
        },
        {
          "name": "stderr",
          "output_type": "stream",
          "text": [
            "\r4it [00:03,  1.25it/s]"
          ]
        },
        {
          "name": "stdout",
          "output_type": "stream",
          "text": [
            "Accuracy :   0.48\n"
          ]
        },
        {
          "name": "stderr",
          "output_type": "stream",
          "text": [
            "\r5it [00:03,  1.27it/s]"
          ]
        },
        {
          "name": "stdout",
          "output_type": "stream",
          "text": [
            "Accuracy :   0.37\n"
          ]
        },
        {
          "name": "stderr",
          "output_type": "stream",
          "text": [
            "\r6it [00:04,  1.27it/s]"
          ]
        },
        {
          "name": "stdout",
          "output_type": "stream",
          "text": [
            "Accuracy :   1.00\n"
          ]
        },
        {
          "name": "stderr",
          "output_type": "stream",
          "text": [
            "\r7it [00:05,  1.26it/s]"
          ]
        },
        {
          "name": "stdout",
          "output_type": "stream",
          "text": [
            "Accuracy :   0.62\n"
          ]
        },
        {
          "name": "stderr",
          "output_type": "stream",
          "text": [
            "\r8it [00:06,  1.27it/s]"
          ]
        },
        {
          "name": "stdout",
          "output_type": "stream",
          "text": [
            "Accuracy :   0.96\n"
          ]
        },
        {
          "name": "stderr",
          "output_type": "stream",
          "text": [
            "\r9it [00:07,  1.30it/s]"
          ]
        },
        {
          "name": "stdout",
          "output_type": "stream",
          "text": [
            "Accuracy :   0.96\n"
          ]
        },
        {
          "name": "stderr",
          "output_type": "stream",
          "text": [
            "\r10it [00:07,  1.32it/s]"
          ]
        },
        {
          "name": "stdout",
          "output_type": "stream",
          "text": [
            "Accuracy :   0.65\n"
          ]
        },
        {
          "name": "stderr",
          "output_type": "stream",
          "text": [
            "\r11it [00:08,  1.33it/s]"
          ]
        },
        {
          "name": "stdout",
          "output_type": "stream",
          "text": [
            "Accuracy :   0.50\n"
          ]
        },
        {
          "name": "stderr",
          "output_type": "stream",
          "text": [
            "\r12it [00:09,  1.34it/s]"
          ]
        },
        {
          "name": "stdout",
          "output_type": "stream",
          "text": [
            "Accuracy :   0.94\n"
          ]
        },
        {
          "name": "stderr",
          "output_type": "stream",
          "text": [
            "\r13it [00:10,  1.32it/s]"
          ]
        },
        {
          "name": "stdout",
          "output_type": "stream",
          "text": [
            "Accuracy :   0.97\n"
          ]
        },
        {
          "name": "stderr",
          "output_type": "stream",
          "text": [
            "\r14it [00:10,  1.33it/s]"
          ]
        },
        {
          "name": "stdout",
          "output_type": "stream",
          "text": [
            "Accuracy :   0.62\n"
          ]
        },
        {
          "name": "stderr",
          "output_type": "stream",
          "text": [
            "\r15it [00:11,  1.32it/s]"
          ]
        },
        {
          "name": "stdout",
          "output_type": "stream",
          "text": [
            "Accuracy :   0.31\n"
          ]
        },
        {
          "name": "stderr",
          "output_type": "stream",
          "text": [
            "\r16it [00:12,  1.32it/s]"
          ]
        },
        {
          "name": "stdout",
          "output_type": "stream",
          "text": [
            "Accuracy :   0.49\n"
          ]
        },
        {
          "name": "stderr",
          "output_type": "stream",
          "text": [
            "\r17it [00:13,  1.33it/s]"
          ]
        },
        {
          "name": "stdout",
          "output_type": "stream",
          "text": [
            "Accuracy :   0.97\n"
          ]
        },
        {
          "name": "stderr",
          "output_type": "stream",
          "text": [
            "\r18it [00:13,  1.33it/s]"
          ]
        },
        {
          "name": "stdout",
          "output_type": "stream",
          "text": [
            "Accuracy :   0.73\n"
          ]
        },
        {
          "name": "stderr",
          "output_type": "stream",
          "text": [
            "\r19it [00:14,  1.33it/s]"
          ]
        },
        {
          "name": "stdout",
          "output_type": "stream",
          "text": [
            "Accuracy :   0.53\n"
          ]
        },
        {
          "name": "stderr",
          "output_type": "stream",
          "text": [
            "\r20it [00:15,  1.34it/s]"
          ]
        },
        {
          "name": "stdout",
          "output_type": "stream",
          "text": [
            "Accuracy :   0.96\n"
          ]
        },
        {
          "name": "stderr",
          "output_type": "stream",
          "text": [
            "\r21it [00:16,  1.34it/s]"
          ]
        },
        {
          "name": "stdout",
          "output_type": "stream",
          "text": [
            "Accuracy :   0.87\n"
          ]
        },
        {
          "name": "stderr",
          "output_type": "stream",
          "text": [
            "\r22it [00:16,  1.33it/s]"
          ]
        },
        {
          "name": "stdout",
          "output_type": "stream",
          "text": [
            "Accuracy :   0.53\n"
          ]
        },
        {
          "name": "stderr",
          "output_type": "stream",
          "text": [
            "\r23it [00:17,  1.34it/s]"
          ]
        },
        {
          "name": "stdout",
          "output_type": "stream",
          "text": [
            "Accuracy :   0.65\n"
          ]
        },
        {
          "name": "stderr",
          "output_type": "stream",
          "text": [
            "\r24it [00:18,  1.35it/s]"
          ]
        },
        {
          "name": "stdout",
          "output_type": "stream",
          "text": [
            "Accuracy :   1.00\n"
          ]
        },
        {
          "name": "stderr",
          "output_type": "stream",
          "text": [
            "\r25it [00:19,  1.34it/s]"
          ]
        },
        {
          "name": "stdout",
          "output_type": "stream",
          "text": [
            "Accuracy :   0.47\n"
          ]
        },
        {
          "name": "stderr",
          "output_type": "stream",
          "text": [
            "\r26it [00:19,  1.34it/s]"
          ]
        },
        {
          "name": "stdout",
          "output_type": "stream",
          "text": [
            "Accuracy :   0.46\n"
          ]
        },
        {
          "name": "stderr",
          "output_type": "stream",
          "text": [
            "\r27it [00:20,  1.34it/s]"
          ]
        },
        {
          "name": "stdout",
          "output_type": "stream",
          "text": [
            "Accuracy :   0.94\n"
          ]
        },
        {
          "name": "stderr",
          "output_type": "stream",
          "text": [
            "\r28it [00:21,  1.34it/s]"
          ]
        },
        {
          "name": "stdout",
          "output_type": "stream",
          "text": [
            "Accuracy :   0.69\n"
          ]
        },
        {
          "name": "stderr",
          "output_type": "stream",
          "text": [
            "\r29it [00:22,  1.34it/s]"
          ]
        },
        {
          "name": "stdout",
          "output_type": "stream",
          "text": [
            "Accuracy :   0.65\n"
          ]
        },
        {
          "name": "stderr",
          "output_type": "stream",
          "text": [
            "\r30it [00:22,  1.34it/s]"
          ]
        },
        {
          "name": "stdout",
          "output_type": "stream",
          "text": [
            "Accuracy :   0.65\n"
          ]
        },
        {
          "name": "stderr",
          "output_type": "stream",
          "text": [
            "\r31it [00:23,  1.34it/s]"
          ]
        },
        {
          "name": "stdout",
          "output_type": "stream",
          "text": [
            "Accuracy :   0.85\n"
          ]
        },
        {
          "name": "stderr",
          "output_type": "stream",
          "text": [
            "\r32it [00:24,  1.36it/s]"
          ]
        },
        {
          "name": "stdout",
          "output_type": "stream",
          "text": [
            "Accuracy :   0.50\n"
          ]
        },
        {
          "name": "stderr",
          "output_type": "stream",
          "text": [
            "\r33it [00:24,  1.35it/s]"
          ]
        },
        {
          "name": "stdout",
          "output_type": "stream",
          "text": [
            "Accuracy :   0.94\n"
          ]
        },
        {
          "name": "stderr",
          "output_type": "stream",
          "text": [
            "\r34it [00:25,  1.34it/s]"
          ]
        },
        {
          "name": "stdout",
          "output_type": "stream",
          "text": [
            "Accuracy :   0.65\n"
          ]
        },
        {
          "name": "stderr",
          "output_type": "stream",
          "text": [
            "\r35it [00:26,  1.31it/s]"
          ]
        },
        {
          "name": "stdout",
          "output_type": "stream",
          "text": [
            "Accuracy :   0.81\n"
          ]
        },
        {
          "name": "stderr",
          "output_type": "stream",
          "text": [
            "\r36it [00:27,  1.31it/s]"
          ]
        },
        {
          "name": "stdout",
          "output_type": "stream",
          "text": [
            "Accuracy :   0.81\n"
          ]
        },
        {
          "name": "stderr",
          "output_type": "stream",
          "text": [
            "\r37it [00:28,  1.30it/s]"
          ]
        },
        {
          "name": "stdout",
          "output_type": "stream",
          "text": [
            "Accuracy :   0.57\n"
          ]
        },
        {
          "name": "stderr",
          "output_type": "stream",
          "text": [
            "\r38it [00:28,  1.29it/s]"
          ]
        },
        {
          "name": "stdout",
          "output_type": "stream",
          "text": [
            "Accuracy :   0.95\n"
          ]
        },
        {
          "name": "stderr",
          "output_type": "stream",
          "text": [
            "\r39it [00:29,  1.28it/s]"
          ]
        },
        {
          "name": "stdout",
          "output_type": "stream",
          "text": [
            "Accuracy :   0.53\n"
          ]
        },
        {
          "name": "stderr",
          "output_type": "stream",
          "text": [
            "\r40it [00:30,  1.29it/s]"
          ]
        },
        {
          "name": "stdout",
          "output_type": "stream",
          "text": [
            "Accuracy :   0.65\n"
          ]
        },
        {
          "name": "stderr",
          "output_type": "stream",
          "text": [
            "\r41it [00:31,  1.28it/s]"
          ]
        },
        {
          "name": "stdout",
          "output_type": "stream",
          "text": [
            "Accuracy :   0.44\n"
          ]
        },
        {
          "name": "stderr",
          "output_type": "stream",
          "text": [
            "\r42it [00:32,  1.26it/s]"
          ]
        },
        {
          "name": "stdout",
          "output_type": "stream",
          "text": [
            "Accuracy :   0.88\n"
          ]
        },
        {
          "name": "stderr",
          "output_type": "stream",
          "text": [
            "\r43it [00:32,  1.27it/s]"
          ]
        },
        {
          "name": "stdout",
          "output_type": "stream",
          "text": [
            "Accuracy :   0.49\n"
          ]
        },
        {
          "name": "stderr",
          "output_type": "stream",
          "text": [
            "\r44it [00:33,  1.27it/s]"
          ]
        },
        {
          "name": "stdout",
          "output_type": "stream",
          "text": [
            "Accuracy :   0.49\n"
          ]
        },
        {
          "name": "stderr",
          "output_type": "stream",
          "text": [
            "\r45it [00:34,  1.27it/s]"
          ]
        },
        {
          "name": "stdout",
          "output_type": "stream",
          "text": [
            "Accuracy :   0.96\n"
          ]
        },
        {
          "name": "stderr",
          "output_type": "stream",
          "text": [
            "\r46it [00:35,  1.27it/s]"
          ]
        },
        {
          "name": "stdout",
          "output_type": "stream",
          "text": [
            "Accuracy :   1.00\n"
          ]
        },
        {
          "name": "stderr",
          "output_type": "stream",
          "text": [
            "\r47it [00:35,  1.25it/s]"
          ]
        },
        {
          "name": "stdout",
          "output_type": "stream",
          "text": [
            "Accuracy :   0.53\n"
          ]
        },
        {
          "name": "stderr",
          "output_type": "stream",
          "text": [
            "\r48it [00:36,  1.25it/s]"
          ]
        },
        {
          "name": "stdout",
          "output_type": "stream",
          "text": [
            "Accuracy :   0.65\n"
          ]
        },
        {
          "name": "stderr",
          "output_type": "stream",
          "text": [
            "\r49it [00:37,  1.27it/s]"
          ]
        },
        {
          "name": "stdout",
          "output_type": "stream",
          "text": [
            "Accuracy :   0.93\n"
          ]
        },
        {
          "name": "stderr",
          "output_type": "stream",
          "text": [
            "\r50it [00:38,  1.27it/s]"
          ]
        },
        {
          "name": "stdout",
          "output_type": "stream",
          "text": [
            "Accuracy :   0.69\n"
          ]
        },
        {
          "name": "stderr",
          "output_type": "stream",
          "text": [
            "\r51it [00:39,  1.27it/s]"
          ]
        },
        {
          "name": "stdout",
          "output_type": "stream",
          "text": [
            "Accuracy :   1.00\n"
          ]
        },
        {
          "name": "stderr",
          "output_type": "stream",
          "text": [
            "\r52it [00:39,  1.27it/s]"
          ]
        },
        {
          "name": "stdout",
          "output_type": "stream",
          "text": [
            "Accuracy :   0.92\n"
          ]
        },
        {
          "name": "stderr",
          "output_type": "stream",
          "text": [
            "\r53it [00:40,  1.27it/s]"
          ]
        },
        {
          "name": "stdout",
          "output_type": "stream",
          "text": [
            "Accuracy :   0.96\n"
          ]
        },
        {
          "name": "stderr",
          "output_type": "stream",
          "text": [
            "\r54it [00:41,  1.28it/s]"
          ]
        },
        {
          "name": "stdout",
          "output_type": "stream",
          "text": [
            "Accuracy :   0.89\n"
          ]
        },
        {
          "name": "stderr",
          "output_type": "stream",
          "text": [
            "\r55it [00:42,  1.29it/s]"
          ]
        },
        {
          "name": "stdout",
          "output_type": "stream",
          "text": [
            "Accuracy :   0.65\n"
          ]
        },
        {
          "name": "stderr",
          "output_type": "stream",
          "text": [
            "\r56it [00:43,  1.27it/s]"
          ]
        },
        {
          "name": "stdout",
          "output_type": "stream",
          "text": [
            "Accuracy :   0.65\n"
          ]
        },
        {
          "name": "stderr",
          "output_type": "stream",
          "text": [
            "\r57it [00:43,  1.28it/s]"
          ]
        },
        {
          "name": "stdout",
          "output_type": "stream",
          "text": [
            "Accuracy :   0.96\n"
          ]
        },
        {
          "name": "stderr",
          "output_type": "stream",
          "text": [
            "\r58it [00:44,  1.26it/s]"
          ]
        },
        {
          "name": "stdout",
          "output_type": "stream",
          "text": [
            "Accuracy :   0.97\n"
          ]
        },
        {
          "name": "stderr",
          "output_type": "stream",
          "text": [
            "\r59it [00:45,  1.25it/s]"
          ]
        },
        {
          "name": "stdout",
          "output_type": "stream",
          "text": [
            "Accuracy :   0.41\n"
          ]
        },
        {
          "name": "stderr",
          "output_type": "stream",
          "text": [
            "\r60it [00:46,  1.25it/s]"
          ]
        },
        {
          "name": "stdout",
          "output_type": "stream",
          "text": [
            "Accuracy :   0.93\n"
          ]
        },
        {
          "name": "stderr",
          "output_type": "stream",
          "text": [
            "\r61it [00:47,  1.27it/s]"
          ]
        },
        {
          "name": "stdout",
          "output_type": "stream",
          "text": [
            "Accuracy :   0.96\n"
          ]
        },
        {
          "name": "stderr",
          "output_type": "stream",
          "text": [
            "\r62it [00:47,  1.26it/s]"
          ]
        },
        {
          "name": "stdout",
          "output_type": "stream",
          "text": [
            "Accuracy :   0.97\n"
          ]
        },
        {
          "name": "stderr",
          "output_type": "stream",
          "text": [
            "\r63it [00:48,  1.26it/s]"
          ]
        },
        {
          "name": "stdout",
          "output_type": "stream",
          "text": [
            "Accuracy :   0.60\n"
          ]
        },
        {
          "name": "stderr",
          "output_type": "stream",
          "text": [
            "\r64it [00:49,  1.27it/s]"
          ]
        },
        {
          "name": "stdout",
          "output_type": "stream",
          "text": [
            "Accuracy :   0.89\n"
          ]
        },
        {
          "name": "stderr",
          "output_type": "stream",
          "text": [
            "\r65it [00:50,  1.27it/s]"
          ]
        },
        {
          "name": "stdout",
          "output_type": "stream",
          "text": [
            "Accuracy :   0.51\n"
          ]
        },
        {
          "name": "stderr",
          "output_type": "stream",
          "text": [
            "\r66it [00:50,  1.26it/s]"
          ]
        },
        {
          "name": "stdout",
          "output_type": "stream",
          "text": [
            "Accuracy :   0.62\n"
          ]
        },
        {
          "name": "stderr",
          "output_type": "stream",
          "text": [
            "\r67it [00:51,  1.27it/s]"
          ]
        },
        {
          "name": "stdout",
          "output_type": "stream",
          "text": [
            "Accuracy :   0.62\n"
          ]
        },
        {
          "name": "stderr",
          "output_type": "stream",
          "text": [
            "\r68it [00:53,  1.00s/it]"
          ]
        },
        {
          "name": "stdout",
          "output_type": "stream",
          "text": [
            "Accuracy :   0.47\n"
          ]
        },
        {
          "name": "stderr",
          "output_type": "stream",
          "text": [
            "\r69it [00:55,  1.24s/it]"
          ]
        },
        {
          "name": "stdout",
          "output_type": "stream",
          "text": [
            "Accuracy :   0.53\n"
          ]
        },
        {
          "name": "stderr",
          "output_type": "stream",
          "text": [
            "\r70it [00:55,  1.10s/it]"
          ]
        },
        {
          "name": "stdout",
          "output_type": "stream",
          "text": [
            "Accuracy :   0.46\n"
          ]
        },
        {
          "name": "stderr",
          "output_type": "stream",
          "text": [
            "\r71it [00:56,  1.01s/it]"
          ]
        },
        {
          "name": "stdout",
          "output_type": "stream",
          "text": [
            "Accuracy :   0.96\n"
          ]
        },
        {
          "name": "stderr",
          "output_type": "stream",
          "text": [
            "\r72it [00:57,  1.06it/s]"
          ]
        },
        {
          "name": "stdout",
          "output_type": "stream",
          "text": [
            "Accuracy :   0.81\n"
          ]
        },
        {
          "name": "stderr",
          "output_type": "stream",
          "text": [
            "\r73it [00:58,  1.11it/s]"
          ]
        },
        {
          "name": "stdout",
          "output_type": "stream",
          "text": [
            "Accuracy :   0.73\n"
          ]
        },
        {
          "name": "stderr",
          "output_type": "stream",
          "text": [
            "\r74it [00:59,  1.15it/s]"
          ]
        },
        {
          "name": "stdout",
          "output_type": "stream",
          "text": [
            "Accuracy :   0.97\n"
          ]
        },
        {
          "name": "stderr",
          "output_type": "stream",
          "text": [
            "\r75it [00:59,  1.17it/s]"
          ]
        },
        {
          "name": "stdout",
          "output_type": "stream",
          "text": [
            "Accuracy :   0.41\n"
          ]
        },
        {
          "name": "stderr",
          "output_type": "stream",
          "text": [
            "\r76it [01:00,  1.20it/s]"
          ]
        },
        {
          "name": "stdout",
          "output_type": "stream",
          "text": [
            "Accuracy :   0.65\n"
          ]
        },
        {
          "name": "stderr",
          "output_type": "stream",
          "text": [
            "\r77it [01:01,  1.22it/s]"
          ]
        },
        {
          "name": "stdout",
          "output_type": "stream",
          "text": [
            "Accuracy :   0.70\n"
          ]
        },
        {
          "name": "stderr",
          "output_type": "stream",
          "text": [
            "\r78it [01:02,  1.22it/s]"
          ]
        },
        {
          "name": "stdout",
          "output_type": "stream",
          "text": [
            "Accuracy :   1.00\n"
          ]
        },
        {
          "name": "stderr",
          "output_type": "stream",
          "text": [
            "\r79it [01:03,  1.22it/s]"
          ]
        },
        {
          "name": "stdout",
          "output_type": "stream",
          "text": [
            "Accuracy :   0.50\n"
          ]
        },
        {
          "name": "stderr",
          "output_type": "stream",
          "text": [
            "\r80it [01:03,  1.22it/s]"
          ]
        },
        {
          "name": "stdout",
          "output_type": "stream",
          "text": [
            "Accuracy :   0.44\n"
          ]
        },
        {
          "name": "stderr",
          "output_type": "stream",
          "text": [
            "\r81it [01:04,  1.22it/s]"
          ]
        },
        {
          "name": "stdout",
          "output_type": "stream",
          "text": [
            "Accuracy :   0.97\n"
          ]
        },
        {
          "name": "stderr",
          "output_type": "stream",
          "text": [
            "\r82it [01:05,  1.23it/s]"
          ]
        },
        {
          "name": "stdout",
          "output_type": "stream",
          "text": [
            "Accuracy :   0.70\n"
          ]
        },
        {
          "name": "stderr",
          "output_type": "stream",
          "text": [
            "\r83it [01:06,  1.24it/s]"
          ]
        },
        {
          "name": "stdout",
          "output_type": "stream",
          "text": [
            "Accuracy :   0.87\n"
          ]
        },
        {
          "name": "stderr",
          "output_type": "stream",
          "text": [
            "\r84it [01:07,  1.24it/s]"
          ]
        },
        {
          "name": "stdout",
          "output_type": "stream",
          "text": [
            "Accuracy :   0.66\n"
          ]
        },
        {
          "name": "stderr",
          "output_type": "stream",
          "text": [
            "\r85it [01:07,  1.23it/s]"
          ]
        },
        {
          "name": "stdout",
          "output_type": "stream",
          "text": [
            "Accuracy :   0.64\n"
          ]
        },
        {
          "name": "stderr",
          "output_type": "stream",
          "text": [
            "\r86it [01:08,  1.25it/s]"
          ]
        },
        {
          "name": "stdout",
          "output_type": "stream",
          "text": [
            "Accuracy :   0.87\n"
          ]
        },
        {
          "name": "stderr",
          "output_type": "stream",
          "text": [
            "\r87it [01:09,  1.25it/s]"
          ]
        },
        {
          "name": "stdout",
          "output_type": "stream",
          "text": [
            "Accuracy :   0.62\n"
          ]
        },
        {
          "name": "stderr",
          "output_type": "stream",
          "text": [
            "\r88it [01:10,  1.24it/s]"
          ]
        },
        {
          "name": "stdout",
          "output_type": "stream",
          "text": [
            "Accuracy :   0.61\n"
          ]
        },
        {
          "name": "stderr",
          "output_type": "stream",
          "text": [
            "\r89it [01:11,  1.25it/s]"
          ]
        },
        {
          "name": "stdout",
          "output_type": "stream",
          "text": [
            "Accuracy :   0.88\n"
          ]
        },
        {
          "name": "stderr",
          "output_type": "stream",
          "text": [
            "\r90it [01:11,  1.26it/s]"
          ]
        },
        {
          "name": "stdout",
          "output_type": "stream",
          "text": [
            "Accuracy :   0.44\n"
          ]
        },
        {
          "name": "stderr",
          "output_type": "stream",
          "text": [
            "\r91it [01:12,  1.23it/s]"
          ]
        },
        {
          "name": "stdout",
          "output_type": "stream",
          "text": [
            "Accuracy :   0.53\n"
          ]
        },
        {
          "name": "stderr",
          "output_type": "stream",
          "text": [
            "\r92it [01:13,  1.24it/s]"
          ]
        },
        {
          "name": "stdout",
          "output_type": "stream",
          "text": [
            "Accuracy :   0.95\n"
          ]
        },
        {
          "name": "stderr",
          "output_type": "stream",
          "text": [
            "\r93it [01:14,  1.25it/s]"
          ]
        },
        {
          "name": "stdout",
          "output_type": "stream",
          "text": [
            "Accuracy :   0.44\n"
          ]
        },
        {
          "name": "stderr",
          "output_type": "stream",
          "text": [
            "\r94it [01:15,  1.24it/s]"
          ]
        },
        {
          "name": "stdout",
          "output_type": "stream",
          "text": [
            "Accuracy :   0.44\n"
          ]
        },
        {
          "name": "stderr",
          "output_type": "stream",
          "text": [
            "\r95it [01:15,  1.22it/s]"
          ]
        },
        {
          "name": "stdout",
          "output_type": "stream",
          "text": [
            "Accuracy :   0.62\n"
          ]
        },
        {
          "name": "stderr",
          "output_type": "stream",
          "text": [
            "\r96it [01:16,  1.23it/s]"
          ]
        },
        {
          "name": "stdout",
          "output_type": "stream",
          "text": [
            "Accuracy :   0.96\n"
          ]
        },
        {
          "name": "stderr",
          "output_type": "stream",
          "text": [
            "\r97it [01:17,  1.24it/s]"
          ]
        },
        {
          "name": "stdout",
          "output_type": "stream",
          "text": [
            "Accuracy :   0.39\n"
          ]
        },
        {
          "name": "stderr",
          "output_type": "stream",
          "text": [
            "\r98it [01:18,  1.25it/s]"
          ]
        },
        {
          "name": "stdout",
          "output_type": "stream",
          "text": [
            "Accuracy :   0.68\n"
          ]
        },
        {
          "name": "stderr",
          "output_type": "stream",
          "text": [
            "\r99it [01:19,  1.26it/s]"
          ]
        },
        {
          "name": "stdout",
          "output_type": "stream",
          "text": [
            "Accuracy :   0.97\n"
          ]
        },
        {
          "name": "stderr",
          "output_type": "stream",
          "text": [
            "\r100it [01:19,  1.27it/s]"
          ]
        },
        {
          "name": "stdout",
          "output_type": "stream",
          "text": [
            "Accuracy :   0.50\n"
          ]
        },
        {
          "name": "stderr",
          "output_type": "stream",
          "text": [
            "\r101it [01:20,  1.28it/s]"
          ]
        },
        {
          "name": "stdout",
          "output_type": "stream",
          "text": [
            "Accuracy :   0.94\n"
          ]
        },
        {
          "name": "stderr",
          "output_type": "stream",
          "text": [
            "\r102it [01:21,  1.28it/s]"
          ]
        },
        {
          "name": "stdout",
          "output_type": "stream",
          "text": [
            "Accuracy :   0.61\n"
          ]
        },
        {
          "name": "stderr",
          "output_type": "stream",
          "text": [
            "\r103it [01:22,  1.28it/s]"
          ]
        },
        {
          "name": "stdout",
          "output_type": "stream",
          "text": [
            "Accuracy :   1.00\n"
          ]
        },
        {
          "name": "stderr",
          "output_type": "stream",
          "text": [
            "\r104it [01:23,  1.05it/s]"
          ]
        },
        {
          "name": "stdout",
          "output_type": "stream",
          "text": [
            "Accuracy :   0.70\n"
          ]
        },
        {
          "name": "stderr",
          "output_type": "stream",
          "text": [
            "\r105it [01:25,  1.16s/it]"
          ]
        },
        {
          "name": "stdout",
          "output_type": "stream",
          "text": [
            "Accuracy :   0.97\n"
          ]
        },
        {
          "name": "stderr",
          "output_type": "stream",
          "text": [
            "\r106it [01:26,  1.05s/it]"
          ]
        },
        {
          "name": "stdout",
          "output_type": "stream",
          "text": [
            "Accuracy :   0.77\n"
          ]
        },
        {
          "name": "stderr",
          "output_type": "stream",
          "text": [
            "\r107it [01:26,  1.04it/s]"
          ]
        },
        {
          "name": "stdout",
          "output_type": "stream",
          "text": [
            "Accuracy :   0.94\n"
          ]
        },
        {
          "name": "stderr",
          "output_type": "stream",
          "text": [
            "\r108it [01:27,  1.11it/s]"
          ]
        },
        {
          "name": "stdout",
          "output_type": "stream",
          "text": [
            "Accuracy :   0.81\n"
          ]
        },
        {
          "name": "stderr",
          "output_type": "stream",
          "text": [
            "\r109it [01:28,  1.15it/s]"
          ]
        },
        {
          "name": "stdout",
          "output_type": "stream",
          "text": [
            "Accuracy :   0.62\n"
          ]
        },
        {
          "name": "stderr",
          "output_type": "stream",
          "text": [
            "\r110it [01:29,  1.19it/s]"
          ]
        },
        {
          "name": "stdout",
          "output_type": "stream",
          "text": [
            "Accuracy :   1.00\n"
          ]
        },
        {
          "name": "stderr",
          "output_type": "stream",
          "text": [
            "\r111it [01:29,  1.24it/s]"
          ]
        },
        {
          "name": "stdout",
          "output_type": "stream",
          "text": [
            "Accuracy :   0.44\n"
          ]
        },
        {
          "name": "stderr",
          "output_type": "stream",
          "text": [
            "\r112it [01:30,  1.26it/s]"
          ]
        },
        {
          "name": "stdout",
          "output_type": "stream",
          "text": [
            "Accuracy :   0.57\n"
          ]
        },
        {
          "name": "stderr",
          "output_type": "stream",
          "text": [
            "\r113it [01:31,  1.26it/s]"
          ]
        },
        {
          "name": "stdout",
          "output_type": "stream",
          "text": [
            "Accuracy :   0.57\n"
          ]
        },
        {
          "name": "stderr",
          "output_type": "stream",
          "text": [
            "\r114it [01:32,  1.25it/s]"
          ]
        },
        {
          "name": "stdout",
          "output_type": "stream",
          "text": [
            "Accuracy :   0.77\n"
          ]
        },
        {
          "name": "stderr",
          "output_type": "stream",
          "text": [
            "\r115it [01:33,  1.25it/s]"
          ]
        },
        {
          "name": "stdout",
          "output_type": "stream",
          "text": [
            "Accuracy :   0.53\n"
          ]
        },
        {
          "name": "stderr",
          "output_type": "stream",
          "text": [
            "\r116it [01:33,  1.27it/s]"
          ]
        },
        {
          "name": "stdout",
          "output_type": "stream",
          "text": [
            "Accuracy :   0.94\n"
          ]
        },
        {
          "name": "stderr",
          "output_type": "stream",
          "text": [
            "\r117it [01:34,  1.28it/s]"
          ]
        },
        {
          "name": "stdout",
          "output_type": "stream",
          "text": [
            "Accuracy :   0.60\n"
          ]
        },
        {
          "name": "stderr",
          "output_type": "stream",
          "text": [
            "\r118it [01:35,  1.29it/s]"
          ]
        },
        {
          "name": "stdout",
          "output_type": "stream",
          "text": [
            "Accuracy :   0.47\n"
          ]
        },
        {
          "name": "stderr",
          "output_type": "stream",
          "text": [
            "\r119it [01:36,  1.29it/s]"
          ]
        },
        {
          "name": "stdout",
          "output_type": "stream",
          "text": [
            "Accuracy :   0.97\n"
          ]
        },
        {
          "name": "stderr",
          "output_type": "stream",
          "text": [
            "\r120it [01:36,  1.28it/s]"
          ]
        },
        {
          "name": "stdout",
          "output_type": "stream",
          "text": [
            "Accuracy :   0.50\n"
          ]
        },
        {
          "name": "stderr",
          "output_type": "stream",
          "text": [
            "\r121it [01:37,  1.28it/s]"
          ]
        },
        {
          "name": "stdout",
          "output_type": "stream",
          "text": [
            "Accuracy :   0.50\n"
          ]
        },
        {
          "name": "stderr",
          "output_type": "stream",
          "text": [
            "\r122it [01:38,  1.29it/s]"
          ]
        },
        {
          "name": "stdout",
          "output_type": "stream",
          "text": [
            "Accuracy :   0.73\n"
          ]
        },
        {
          "name": "stderr",
          "output_type": "stream",
          "text": [
            "\r123it [01:39,  1.29it/s]"
          ]
        },
        {
          "name": "stdout",
          "output_type": "stream",
          "text": [
            "Accuracy :   0.61\n"
          ]
        },
        {
          "name": "stderr",
          "output_type": "stream",
          "text": [
            "\r124it [01:39,  1.29it/s]"
          ]
        },
        {
          "name": "stdout",
          "output_type": "stream",
          "text": [
            "Accuracy :   0.88\n"
          ]
        },
        {
          "name": "stderr",
          "output_type": "stream",
          "text": [
            "\r125it [01:40,  1.29it/s]"
          ]
        },
        {
          "name": "stdout",
          "output_type": "stream",
          "text": [
            "Accuracy :   0.59\n"
          ]
        },
        {
          "name": "stderr",
          "output_type": "stream",
          "text": [
            "\r126it [01:41,  1.28it/s]"
          ]
        },
        {
          "name": "stdout",
          "output_type": "stream",
          "text": [
            "Accuracy :   0.44\n"
          ]
        },
        {
          "name": "stderr",
          "output_type": "stream",
          "text": [
            "\r127it [01:42,  1.28it/s]"
          ]
        },
        {
          "name": "stdout",
          "output_type": "stream",
          "text": [
            "Accuracy :   0.62\n"
          ]
        },
        {
          "name": "stderr",
          "output_type": "stream",
          "text": [
            "\r128it [01:43,  1.28it/s]"
          ]
        },
        {
          "name": "stdout",
          "output_type": "stream",
          "text": [
            "Accuracy :   0.77\n"
          ]
        },
        {
          "name": "stderr",
          "output_type": "stream",
          "text": [
            "\r129it [01:43,  1.28it/s]"
          ]
        },
        {
          "name": "stdout",
          "output_type": "stream",
          "text": [
            "Accuracy :   0.53\n"
          ]
        },
        {
          "name": "stderr",
          "output_type": "stream",
          "text": [
            "\r130it [01:44,  1.30it/s]"
          ]
        },
        {
          "name": "stdout",
          "output_type": "stream",
          "text": [
            "Accuracy :   0.65\n"
          ]
        },
        {
          "name": "stderr",
          "output_type": "stream",
          "text": [
            "\r131it [01:45,  1.30it/s]"
          ]
        },
        {
          "name": "stdout",
          "output_type": "stream",
          "text": [
            "Accuracy :   0.53\n"
          ]
        },
        {
          "name": "stderr",
          "output_type": "stream",
          "text": [
            "\r132it [01:46,  1.29it/s]"
          ]
        },
        {
          "name": "stdout",
          "output_type": "stream",
          "text": [
            "Accuracy :   0.45\n"
          ]
        },
        {
          "name": "stderr",
          "output_type": "stream",
          "text": [
            "\r133it [01:46,  1.29it/s]"
          ]
        },
        {
          "name": "stdout",
          "output_type": "stream",
          "text": [
            "Accuracy :   0.97\n"
          ]
        },
        {
          "name": "stderr",
          "output_type": "stream",
          "text": [
            "\r134it [01:47,  1.29it/s]"
          ]
        },
        {
          "name": "stdout",
          "output_type": "stream",
          "text": [
            "Accuracy :   1.00\n"
          ]
        },
        {
          "name": "stderr",
          "output_type": "stream",
          "text": [
            "\r135it [01:48,  1.30it/s]"
          ]
        },
        {
          "name": "stdout",
          "output_type": "stream",
          "text": [
            "Accuracy :   0.70\n"
          ]
        },
        {
          "name": "stderr",
          "output_type": "stream",
          "text": [
            "\r136it [01:49,  1.29it/s]"
          ]
        },
        {
          "name": "stdout",
          "output_type": "stream",
          "text": [
            "Accuracy :   0.47\n"
          ]
        },
        {
          "name": "stderr",
          "output_type": "stream",
          "text": [
            "\r137it [01:50,  1.30it/s]"
          ]
        },
        {
          "name": "stdout",
          "output_type": "stream",
          "text": [
            "Accuracy :   1.00\n"
          ]
        },
        {
          "name": "stderr",
          "output_type": "stream",
          "text": [
            "\r138it [01:50,  1.26it/s]"
          ]
        },
        {
          "name": "stdout",
          "output_type": "stream",
          "text": [
            "Accuracy :   0.64\n"
          ]
        },
        {
          "name": "stderr",
          "output_type": "stream",
          "text": [
            "\r139it [01:52,  1.01s/it]"
          ]
        },
        {
          "name": "stdout",
          "output_type": "stream",
          "text": [
            "Accuracy :   1.00\n"
          ]
        },
        {
          "name": "stderr",
          "output_type": "stream",
          "text": [
            "\r140it [01:53,  1.07it/s]"
          ]
        },
        {
          "name": "stdout",
          "output_type": "stream",
          "text": [
            "Accuracy :   1.00\n"
          ]
        },
        {
          "name": "stderr",
          "output_type": "stream",
          "text": [
            "\r141it [01:53,  1.13it/s]"
          ]
        },
        {
          "name": "stdout",
          "output_type": "stream",
          "text": [
            "Accuracy :   0.97\n"
          ]
        },
        {
          "name": "stderr",
          "output_type": "stream",
          "text": [
            "\r142it [01:54,  1.18it/s]"
          ]
        },
        {
          "name": "stdout",
          "output_type": "stream",
          "text": [
            "Accuracy :   0.53\n"
          ]
        },
        {
          "name": "stderr",
          "output_type": "stream",
          "text": [
            "\r143it [01:55,  1.22it/s]"
          ]
        },
        {
          "name": "stdout",
          "output_type": "stream",
          "text": [
            "Accuracy :   1.00\n"
          ]
        },
        {
          "name": "stderr",
          "output_type": "stream",
          "text": [
            "\r144it [01:56,  1.25it/s]"
          ]
        },
        {
          "name": "stdout",
          "output_type": "stream",
          "text": [
            "Accuracy :   0.50\n"
          ]
        },
        {
          "name": "stderr",
          "output_type": "stream",
          "text": [
            "\r145it [01:57,  1.25it/s]"
          ]
        },
        {
          "name": "stdout",
          "output_type": "stream",
          "text": [
            "Accuracy :   0.97\n"
          ]
        },
        {
          "name": "stderr",
          "output_type": "stream",
          "text": [
            "\r146it [01:57,  1.27it/s]"
          ]
        },
        {
          "name": "stdout",
          "output_type": "stream",
          "text": [
            "Accuracy :   0.61\n"
          ]
        },
        {
          "name": "stderr",
          "output_type": "stream",
          "text": [
            "\r147it [01:58,  1.26it/s]"
          ]
        },
        {
          "name": "stdout",
          "output_type": "stream",
          "text": [
            "Accuracy :   0.62\n"
          ]
        },
        {
          "name": "stderr",
          "output_type": "stream",
          "text": [
            "\r148it [01:59,  1.28it/s]"
          ]
        },
        {
          "name": "stdout",
          "output_type": "stream",
          "text": [
            "Accuracy :   0.95\n"
          ]
        },
        {
          "name": "stderr",
          "output_type": "stream",
          "text": [
            "\r149it [02:00,  1.28it/s]"
          ]
        },
        {
          "name": "stdout",
          "output_type": "stream",
          "text": [
            "Accuracy :   0.97\n"
          ]
        },
        {
          "name": "stderr",
          "output_type": "stream",
          "text": [
            "\r150it [02:00,  1.29it/s]"
          ]
        },
        {
          "name": "stdout",
          "output_type": "stream",
          "text": [
            "Accuracy :   0.46\n"
          ]
        },
        {
          "name": "stderr",
          "output_type": "stream",
          "text": [
            "\r151it [02:01,  1.29it/s]"
          ]
        },
        {
          "name": "stdout",
          "output_type": "stream",
          "text": [
            "Accuracy :   0.53\n"
          ]
        },
        {
          "name": "stderr",
          "output_type": "stream",
          "text": [
            "\r152it [02:02,  1.28it/s]"
          ]
        },
        {
          "name": "stdout",
          "output_type": "stream",
          "text": [
            "Accuracy :   0.66\n"
          ]
        },
        {
          "name": "stderr",
          "output_type": "stream",
          "text": [
            "\r153it [02:03,  1.26it/s]"
          ]
        },
        {
          "name": "stdout",
          "output_type": "stream",
          "text": [
            "Accuracy :   0.51\n"
          ]
        },
        {
          "name": "stderr",
          "output_type": "stream",
          "text": [
            "\r154it [02:04,  1.11it/s]"
          ]
        },
        {
          "name": "stdout",
          "output_type": "stream",
          "text": [
            "Accuracy :   0.39\n"
          ]
        },
        {
          "name": "stderr",
          "output_type": "stream",
          "text": [
            "\r155it [02:05,  1.04it/s]"
          ]
        },
        {
          "name": "stdout",
          "output_type": "stream",
          "text": [
            "Accuracy :   0.88\n"
          ]
        },
        {
          "name": "stderr",
          "output_type": "stream",
          "text": [
            "\r156it [02:06,  1.07s/it]"
          ]
        },
        {
          "name": "stdout",
          "output_type": "stream",
          "text": [
            "Accuracy :   0.61\n"
          ]
        },
        {
          "name": "stderr",
          "output_type": "stream",
          "text": [
            "\r157it [02:08,  1.17s/it]"
          ]
        },
        {
          "name": "stdout",
          "output_type": "stream",
          "text": [
            "Accuracy :   0.88\n"
          ]
        },
        {
          "name": "stderr",
          "output_type": "stream",
          "text": [
            "\r158it [02:09,  1.05s/it]"
          ]
        },
        {
          "name": "stdout",
          "output_type": "stream",
          "text": [
            "Accuracy :   0.65\n"
          ]
        },
        {
          "name": "stderr",
          "output_type": "stream",
          "text": [
            "\r159it [02:09,  1.03it/s]"
          ]
        },
        {
          "name": "stdout",
          "output_type": "stream",
          "text": [
            "Accuracy :   0.62\n"
          ]
        },
        {
          "name": "stderr",
          "output_type": "stream",
          "text": [
            "\r160it [02:10,  1.07it/s]"
          ]
        },
        {
          "name": "stdout",
          "output_type": "stream",
          "text": [
            "Accuracy :   0.44\n"
          ]
        },
        {
          "name": "stderr",
          "output_type": "stream",
          "text": [
            "\r161it [02:11,  1.02s/it]"
          ]
        },
        {
          "name": "stdout",
          "output_type": "stream",
          "text": [
            "Accuracy :   0.60\n"
          ]
        },
        {
          "name": "stderr",
          "output_type": "stream",
          "text": [
            "\r162it [02:12,  1.03s/it]"
          ]
        },
        {
          "name": "stdout",
          "output_type": "stream",
          "text": [
            "Accuracy :   0.77\n"
          ]
        },
        {
          "name": "stderr",
          "output_type": "stream",
          "text": [
            "\r163it [02:14,  1.05s/it]"
          ]
        },
        {
          "name": "stdout",
          "output_type": "stream",
          "text": [
            "Accuracy :   0.50\n"
          ]
        },
        {
          "name": "stderr",
          "output_type": "stream",
          "text": [
            "\r164it [02:14,  1.04it/s]"
          ]
        },
        {
          "name": "stdout",
          "output_type": "stream",
          "text": [
            "Accuracy :   1.00\n"
          ]
        },
        {
          "name": "stderr",
          "output_type": "stream",
          "text": [
            "\r165it [02:15,  1.11it/s]"
          ]
        },
        {
          "name": "stdout",
          "output_type": "stream",
          "text": [
            "Accuracy :   0.88\n"
          ]
        },
        {
          "name": "stderr",
          "output_type": "stream",
          "text": [
            "\r166it [02:16,  1.17it/s]"
          ]
        },
        {
          "name": "stdout",
          "output_type": "stream",
          "text": [
            "Accuracy :   0.87\n"
          ]
        },
        {
          "name": "stderr",
          "output_type": "stream",
          "text": [
            "\r167it [02:17,  1.19it/s]"
          ]
        },
        {
          "name": "stdout",
          "output_type": "stream",
          "text": [
            "Accuracy :   0.50\n"
          ]
        },
        {
          "name": "stderr",
          "output_type": "stream",
          "text": [
            "\r168it [02:17,  1.22it/s]"
          ]
        },
        {
          "name": "stdout",
          "output_type": "stream",
          "text": [
            "Accuracy :   1.00\n"
          ]
        },
        {
          "name": "stderr",
          "output_type": "stream",
          "text": [
            "\r169it [02:18,  1.25it/s]"
          ]
        },
        {
          "name": "stdout",
          "output_type": "stream",
          "text": [
            "Accuracy :   0.50\n"
          ]
        },
        {
          "name": "stderr",
          "output_type": "stream",
          "text": [
            "\r170it [02:19,  1.26it/s]"
          ]
        },
        {
          "name": "stdout",
          "output_type": "stream",
          "text": [
            "Accuracy :   0.97\n"
          ]
        },
        {
          "name": "stderr",
          "output_type": "stream",
          "text": [
            "\r171it [02:20,  1.28it/s]"
          ]
        },
        {
          "name": "stdout",
          "output_type": "stream",
          "text": [
            "Accuracy :   0.77\n"
          ]
        },
        {
          "name": "stderr",
          "output_type": "stream",
          "text": [
            "\r172it [02:20,  1.30it/s]"
          ]
        },
        {
          "name": "stdout",
          "output_type": "stream",
          "text": [
            "Accuracy :   0.77\n"
          ]
        },
        {
          "name": "stderr",
          "output_type": "stream",
          "text": [
            "\r173it [02:21,  1.30it/s]"
          ]
        },
        {
          "name": "stdout",
          "output_type": "stream",
          "text": [
            "Accuracy :   0.65\n"
          ]
        },
        {
          "name": "stderr",
          "output_type": "stream",
          "text": [
            "\r174it [02:22,  1.29it/s]"
          ]
        },
        {
          "name": "stdout",
          "output_type": "stream",
          "text": [
            "Accuracy :   0.41\n"
          ]
        },
        {
          "name": "stderr",
          "output_type": "stream",
          "text": [
            "\r175it [02:23,  1.29it/s]"
          ]
        },
        {
          "name": "stdout",
          "output_type": "stream",
          "text": [
            "Accuracy :   0.97\n"
          ]
        },
        {
          "name": "stderr",
          "output_type": "stream",
          "text": [
            "\r176it [02:24,  1.29it/s]"
          ]
        },
        {
          "name": "stdout",
          "output_type": "stream",
          "text": [
            "Accuracy :   0.50\n"
          ]
        },
        {
          "name": "stderr",
          "output_type": "stream",
          "text": [
            "\r177it [02:24,  1.28it/s]"
          ]
        },
        {
          "name": "stdout",
          "output_type": "stream",
          "text": [
            "Accuracy :   0.53\n"
          ]
        },
        {
          "name": "stderr",
          "output_type": "stream",
          "text": [
            "\r178it [02:25,  1.28it/s]"
          ]
        },
        {
          "name": "stdout",
          "output_type": "stream",
          "text": [
            "Accuracy :   0.57\n"
          ]
        },
        {
          "name": "stderr",
          "output_type": "stream",
          "text": [
            "\r179it [02:26,  1.28it/s]"
          ]
        },
        {
          "name": "stdout",
          "output_type": "stream",
          "text": [
            "Accuracy :   1.00\n"
          ]
        },
        {
          "name": "stderr",
          "output_type": "stream",
          "text": [
            "\r180it [02:27,  1.28it/s]"
          ]
        },
        {
          "name": "stdout",
          "output_type": "stream",
          "text": [
            "Accuracy :   0.94\n"
          ]
        },
        {
          "name": "stderr",
          "output_type": "stream",
          "text": [
            "\r181it [02:27,  1.28it/s]"
          ]
        },
        {
          "name": "stdout",
          "output_type": "stream",
          "text": [
            "Accuracy :   0.64\n"
          ]
        },
        {
          "name": "stderr",
          "output_type": "stream",
          "text": [
            "\r182it [02:28,  1.23it/s]"
          ]
        },
        {
          "name": "stdout",
          "output_type": "stream",
          "text": [
            "Accuracy :   0.72\n"
          ]
        },
        {
          "name": "stderr",
          "output_type": "stream",
          "text": [
            "\r183it [02:30,  1.03it/s]"
          ]
        },
        {
          "name": "stdout",
          "output_type": "stream",
          "text": [
            "Accuracy :   0.87\n"
          ]
        },
        {
          "name": "stderr",
          "output_type": "stream",
          "text": [
            "\r184it [02:31,  1.03s/it]"
          ]
        },
        {
          "name": "stdout",
          "output_type": "stream",
          "text": [
            "Accuracy :   0.93\n"
          ]
        },
        {
          "name": "stderr",
          "output_type": "stream",
          "text": [
            "\r185it [02:32,  1.17s/it]"
          ]
        },
        {
          "name": "stdout",
          "output_type": "stream",
          "text": [
            "Accuracy :   0.53\n"
          ]
        },
        {
          "name": "stderr",
          "output_type": "stream",
          "text": [
            "\r186it [02:33,  1.10s/it]"
          ]
        },
        {
          "name": "stdout",
          "output_type": "stream",
          "text": [
            "Accuracy :   0.60\n"
          ]
        },
        {
          "name": "stderr",
          "output_type": "stream",
          "text": [
            "\r187it [02:34,  1.01s/it]"
          ]
        },
        {
          "name": "stdout",
          "output_type": "stream",
          "text": [
            "Accuracy :   0.96\n"
          ]
        },
        {
          "name": "stderr",
          "output_type": "stream",
          "text": [
            "\r188it [02:35,  1.08it/s]"
          ]
        },
        {
          "name": "stdout",
          "output_type": "stream",
          "text": [
            "Accuracy :   0.65\n"
          ]
        },
        {
          "name": "stderr",
          "output_type": "stream",
          "text": [
            "\r189it [02:36,  1.13it/s]"
          ]
        },
        {
          "name": "stdout",
          "output_type": "stream",
          "text": [
            "Accuracy :   0.62\n"
          ]
        },
        {
          "name": "stderr",
          "output_type": "stream",
          "text": [
            "\r190it [02:36,  1.17it/s]"
          ]
        },
        {
          "name": "stdout",
          "output_type": "stream",
          "text": [
            "Accuracy :   0.53\n"
          ]
        },
        {
          "name": "stderr",
          "output_type": "stream",
          "text": [
            "\r191it [02:37,  1.19it/s]"
          ]
        },
        {
          "name": "stdout",
          "output_type": "stream",
          "text": [
            "Accuracy :   0.94\n"
          ]
        },
        {
          "name": "stderr",
          "output_type": "stream",
          "text": [
            "\r192it [02:38,  1.22it/s]"
          ]
        },
        {
          "name": "stdout",
          "output_type": "stream",
          "text": [
            "Accuracy :   0.73\n"
          ]
        },
        {
          "name": "stderr",
          "output_type": "stream",
          "text": [
            "\r193it [02:39,  1.24it/s]"
          ]
        },
        {
          "name": "stdout",
          "output_type": "stream",
          "text": [
            "Accuracy :   0.60\n"
          ]
        },
        {
          "name": "stderr",
          "output_type": "stream",
          "text": [
            "\r194it [02:40,  1.24it/s]"
          ]
        },
        {
          "name": "stdout",
          "output_type": "stream",
          "text": [
            "Accuracy :   0.66\n"
          ]
        },
        {
          "name": "stderr",
          "output_type": "stream",
          "text": [
            "\r195it [02:40,  1.24it/s]"
          ]
        },
        {
          "name": "stdout",
          "output_type": "stream",
          "text": [
            "Accuracy :   0.97\n"
          ]
        },
        {
          "name": "stderr",
          "output_type": "stream",
          "text": [
            "\r196it [02:41,  1.24it/s]"
          ]
        },
        {
          "name": "stdout",
          "output_type": "stream",
          "text": [
            "Accuracy :   0.53\n"
          ]
        },
        {
          "name": "stderr",
          "output_type": "stream",
          "text": [
            "\r197it [02:42,  1.25it/s]"
          ]
        },
        {
          "name": "stdout",
          "output_type": "stream",
          "text": [
            "Accuracy :   0.94\n"
          ]
        },
        {
          "name": "stderr",
          "output_type": "stream",
          "text": [
            "\r198it [02:43,  1.26it/s]"
          ]
        },
        {
          "name": "stdout",
          "output_type": "stream",
          "text": [
            "Accuracy :   0.62\n"
          ]
        },
        {
          "name": "stderr",
          "output_type": "stream",
          "text": [
            "\r199it [02:44,  1.26it/s]"
          ]
        },
        {
          "name": "stdout",
          "output_type": "stream",
          "text": [
            "Accuracy :   0.53\n"
          ]
        },
        {
          "name": "stderr",
          "output_type": "stream",
          "text": [
            "\r200it [02:44,  1.27it/s]"
          ]
        },
        {
          "name": "stdout",
          "output_type": "stream",
          "text": [
            "Accuracy :   1.00\n"
          ]
        },
        {
          "name": "stderr",
          "output_type": "stream",
          "text": [
            "\r201it [02:45,  1.29it/s]"
          ]
        },
        {
          "name": "stdout",
          "output_type": "stream",
          "text": [
            "Accuracy :   0.87\n"
          ]
        },
        {
          "name": "stderr",
          "output_type": "stream",
          "text": [
            "\r202it [02:46,  1.30it/s]"
          ]
        },
        {
          "name": "stdout",
          "output_type": "stream",
          "text": [
            "Accuracy :   0.61\n"
          ]
        },
        {
          "name": "stderr",
          "output_type": "stream",
          "text": [
            "\r203it [02:47,  1.29it/s]"
          ]
        },
        {
          "name": "stdout",
          "output_type": "stream",
          "text": [
            "Accuracy :   0.97\n"
          ]
        },
        {
          "name": "stderr",
          "output_type": "stream",
          "text": [
            "\r204it [02:47,  1.28it/s]"
          ]
        },
        {
          "name": "stdout",
          "output_type": "stream",
          "text": [
            "Accuracy :   0.59\n"
          ]
        },
        {
          "name": "stderr",
          "output_type": "stream",
          "text": [
            "\r205it [02:48,  1.24it/s]"
          ]
        },
        {
          "name": "stdout",
          "output_type": "stream",
          "text": [
            "Accuracy :   1.00\n"
          ]
        },
        {
          "name": "stderr",
          "output_type": "stream",
          "text": [
            "\r206it [02:49,  1.26it/s]"
          ]
        },
        {
          "name": "stdout",
          "output_type": "stream",
          "text": [
            "Accuracy :   0.86\n"
          ]
        },
        {
          "name": "stderr",
          "output_type": "stream",
          "text": [
            "\r207it [02:50,  1.25it/s]"
          ]
        },
        {
          "name": "stdout",
          "output_type": "stream",
          "text": [
            "Accuracy :   0.60\n"
          ]
        },
        {
          "name": "stderr",
          "output_type": "stream",
          "text": [
            "\r208it [02:51,  1.19it/s]"
          ]
        },
        {
          "name": "stdout",
          "output_type": "stream",
          "text": [
            "Accuracy :   0.88\n"
          ]
        },
        {
          "name": "stderr",
          "output_type": "stream",
          "text": [
            "\r209it [02:52,  1.05it/s]"
          ]
        },
        {
          "name": "stdout",
          "output_type": "stream",
          "text": [
            "Accuracy :   0.53\n"
          ]
        },
        {
          "name": "stderr",
          "output_type": "stream",
          "text": [
            "\r210it [02:54,  1.14s/it]"
          ]
        },
        {
          "name": "stdout",
          "output_type": "stream",
          "text": [
            "Accuracy :   0.94\n"
          ]
        },
        {
          "name": "stderr",
          "output_type": "stream",
          "text": [
            "\r211it [02:56,  1.55s/it]"
          ]
        },
        {
          "name": "stdout",
          "output_type": "stream",
          "text": [
            "Accuracy :   1.00\n"
          ]
        },
        {
          "name": "stderr",
          "output_type": "stream",
          "text": [
            "\r212it [02:57,  1.34s/it]"
          ]
        },
        {
          "name": "stdout",
          "output_type": "stream",
          "text": [
            "Accuracy :   0.47\n"
          ]
        },
        {
          "name": "stderr",
          "output_type": "stream",
          "text": [
            "\r213it [02:58,  1.18s/it]"
          ]
        },
        {
          "name": "stdout",
          "output_type": "stream",
          "text": [
            "Accuracy :   0.50\n"
          ]
        },
        {
          "name": "stderr",
          "output_type": "stream",
          "text": [
            "\r214it [02:58,  1.06s/it]"
          ]
        },
        {
          "name": "stdout",
          "output_type": "stream",
          "text": [
            "Accuracy :   0.65\n"
          ]
        },
        {
          "name": "stderr",
          "output_type": "stream",
          "text": [
            "\r215it [02:59,  1.03it/s]"
          ]
        },
        {
          "name": "stdout",
          "output_type": "stream",
          "text": [
            "Accuracy :   0.70\n"
          ]
        },
        {
          "name": "stderr",
          "output_type": "stream",
          "text": [
            "\r216it [03:00,  1.10it/s]"
          ]
        },
        {
          "name": "stdout",
          "output_type": "stream",
          "text": [
            "Accuracy :   0.87\n"
          ]
        },
        {
          "name": "stderr",
          "output_type": "stream",
          "text": [
            "\r217it [03:01,  1.14it/s]"
          ]
        },
        {
          "name": "stdout",
          "output_type": "stream",
          "text": [
            "Accuracy :   0.39\n"
          ]
        },
        {
          "name": "stderr",
          "output_type": "stream",
          "text": [
            "\r218it [03:02,  1.18it/s]"
          ]
        },
        {
          "name": "stdout",
          "output_type": "stream",
          "text": [
            "Accuracy :   0.44\n"
          ]
        },
        {
          "name": "stderr",
          "output_type": "stream",
          "text": [
            "\r219it [03:02,  1.20it/s]"
          ]
        },
        {
          "name": "stdout",
          "output_type": "stream",
          "text": [
            "Accuracy :   0.53\n"
          ]
        },
        {
          "name": "stderr",
          "output_type": "stream",
          "text": [
            "\r220it [03:03,  1.23it/s]"
          ]
        },
        {
          "name": "stdout",
          "output_type": "stream",
          "text": [
            "Accuracy :   0.65\n"
          ]
        },
        {
          "name": "stderr",
          "output_type": "stream",
          "text": [
            "\r221it [03:04,  1.24it/s]"
          ]
        },
        {
          "name": "stdout",
          "output_type": "stream",
          "text": [
            "Accuracy :   1.00\n"
          ]
        },
        {
          "name": "stderr",
          "output_type": "stream",
          "text": [
            "\r222it [03:05,  1.26it/s]"
          ]
        },
        {
          "name": "stdout",
          "output_type": "stream",
          "text": [
            "Accuracy :   0.65\n"
          ]
        },
        {
          "name": "stderr",
          "output_type": "stream",
          "text": [
            "\r223it [03:06,  1.25it/s]"
          ]
        },
        {
          "name": "stdout",
          "output_type": "stream",
          "text": [
            "Accuracy :   0.46\n"
          ]
        },
        {
          "name": "stderr",
          "output_type": "stream",
          "text": [
            "\r224it [03:06,  1.26it/s]"
          ]
        },
        {
          "name": "stdout",
          "output_type": "stream",
          "text": [
            "Accuracy :   0.60\n"
          ]
        },
        {
          "name": "stderr",
          "output_type": "stream",
          "text": [
            "\r225it [03:07,  1.27it/s]"
          ]
        },
        {
          "name": "stdout",
          "output_type": "stream",
          "text": [
            "Accuracy :   0.65\n"
          ]
        },
        {
          "name": "stderr",
          "output_type": "stream",
          "text": [
            "\r226it [03:08,  1.27it/s]"
          ]
        },
        {
          "name": "stdout",
          "output_type": "stream",
          "text": [
            "Accuracy :   0.66\n"
          ]
        },
        {
          "name": "stderr",
          "output_type": "stream",
          "text": [
            "\r227it [03:09,  1.28it/s]"
          ]
        },
        {
          "name": "stdout",
          "output_type": "stream",
          "text": [
            "Accuracy :   0.37\n"
          ]
        },
        {
          "name": "stderr",
          "output_type": "stream",
          "text": [
            "\r228it [03:09,  1.28it/s]"
          ]
        },
        {
          "name": "stdout",
          "output_type": "stream",
          "text": [
            "Accuracy :   0.74\n"
          ]
        },
        {
          "name": "stderr",
          "output_type": "stream",
          "text": [
            "\r229it [03:10,  1.27it/s]"
          ]
        },
        {
          "name": "stdout",
          "output_type": "stream",
          "text": [
            "Accuracy :   0.46\n"
          ]
        },
        {
          "name": "stderr",
          "output_type": "stream",
          "text": [
            "\r230it [03:11,  1.27it/s]"
          ]
        },
        {
          "name": "stdout",
          "output_type": "stream",
          "text": [
            "Accuracy :   0.70\n"
          ]
        },
        {
          "name": "stderr",
          "output_type": "stream",
          "text": [
            "\r231it [03:12,  1.27it/s]"
          ]
        },
        {
          "name": "stdout",
          "output_type": "stream",
          "text": [
            "Accuracy :   0.50\n"
          ]
        },
        {
          "name": "stderr",
          "output_type": "stream",
          "text": [
            "\r232it [03:13,  1.13it/s]"
          ]
        },
        {
          "name": "stdout",
          "output_type": "stream",
          "text": [
            "Accuracy :   0.53\n"
          ]
        },
        {
          "name": "stderr",
          "output_type": "stream",
          "text": [
            "\r233it [03:14,  1.08it/s]"
          ]
        },
        {
          "name": "stdout",
          "output_type": "stream",
          "text": [
            "Accuracy :   0.85\n"
          ]
        },
        {
          "name": "stderr",
          "output_type": "stream",
          "text": [
            "\r234it [03:15,  1.00it/s]"
          ]
        },
        {
          "name": "stdout",
          "output_type": "stream",
          "text": [
            "Accuracy :   1.00\n"
          ]
        },
        {
          "name": "stderr",
          "output_type": "stream",
          "text": [
            "\r235it [03:16,  1.02s/it]"
          ]
        },
        {
          "name": "stdout",
          "output_type": "stream",
          "text": [
            "Accuracy :   0.73\n"
          ]
        },
        {
          "name": "stderr",
          "output_type": "stream",
          "text": [
            "\r236it [03:17,  1.04s/it]"
          ]
        },
        {
          "name": "stdout",
          "output_type": "stream",
          "text": [
            "Accuracy :   0.61\n"
          ]
        },
        {
          "name": "stderr",
          "output_type": "stream",
          "text": [
            "\r237it [03:18,  1.05it/s]"
          ]
        },
        {
          "name": "stdout",
          "output_type": "stream",
          "text": [
            "Accuracy :   0.65\n"
          ]
        },
        {
          "name": "stderr",
          "output_type": "stream",
          "text": [
            "\r238it [03:19,  1.11it/s]"
          ]
        },
        {
          "name": "stdout",
          "output_type": "stream",
          "text": [
            "Accuracy :   0.60\n"
          ]
        },
        {
          "name": "stderr",
          "output_type": "stream",
          "text": [
            "\r239it [03:20,  1.03it/s]"
          ]
        },
        {
          "name": "stdout",
          "output_type": "stream",
          "text": [
            "Accuracy :   0.94\n"
          ]
        },
        {
          "name": "stderr",
          "output_type": "stream",
          "text": [
            "\r240it [03:21,  1.02s/it]"
          ]
        },
        {
          "name": "stdout",
          "output_type": "stream",
          "text": [
            "Accuracy :   0.62\n"
          ]
        },
        {
          "name": "stderr",
          "output_type": "stream",
          "text": [
            "\r241it [03:22,  1.12s/it]"
          ]
        },
        {
          "name": "stdout",
          "output_type": "stream",
          "text": [
            "Accuracy :   0.69\n"
          ]
        },
        {
          "name": "stderr",
          "output_type": "stream",
          "text": [
            "\r242it [03:24,  1.24s/it]"
          ]
        },
        {
          "name": "stdout",
          "output_type": "stream",
          "text": [
            "Accuracy :   0.62\n"
          ]
        },
        {
          "name": "stderr",
          "output_type": "stream",
          "text": [
            "\r243it [03:25,  1.29s/it]"
          ]
        },
        {
          "name": "stdout",
          "output_type": "stream",
          "text": [
            "Accuracy :   0.41\n"
          ]
        },
        {
          "name": "stderr",
          "output_type": "stream",
          "text": [
            "\r244it [03:26,  1.14s/it]"
          ]
        },
        {
          "name": "stdout",
          "output_type": "stream",
          "text": [
            "Accuracy :   0.50\n"
          ]
        },
        {
          "name": "stderr",
          "output_type": "stream",
          "text": [
            "\r245it [03:27,  1.12s/it]"
          ]
        },
        {
          "name": "stdout",
          "output_type": "stream",
          "text": [
            "Accuracy :   0.69\n"
          ]
        },
        {
          "name": "stderr",
          "output_type": "stream",
          "text": [
            "\r246it [03:28,  1.12s/it]"
          ]
        },
        {
          "name": "stdout",
          "output_type": "stream",
          "text": [
            "Accuracy :   0.96\n"
          ]
        },
        {
          "name": "stderr",
          "output_type": "stream",
          "text": [
            "\r247it [03:29,  1.04s/it]"
          ]
        },
        {
          "name": "stdout",
          "output_type": "stream",
          "text": [
            "Accuracy :   0.65\n"
          ]
        },
        {
          "name": "stderr",
          "output_type": "stream",
          "text": [
            "\r248it [03:30,  1.10s/it]"
          ]
        },
        {
          "name": "stdout",
          "output_type": "stream",
          "text": [
            "Accuracy :   0.55\n"
          ]
        },
        {
          "name": "stderr",
          "output_type": "stream",
          "text": [
            "\r249it [03:31,  1.01s/it]"
          ]
        },
        {
          "name": "stdout",
          "output_type": "stream",
          "text": [
            "Accuracy :   1.00\n"
          ]
        },
        {
          "name": "stderr",
          "output_type": "stream",
          "text": [
            "\r250it [03:32,  1.06s/it]"
          ]
        },
        {
          "name": "stdout",
          "output_type": "stream",
          "text": [
            "Accuracy :   0.94\n"
          ]
        },
        {
          "name": "stderr",
          "output_type": "stream",
          "text": [
            "\r251it [03:33,  1.01it/s]"
          ]
        },
        {
          "name": "stdout",
          "output_type": "stream",
          "text": [
            "Accuracy :   0.49\n"
          ]
        },
        {
          "name": "stderr",
          "output_type": "stream",
          "text": [
            "\r252it [03:34,  1.08it/s]"
          ]
        },
        {
          "name": "stdout",
          "output_type": "stream",
          "text": [
            "Accuracy :   0.49\n"
          ]
        },
        {
          "name": "stderr",
          "output_type": "stream",
          "text": [
            "\r253it [03:35,  1.03it/s]"
          ]
        },
        {
          "name": "stdout",
          "output_type": "stream",
          "text": [
            "Accuracy :   0.41\n"
          ]
        },
        {
          "name": "stderr",
          "output_type": "stream",
          "text": [
            "\r254it [03:36,  1.01it/s]"
          ]
        },
        {
          "name": "stdout",
          "output_type": "stream",
          "text": [
            "Accuracy :   0.94\n"
          ]
        },
        {
          "name": "stderr",
          "output_type": "stream",
          "text": [
            "\r255it [03:37,  1.01s/it]"
          ]
        },
        {
          "name": "stdout",
          "output_type": "stream",
          "text": [
            "Accuracy :   1.00\n"
          ]
        },
        {
          "name": "stderr",
          "output_type": "stream",
          "text": [
            "\r256it [03:39,  1.21s/it]"
          ]
        },
        {
          "name": "stdout",
          "output_type": "stream",
          "text": [
            "Accuracy :   0.53\n"
          ]
        },
        {
          "name": "stderr",
          "output_type": "stream",
          "text": [
            "\r257it [03:40,  1.09s/it]"
          ]
        },
        {
          "name": "stdout",
          "output_type": "stream",
          "text": [
            "Accuracy :   0.58\n"
          ]
        },
        {
          "name": "stderr",
          "output_type": "stream",
          "text": [
            "\r258it [03:40,  1.00it/s]"
          ]
        },
        {
          "name": "stdout",
          "output_type": "stream",
          "text": [
            "Accuracy :   0.97\n"
          ]
        },
        {
          "name": "stderr",
          "output_type": "stream",
          "text": [
            "\r259it [03:41,  1.08it/s]"
          ]
        },
        {
          "name": "stdout",
          "output_type": "stream",
          "text": [
            "Accuracy :   0.77\n"
          ]
        },
        {
          "name": "stderr",
          "output_type": "stream",
          "text": [
            "\r260it [03:42,  1.14it/s]"
          ]
        },
        {
          "name": "stdout",
          "output_type": "stream",
          "text": [
            "Accuracy :   1.00\n"
          ]
        },
        {
          "name": "stderr",
          "output_type": "stream",
          "text": [
            "\r261it [03:43,  1.19it/s]"
          ]
        },
        {
          "name": "stdout",
          "output_type": "stream",
          "text": [
            "Accuracy :   1.00\n"
          ]
        },
        {
          "name": "stderr",
          "output_type": "stream",
          "text": [
            "\r262it [03:44,  1.17it/s]"
          ]
        },
        {
          "name": "stdout",
          "output_type": "stream",
          "text": [
            "Accuracy :   0.76\n"
          ]
        },
        {
          "name": "stderr",
          "output_type": "stream",
          "text": [
            "\r263it [03:45,  1.13it/s]"
          ]
        },
        {
          "name": "stdout",
          "output_type": "stream",
          "text": [
            "Accuracy :   0.60\n"
          ]
        },
        {
          "name": "stderr",
          "output_type": "stream",
          "text": [
            "\r264it [03:46,  1.09it/s]"
          ]
        },
        {
          "name": "stdout",
          "output_type": "stream",
          "text": [
            "Accuracy :   0.46\n"
          ]
        },
        {
          "name": "stderr",
          "output_type": "stream",
          "text": [
            "\r265it [03:47,  1.04it/s]"
          ]
        },
        {
          "name": "stdout",
          "output_type": "stream",
          "text": [
            "Accuracy :   0.41\n"
          ]
        },
        {
          "name": "stderr",
          "output_type": "stream",
          "text": [
            "\r266it [03:48,  1.04it/s]"
          ]
        },
        {
          "name": "stdout",
          "output_type": "stream",
          "text": [
            "Accuracy :   0.97\n"
          ]
        },
        {
          "name": "stderr",
          "output_type": "stream",
          "text": [
            "\r267it [03:49,  1.01s/it]"
          ]
        },
        {
          "name": "stdout",
          "output_type": "stream",
          "text": [
            "Accuracy :   1.00\n"
          ]
        },
        {
          "name": "stderr",
          "output_type": "stream",
          "text": [
            "\r268it [03:50,  1.23s/it]"
          ]
        },
        {
          "name": "stdout",
          "output_type": "stream",
          "text": [
            "Accuracy :   1.00\n"
          ]
        },
        {
          "name": "stderr",
          "output_type": "stream",
          "text": [
            "\r269it [03:52,  1.30s/it]"
          ]
        },
        {
          "name": "stdout",
          "output_type": "stream",
          "text": [
            "Accuracy :   0.65\n"
          ]
        },
        {
          "name": "stderr",
          "output_type": "stream",
          "text": [
            "\r270it [03:53,  1.15s/it]"
          ]
        },
        {
          "name": "stdout",
          "output_type": "stream",
          "text": [
            "Accuracy :   0.53\n"
          ]
        },
        {
          "name": "stderr",
          "output_type": "stream",
          "text": [
            "\r271it [03:54,  1.16s/it]"
          ]
        },
        {
          "name": "stdout",
          "output_type": "stream",
          "text": [
            "Accuracy :   0.69\n"
          ]
        },
        {
          "name": "stderr",
          "output_type": "stream",
          "text": [
            "\r272it [03:55,  1.15s/it]"
          ]
        },
        {
          "name": "stdout",
          "output_type": "stream",
          "text": [
            "Accuracy :   0.41\n"
          ]
        },
        {
          "name": "stderr",
          "output_type": "stream",
          "text": [
            "\r273it [03:56,  1.15s/it]"
          ]
        },
        {
          "name": "stdout",
          "output_type": "stream",
          "text": [
            "Accuracy :   1.00\n"
          ]
        },
        {
          "name": "stderr",
          "output_type": "stream",
          "text": [
            "\r274it [03:57,  1.08s/it]"
          ]
        },
        {
          "name": "stdout",
          "output_type": "stream",
          "text": [
            "Accuracy :   0.61\n"
          ]
        },
        {
          "name": "stderr",
          "output_type": "stream",
          "text": [
            "\r275it [03:58,  1.07s/it]"
          ]
        },
        {
          "name": "stdout",
          "output_type": "stream",
          "text": [
            "Accuracy :   0.41\n"
          ]
        },
        {
          "name": "stderr",
          "output_type": "stream",
          "text": [
            "\r276it [03:59,  1.09s/it]"
          ]
        },
        {
          "name": "stdout",
          "output_type": "stream",
          "text": [
            "Accuracy :   1.00\n"
          ]
        },
        {
          "name": "stderr",
          "output_type": "stream",
          "text": [
            "\r277it [04:00,  1.14s/it]"
          ]
        },
        {
          "name": "stdout",
          "output_type": "stream",
          "text": [
            "Accuracy :   0.93\n"
          ]
        },
        {
          "name": "stderr",
          "output_type": "stream",
          "text": [
            "\r278it [04:02,  1.12s/it]"
          ]
        },
        {
          "name": "stdout",
          "output_type": "stream",
          "text": [
            "Accuracy :   0.38\n"
          ]
        },
        {
          "name": "stderr",
          "output_type": "stream",
          "text": [
            "\r279it [04:03,  1.11s/it]"
          ]
        },
        {
          "name": "stdout",
          "output_type": "stream",
          "text": [
            "Accuracy :   1.00\n"
          ]
        },
        {
          "name": "stderr",
          "output_type": "stream",
          "text": [
            "\r280it [04:04,  1.10s/it]"
          ]
        },
        {
          "name": "stdout",
          "output_type": "stream",
          "text": [
            "Accuracy :   0.69\n"
          ]
        },
        {
          "name": "stderr",
          "output_type": "stream",
          "text": [
            "\r281it [04:05,  1.06s/it]"
          ]
        },
        {
          "name": "stdout",
          "output_type": "stream",
          "text": [
            "Accuracy :   0.60\n"
          ]
        },
        {
          "name": "stderr",
          "output_type": "stream",
          "text": [
            "\r282it [04:06,  1.09s/it]"
          ]
        },
        {
          "name": "stdout",
          "output_type": "stream",
          "text": [
            "Accuracy :   0.94\n"
          ]
        },
        {
          "name": "stderr",
          "output_type": "stream",
          "text": [
            "\r283it [04:07,  1.02s/it]"
          ]
        },
        {
          "name": "stdout",
          "output_type": "stream",
          "text": [
            "Accuracy :   0.89\n"
          ]
        },
        {
          "name": "stderr",
          "output_type": "stream",
          "text": [
            "\r284it [04:08,  1.08s/it]"
          ]
        },
        {
          "name": "stdout",
          "output_type": "stream",
          "text": [
            "Accuracy :   0.55\n"
          ]
        },
        {
          "name": "stderr",
          "output_type": "stream",
          "text": [
            "\r285it [04:09,  1.00s/it]"
          ]
        },
        {
          "name": "stdout",
          "output_type": "stream",
          "text": [
            "Accuracy :   0.90\n"
          ]
        },
        {
          "name": "stderr",
          "output_type": "stream",
          "text": [
            "\r286it [04:10,  1.05it/s]"
          ]
        },
        {
          "name": "stdout",
          "output_type": "stream",
          "text": [
            "Accuracy :   0.46\n"
          ]
        },
        {
          "name": "stderr",
          "output_type": "stream",
          "text": [
            "\r287it [04:10,  1.11it/s]"
          ]
        },
        {
          "name": "stdout",
          "output_type": "stream",
          "text": [
            "Accuracy :   0.68\n"
          ]
        },
        {
          "name": "stderr",
          "output_type": "stream",
          "text": [
            "\r288it [04:11,  1.15it/s]"
          ]
        },
        {
          "name": "stdout",
          "output_type": "stream",
          "text": [
            "Accuracy :   0.97\n"
          ]
        },
        {
          "name": "stderr",
          "output_type": "stream",
          "text": [
            "\r289it [04:12,  1.20it/s]"
          ]
        },
        {
          "name": "stdout",
          "output_type": "stream",
          "text": [
            "Accuracy :   0.77\n"
          ]
        },
        {
          "name": "stderr",
          "output_type": "stream",
          "text": [
            "\r290it [04:13,  1.20it/s]"
          ]
        },
        {
          "name": "stdout",
          "output_type": "stream",
          "text": [
            "Accuracy :   0.62\n"
          ]
        },
        {
          "name": "stderr",
          "output_type": "stream",
          "text": [
            "\r291it [04:14,  1.18it/s]"
          ]
        },
        {
          "name": "stdout",
          "output_type": "stream",
          "text": [
            "Accuracy :   0.52\n"
          ]
        },
        {
          "name": "stderr",
          "output_type": "stream",
          "text": [
            "\r292it [04:15,  1.09it/s]"
          ]
        },
        {
          "name": "stdout",
          "output_type": "stream",
          "text": [
            "Accuracy :   0.65\n"
          ]
        },
        {
          "name": "stderr",
          "output_type": "stream",
          "text": [
            "\r293it [04:16,  1.02it/s]"
          ]
        },
        {
          "name": "stdout",
          "output_type": "stream",
          "text": [
            "Accuracy :   0.53\n"
          ]
        },
        {
          "name": "stderr",
          "output_type": "stream",
          "text": [
            "\r294it [04:17,  1.02it/s]"
          ]
        },
        {
          "name": "stdout",
          "output_type": "stream",
          "text": [
            "Accuracy :   0.74\n"
          ]
        },
        {
          "name": "stderr",
          "output_type": "stream",
          "text": [
            "\r295it [04:18,  1.04s/it]"
          ]
        },
        {
          "name": "stdout",
          "output_type": "stream",
          "text": [
            "Accuracy :   0.65\n"
          ]
        },
        {
          "name": "stderr",
          "output_type": "stream",
          "text": [
            "\r296it [04:19,  1.04it/s]"
          ]
        },
        {
          "name": "stdout",
          "output_type": "stream",
          "text": [
            "Accuracy :   0.44\n"
          ]
        },
        {
          "name": "stderr",
          "output_type": "stream",
          "text": [
            "\r297it [04:20,  1.10it/s]"
          ]
        },
        {
          "name": "stdout",
          "output_type": "stream",
          "text": [
            "Accuracy :   0.69\n"
          ]
        },
        {
          "name": "stderr",
          "output_type": "stream",
          "text": [
            "\r298it [04:21,  1.05it/s]"
          ]
        },
        {
          "name": "stdout",
          "output_type": "stream",
          "text": [
            "Accuracy :   0.60\n"
          ]
        },
        {
          "name": "stderr",
          "output_type": "stream",
          "text": [
            "\r299it [04:21,  1.12it/s]"
          ]
        },
        {
          "name": "stdout",
          "output_type": "stream",
          "text": [
            "Accuracy :   0.96\n"
          ]
        },
        {
          "name": "stderr",
          "output_type": "stream",
          "text": [
            "\r300it [04:22,  1.07it/s]"
          ]
        },
        {
          "name": "stdout",
          "output_type": "stream",
          "text": [
            "Accuracy :   0.81\n"
          ]
        },
        {
          "name": "stderr",
          "output_type": "stream",
          "text": [
            "\r301it [04:24,  1.02s/it]"
          ]
        },
        {
          "name": "stdout",
          "output_type": "stream",
          "text": [
            "Accuracy :   0.60\n"
          ]
        },
        {
          "name": "stderr",
          "output_type": "stream",
          "text": [
            "\r302it [04:24,  1.06it/s]"
          ]
        },
        {
          "name": "stdout",
          "output_type": "stream",
          "text": [
            "Accuracy :   0.50\n"
          ]
        },
        {
          "name": "stderr",
          "output_type": "stream",
          "text": [
            "\r303it [04:25,  1.13it/s]"
          ]
        },
        {
          "name": "stdout",
          "output_type": "stream",
          "text": [
            "Accuracy :   0.53\n"
          ]
        },
        {
          "name": "stderr",
          "output_type": "stream",
          "text": [
            "\r304it [04:26,  1.17it/s]"
          ]
        },
        {
          "name": "stdout",
          "output_type": "stream",
          "text": [
            "Accuracy :   0.36\n"
          ]
        },
        {
          "name": "stderr",
          "output_type": "stream",
          "text": [
            "\r305it [04:27,  1.14it/s]"
          ]
        },
        {
          "name": "stdout",
          "output_type": "stream",
          "text": [
            "Accuracy :   0.53\n"
          ]
        },
        {
          "name": "stderr",
          "output_type": "stream",
          "text": [
            "\r306it [04:28,  1.10it/s]"
          ]
        },
        {
          "name": "stdout",
          "output_type": "stream",
          "text": [
            "Accuracy :   0.94\n"
          ]
        },
        {
          "name": "stderr",
          "output_type": "stream",
          "text": [
            "\r307it [04:29,  1.09it/s]"
          ]
        },
        {
          "name": "stdout",
          "output_type": "stream",
          "text": [
            "Accuracy :   0.96\n"
          ]
        },
        {
          "name": "stderr",
          "output_type": "stream",
          "text": [
            "\r308it [04:30,  1.15it/s]"
          ]
        },
        {
          "name": "stdout",
          "output_type": "stream",
          "text": [
            "Accuracy :   0.90\n"
          ]
        },
        {
          "name": "stderr",
          "output_type": "stream",
          "text": [
            "\r309it [04:31,  1.09it/s]"
          ]
        },
        {
          "name": "stdout",
          "output_type": "stream",
          "text": [
            "Accuracy :   0.44\n"
          ]
        },
        {
          "name": "stderr",
          "output_type": "stream",
          "text": [
            "\r310it [04:31,  1.15it/s]"
          ]
        },
        {
          "name": "stdout",
          "output_type": "stream",
          "text": [
            "Accuracy :   1.00\n"
          ]
        },
        {
          "name": "stderr",
          "output_type": "stream",
          "text": [
            "\r311it [04:32,  1.19it/s]"
          ]
        },
        {
          "name": "stdout",
          "output_type": "stream",
          "text": [
            "Accuracy :   0.62\n"
          ]
        },
        {
          "name": "stderr",
          "output_type": "stream",
          "text": [
            "\r312it [04:33,  1.19it/s]"
          ]
        },
        {
          "name": "stdout",
          "output_type": "stream",
          "text": [
            "Accuracy :   1.00\n"
          ]
        },
        {
          "name": "stderr",
          "output_type": "stream",
          "text": [
            "\r313it [04:34,  1.23it/s]"
          ]
        },
        {
          "name": "stdout",
          "output_type": "stream",
          "text": [
            "Accuracy :   0.65\n"
          ]
        },
        {
          "name": "stderr",
          "output_type": "stream",
          "text": [
            "\r314it [04:34,  1.24it/s]"
          ]
        },
        {
          "name": "stdout",
          "output_type": "stream",
          "text": [
            "Accuracy :   0.41\n"
          ]
        },
        {
          "name": "stderr",
          "output_type": "stream",
          "text": [
            "\r315it [04:35,  1.25it/s]"
          ]
        },
        {
          "name": "stdout",
          "output_type": "stream",
          "text": [
            "Accuracy :   0.94\n"
          ]
        },
        {
          "name": "stderr",
          "output_type": "stream",
          "text": [
            "\r316it [04:36,  1.27it/s]"
          ]
        },
        {
          "name": "stdout",
          "output_type": "stream",
          "text": [
            "Accuracy :   0.88\n"
          ]
        },
        {
          "name": "stderr",
          "output_type": "stream",
          "text": [
            "\r317it [04:37,  1.28it/s]"
          ]
        },
        {
          "name": "stdout",
          "output_type": "stream",
          "text": [
            "Accuracy :   0.61\n"
          ]
        },
        {
          "name": "stderr",
          "output_type": "stream",
          "text": [
            "\r318it [04:38,  1.30it/s]"
          ]
        },
        {
          "name": "stdout",
          "output_type": "stream",
          "text": [
            "Accuracy :   0.65\n"
          ]
        },
        {
          "name": "stderr",
          "output_type": "stream",
          "text": [
            "\r319it [04:38,  1.30it/s]"
          ]
        },
        {
          "name": "stdout",
          "output_type": "stream",
          "text": [
            "Accuracy :   0.65\n"
          ]
        },
        {
          "name": "stderr",
          "output_type": "stream",
          "text": [
            "\r320it [04:39,  1.29it/s]"
          ]
        },
        {
          "name": "stdout",
          "output_type": "stream",
          "text": [
            "Accuracy :   0.88\n"
          ]
        },
        {
          "name": "stderr",
          "output_type": "stream",
          "text": [
            "\r321it [04:40,  1.30it/s]"
          ]
        },
        {
          "name": "stdout",
          "output_type": "stream",
          "text": [
            "Accuracy :   0.96\n"
          ]
        },
        {
          "name": "stderr",
          "output_type": "stream",
          "text": [
            "\r322it [04:41,  1.30it/s]"
          ]
        },
        {
          "name": "stdout",
          "output_type": "stream",
          "text": [
            "Accuracy :   0.50\n"
          ]
        },
        {
          "name": "stderr",
          "output_type": "stream",
          "text": [
            "\r323it [04:41,  1.29it/s]"
          ]
        },
        {
          "name": "stdout",
          "output_type": "stream",
          "text": [
            "Accuracy :   0.53\n"
          ]
        },
        {
          "name": "stderr",
          "output_type": "stream",
          "text": [
            "\r324it [04:42,  1.29it/s]"
          ]
        },
        {
          "name": "stdout",
          "output_type": "stream",
          "text": [
            "Accuracy :   0.50\n"
          ]
        },
        {
          "name": "stderr",
          "output_type": "stream",
          "text": [
            "\r325it [04:43,  1.29it/s]"
          ]
        },
        {
          "name": "stdout",
          "output_type": "stream",
          "text": [
            "Accuracy :   0.50\n"
          ]
        },
        {
          "name": "stderr",
          "output_type": "stream",
          "text": [
            "\r326it [04:44,  1.29it/s]"
          ]
        },
        {
          "name": "stdout",
          "output_type": "stream",
          "text": [
            "Accuracy :   0.97\n"
          ]
        },
        {
          "name": "stderr",
          "output_type": "stream",
          "text": [
            "\r327it [04:44,  1.29it/s]"
          ]
        },
        {
          "name": "stdout",
          "output_type": "stream",
          "text": [
            "Accuracy :   1.00\n"
          ]
        },
        {
          "name": "stderr",
          "output_type": "stream",
          "text": [
            "\r328it [04:45,  1.29it/s]"
          ]
        },
        {
          "name": "stdout",
          "output_type": "stream",
          "text": [
            "Accuracy :   0.62\n"
          ]
        },
        {
          "name": "stderr",
          "output_type": "stream",
          "text": [
            "\r329it [04:46,  1.28it/s]"
          ]
        },
        {
          "name": "stdout",
          "output_type": "stream",
          "text": [
            "Accuracy :   0.39\n"
          ]
        },
        {
          "name": "stderr",
          "output_type": "stream",
          "text": [
            "\r330it [04:47,  1.28it/s]"
          ]
        },
        {
          "name": "stdout",
          "output_type": "stream",
          "text": [
            "Accuracy :   0.94\n"
          ]
        },
        {
          "name": "stderr",
          "output_type": "stream",
          "text": [
            "\r331it [04:48,  1.30it/s]"
          ]
        },
        {
          "name": "stdout",
          "output_type": "stream",
          "text": [
            "Accuracy :   0.61\n"
          ]
        },
        {
          "name": "stderr",
          "output_type": "stream",
          "text": [
            "\r332it [04:48,  1.29it/s]"
          ]
        },
        {
          "name": "stdout",
          "output_type": "stream",
          "text": [
            "Accuracy :   0.97\n"
          ]
        },
        {
          "name": "stderr",
          "output_type": "stream",
          "text": [
            "\r333it [04:49,  1.28it/s]"
          ]
        },
        {
          "name": "stdout",
          "output_type": "stream",
          "text": [
            "Accuracy :   0.97\n"
          ]
        },
        {
          "name": "stderr",
          "output_type": "stream",
          "text": [
            "\r334it [04:50,  1.28it/s]"
          ]
        },
        {
          "name": "stdout",
          "output_type": "stream",
          "text": [
            "Accuracy :   0.43\n"
          ]
        },
        {
          "name": "stderr",
          "output_type": "stream",
          "text": [
            "\r335it [04:51,  1.29it/s]"
          ]
        },
        {
          "name": "stdout",
          "output_type": "stream",
          "text": [
            "Accuracy :   0.65\n"
          ]
        },
        {
          "name": "stderr",
          "output_type": "stream",
          "text": [
            "\r336it [04:51,  1.29it/s]"
          ]
        },
        {
          "name": "stdout",
          "output_type": "stream",
          "text": [
            "Accuracy :   0.60\n"
          ]
        },
        {
          "name": "stderr",
          "output_type": "stream",
          "text": [
            "\r337it [04:52,  1.29it/s]"
          ]
        },
        {
          "name": "stdout",
          "output_type": "stream",
          "text": [
            "Accuracy :   0.59\n"
          ]
        },
        {
          "name": "stderr",
          "output_type": "stream",
          "text": [
            "\r338it [04:53,  1.30it/s]"
          ]
        },
        {
          "name": "stdout",
          "output_type": "stream",
          "text": [
            "Accuracy :   0.41\n"
          ]
        },
        {
          "name": "stderr",
          "output_type": "stream",
          "text": [
            "\r339it [04:54,  1.31it/s]"
          ]
        },
        {
          "name": "stdout",
          "output_type": "stream",
          "text": [
            "Accuracy :   0.96\n"
          ]
        },
        {
          "name": "stderr",
          "output_type": "stream",
          "text": [
            "\r340it [04:55,  1.31it/s]"
          ]
        },
        {
          "name": "stdout",
          "output_type": "stream",
          "text": [
            "Accuracy :   0.44\n"
          ]
        },
        {
          "name": "stderr",
          "output_type": "stream",
          "text": [
            "\r341it [04:55,  1.29it/s]"
          ]
        },
        {
          "name": "stdout",
          "output_type": "stream",
          "text": [
            "Accuracy :   0.62\n"
          ]
        },
        {
          "name": "stderr",
          "output_type": "stream",
          "text": [
            "\r342it [04:56,  1.27it/s]"
          ]
        },
        {
          "name": "stdout",
          "output_type": "stream",
          "text": [
            "Accuracy :   0.31\n"
          ]
        },
        {
          "name": "stderr",
          "output_type": "stream",
          "text": [
            "\r343it [04:57,  1.25it/s]"
          ]
        },
        {
          "name": "stdout",
          "output_type": "stream",
          "text": [
            "Accuracy :   0.97\n"
          ]
        },
        {
          "name": "stderr",
          "output_type": "stream",
          "text": [
            "\r344it [04:58,  1.26it/s]"
          ]
        },
        {
          "name": "stdout",
          "output_type": "stream",
          "text": [
            "Accuracy :   0.60\n"
          ]
        },
        {
          "name": "stderr",
          "output_type": "stream",
          "text": [
            "\r345it [04:59,  1.24it/s]"
          ]
        },
        {
          "name": "stdout",
          "output_type": "stream",
          "text": [
            "Accuracy :   0.60\n"
          ]
        },
        {
          "name": "stderr",
          "output_type": "stream",
          "text": [
            "\r346it [04:59,  1.25it/s]"
          ]
        },
        {
          "name": "stdout",
          "output_type": "stream",
          "text": [
            "Accuracy :   0.41\n"
          ]
        },
        {
          "name": "stderr",
          "output_type": "stream",
          "text": [
            "\r347it [05:00,  1.24it/s]"
          ]
        },
        {
          "name": "stdout",
          "output_type": "stream",
          "text": [
            "Accuracy :   0.44\n"
          ]
        },
        {
          "name": "stderr",
          "output_type": "stream",
          "text": [
            "\r348it [05:01,  1.24it/s]"
          ]
        },
        {
          "name": "stdout",
          "output_type": "stream",
          "text": [
            "Accuracy :   0.56\n"
          ]
        },
        {
          "name": "stderr",
          "output_type": "stream",
          "text": [
            "\r349it [05:02,  1.24it/s]"
          ]
        },
        {
          "name": "stdout",
          "output_type": "stream",
          "text": [
            "Accuracy :   0.53\n"
          ]
        },
        {
          "name": "stderr",
          "output_type": "stream",
          "text": [
            "\r350it [05:03,  1.11it/s]"
          ]
        },
        {
          "name": "stdout",
          "output_type": "stream",
          "text": [
            "Accuracy :   0.59\n"
          ]
        },
        {
          "name": "stderr",
          "output_type": "stream",
          "text": [
            "\r351it [05:04,  1.00s/it]"
          ]
        },
        {
          "name": "stdout",
          "output_type": "stream",
          "text": [
            "Accuracy :   0.53\n"
          ]
        },
        {
          "name": "stderr",
          "output_type": "stream",
          "text": [
            "\r352it [05:05,  1.08s/it]"
          ]
        },
        {
          "name": "stdout",
          "output_type": "stream",
          "text": [
            "Accuracy :   1.00\n"
          ]
        },
        {
          "name": "stderr",
          "output_type": "stream",
          "text": [
            "\r353it [05:06,  1.00s/it]"
          ]
        },
        {
          "name": "stdout",
          "output_type": "stream",
          "text": [
            "Accuracy :   0.65\n"
          ]
        },
        {
          "name": "stderr",
          "output_type": "stream",
          "text": [
            "\r354it [05:07,  1.05it/s]"
          ]
        },
        {
          "name": "stdout",
          "output_type": "stream",
          "text": [
            "Accuracy :   0.44\n"
          ]
        },
        {
          "name": "stderr",
          "output_type": "stream",
          "text": [
            "\r355it [05:08,  1.10it/s]"
          ]
        },
        {
          "name": "stdout",
          "output_type": "stream",
          "text": [
            "Accuracy :   0.60\n"
          ]
        },
        {
          "name": "stderr",
          "output_type": "stream",
          "text": [
            "\r356it [05:09,  1.14it/s]"
          ]
        },
        {
          "name": "stdout",
          "output_type": "stream",
          "text": [
            "Accuracy :   0.77\n"
          ]
        },
        {
          "name": "stderr",
          "output_type": "stream",
          "text": [
            "\r357it [05:09,  1.17it/s]"
          ]
        },
        {
          "name": "stdout",
          "output_type": "stream",
          "text": [
            "Accuracy :   0.60\n"
          ]
        },
        {
          "name": "stderr",
          "output_type": "stream",
          "text": [
            "\r358it [05:10,  1.12it/s]"
          ]
        },
        {
          "name": "stdout",
          "output_type": "stream",
          "text": [
            "Accuracy :   0.60\n"
          ]
        },
        {
          "name": "stderr",
          "output_type": "stream",
          "text": [
            "\r359it [05:11,  1.10it/s]"
          ]
        },
        {
          "name": "stdout",
          "output_type": "stream",
          "text": [
            "Accuracy :   1.00\n"
          ]
        },
        {
          "name": "stderr",
          "output_type": "stream",
          "text": [
            "\r360it [05:13,  1.03it/s]"
          ]
        },
        {
          "name": "stdout",
          "output_type": "stream",
          "text": [
            "Accuracy :   1.00\n"
          ]
        },
        {
          "name": "stderr",
          "output_type": "stream",
          "text": [
            "\r361it [05:13,  1.11it/s]"
          ]
        },
        {
          "name": "stdout",
          "output_type": "stream",
          "text": [
            "Accuracy :   0.64\n"
          ]
        },
        {
          "name": "stderr",
          "output_type": "stream",
          "text": [
            "\r362it [05:14,  1.16it/s]"
          ]
        },
        {
          "name": "stdout",
          "output_type": "stream",
          "text": [
            "Accuracy :   0.50\n"
          ]
        },
        {
          "name": "stderr",
          "output_type": "stream",
          "text": [
            "\r363it [05:15,  1.19it/s]"
          ]
        },
        {
          "name": "stdout",
          "output_type": "stream",
          "text": [
            "Accuracy :   0.68\n"
          ]
        },
        {
          "name": "stderr",
          "output_type": "stream",
          "text": [
            "\r364it [05:16,  1.03it/s]"
          ]
        },
        {
          "name": "stdout",
          "output_type": "stream",
          "text": [
            "Accuracy :   1.00\n"
          ]
        },
        {
          "name": "stderr",
          "output_type": "stream",
          "text": [
            "\r365it [05:18,  1.13s/it]"
          ]
        },
        {
          "name": "stdout",
          "output_type": "stream",
          "text": [
            "Accuracy :   0.50\n"
          ]
        },
        {
          "name": "stderr",
          "output_type": "stream",
          "text": [
            "\r366it [05:19,  1.10s/it]"
          ]
        },
        {
          "name": "stdout",
          "output_type": "stream",
          "text": [
            "Accuracy :   0.53\n"
          ]
        },
        {
          "name": "stderr",
          "output_type": "stream",
          "text": [
            "\r367it [05:20,  1.04s/it]"
          ]
        },
        {
          "name": "stdout",
          "output_type": "stream",
          "text": [
            "Accuracy :   0.85\n"
          ]
        },
        {
          "name": "stderr",
          "output_type": "stream",
          "text": [
            "\r368it [05:21,  1.29s/it]"
          ]
        },
        {
          "name": "stdout",
          "output_type": "stream",
          "text": [
            "Accuracy :   0.63\n"
          ]
        },
        {
          "name": "stderr",
          "output_type": "stream",
          "text": [
            "\r369it [05:23,  1.38s/it]"
          ]
        },
        {
          "name": "stdout",
          "output_type": "stream",
          "text": [
            "Accuracy :   0.46\n"
          ]
        },
        {
          "name": "stderr",
          "output_type": "stream",
          "text": [
            "\r370it [05:24,  1.27s/it]"
          ]
        },
        {
          "name": "stdout",
          "output_type": "stream",
          "text": [
            "Accuracy :   0.50\n"
          ]
        },
        {
          "name": "stderr",
          "output_type": "stream",
          "text": [
            "\r371it [05:25,  1.25s/it]"
          ]
        },
        {
          "name": "stdout",
          "output_type": "stream",
          "text": [
            "Accuracy :   0.53\n"
          ]
        },
        {
          "name": "stderr",
          "output_type": "stream",
          "text": [
            "\r372it [05:26,  1.10s/it]"
          ]
        },
        {
          "name": "stdout",
          "output_type": "stream",
          "text": [
            "Accuracy :   0.97\n"
          ]
        },
        {
          "name": "stderr",
          "output_type": "stream",
          "text": [
            "\r373it [05:27,  1.00it/s]"
          ]
        },
        {
          "name": "stdout",
          "output_type": "stream",
          "text": [
            "Accuracy :   0.62\n"
          ]
        },
        {
          "name": "stderr",
          "output_type": "stream",
          "text": [
            "\r374it [05:28,  1.08it/s]"
          ]
        },
        {
          "name": "stdout",
          "output_type": "stream",
          "text": [
            "Accuracy :   0.53\n"
          ]
        },
        {
          "name": "stderr",
          "output_type": "stream",
          "text": [
            "\r375it [05:28,  1.15it/s]"
          ]
        },
        {
          "name": "stdout",
          "output_type": "stream",
          "text": [
            "Accuracy :   0.62\n"
          ]
        },
        {
          "name": "stderr",
          "output_type": "stream",
          "text": [
            "\r376it [05:29,  1.09it/s]"
          ]
        },
        {
          "name": "stdout",
          "output_type": "stream",
          "text": [
            "Accuracy :   0.62\n"
          ]
        },
        {
          "name": "stderr",
          "output_type": "stream",
          "text": [
            "\r377it [05:30,  1.04it/s]"
          ]
        },
        {
          "name": "stdout",
          "output_type": "stream",
          "text": [
            "Accuracy :   0.50\n"
          ]
        },
        {
          "name": "stderr",
          "output_type": "stream",
          "text": [
            "\r378it [05:31,  1.10it/s]"
          ]
        },
        {
          "name": "stdout",
          "output_type": "stream",
          "text": [
            "Accuracy :   0.95\n"
          ]
        },
        {
          "name": "stderr",
          "output_type": "stream",
          "text": [
            "\r379it [05:32,  1.10it/s]"
          ]
        },
        {
          "name": "stdout",
          "output_type": "stream",
          "text": [
            "Accuracy :   0.65\n"
          ]
        },
        {
          "name": "stderr",
          "output_type": "stream",
          "text": [
            "\r380it [05:33,  1.15it/s]"
          ]
        },
        {
          "name": "stdout",
          "output_type": "stream",
          "text": [
            "Accuracy :   0.92\n"
          ]
        },
        {
          "name": "stderr",
          "output_type": "stream",
          "text": [
            "\r381it [05:34,  1.19it/s]"
          ]
        },
        {
          "name": "stdout",
          "output_type": "stream",
          "text": [
            "Accuracy :   0.41\n"
          ]
        },
        {
          "name": "stderr",
          "output_type": "stream",
          "text": [
            "\r382it [05:35,  1.05it/s]"
          ]
        },
        {
          "name": "stdout",
          "output_type": "stream",
          "text": [
            "Accuracy :   0.46\n"
          ]
        },
        {
          "name": "stderr",
          "output_type": "stream",
          "text": [
            "\r383it [05:36,  1.12it/s]"
          ]
        },
        {
          "name": "stdout",
          "output_type": "stream",
          "text": [
            "Accuracy :   1.00\n"
          ]
        },
        {
          "name": "stderr",
          "output_type": "stream",
          "text": [
            "\r384it [05:36,  1.16it/s]"
          ]
        },
        {
          "name": "stdout",
          "output_type": "stream",
          "text": [
            "Accuracy :   0.97\n"
          ]
        },
        {
          "name": "stderr",
          "output_type": "stream",
          "text": [
            "\r385it [05:37,  1.08it/s]"
          ]
        },
        {
          "name": "stdout",
          "output_type": "stream",
          "text": [
            "Accuracy :   0.44\n"
          ]
        },
        {
          "name": "stderr",
          "output_type": "stream",
          "text": [
            "\r386it [05:39,  1.01it/s]"
          ]
        },
        {
          "name": "stdout",
          "output_type": "stream",
          "text": [
            "Accuracy :   0.97\n"
          ]
        },
        {
          "name": "stderr",
          "output_type": "stream",
          "text": [
            "\r387it [05:40,  1.02s/it]"
          ]
        },
        {
          "name": "stdout",
          "output_type": "stream",
          "text": [
            "Accuracy :   0.97\n"
          ]
        },
        {
          "name": "stderr",
          "output_type": "stream",
          "text": [
            "\r388it [05:40,  1.06it/s]"
          ]
        },
        {
          "name": "stdout",
          "output_type": "stream",
          "text": [
            "Accuracy :   0.87\n"
          ]
        },
        {
          "name": "stderr",
          "output_type": "stream",
          "text": [
            "\r389it [05:42,  1.20s/it]"
          ]
        },
        {
          "name": "stdout",
          "output_type": "stream",
          "text": [
            "Accuracy :   0.69\n"
          ]
        },
        {
          "name": "stderr",
          "output_type": "stream",
          "text": [
            "\r390it [05:44,  1.36s/it]"
          ]
        },
        {
          "name": "stdout",
          "output_type": "stream",
          "text": [
            "Accuracy :   0.62\n"
          ]
        },
        {
          "name": "stderr",
          "output_type": "stream",
          "text": [
            "\r391it [05:45,  1.31s/it]"
          ]
        },
        {
          "name": "stdout",
          "output_type": "stream",
          "text": [
            "Accuracy :   1.00\n"
          ]
        },
        {
          "name": "stderr",
          "output_type": "stream",
          "text": [
            "\r392it [05:46,  1.15s/it]"
          ]
        },
        {
          "name": "stdout",
          "output_type": "stream",
          "text": [
            "Accuracy :   0.68\n"
          ]
        },
        {
          "name": "stderr",
          "output_type": "stream",
          "text": [
            "\r393it [05:47,  1.03s/it]"
          ]
        },
        {
          "name": "stdout",
          "output_type": "stream",
          "text": [
            "Accuracy :   0.92\n"
          ]
        },
        {
          "name": "stderr",
          "output_type": "stream",
          "text": [
            "\r394it [05:48,  1.02s/it]"
          ]
        },
        {
          "name": "stdout",
          "output_type": "stream",
          "text": [
            "Accuracy :   0.62\n"
          ]
        },
        {
          "name": "stderr",
          "output_type": "stream",
          "text": [
            "\r395it [05:49,  1.01it/s]"
          ]
        },
        {
          "name": "stdout",
          "output_type": "stream",
          "text": [
            "Accuracy :   0.53\n"
          ]
        },
        {
          "name": "stderr",
          "output_type": "stream",
          "text": [
            "\r396it [05:49,  1.07it/s]"
          ]
        },
        {
          "name": "stdout",
          "output_type": "stream",
          "text": [
            "Accuracy :   0.65\n"
          ]
        },
        {
          "name": "stderr",
          "output_type": "stream",
          "text": [
            "\r397it [05:50,  1.14it/s]"
          ]
        },
        {
          "name": "stdout",
          "output_type": "stream",
          "text": [
            "Accuracy :   0.65\n"
          ]
        },
        {
          "name": "stderr",
          "output_type": "stream",
          "text": [
            "\r398it [05:51,  1.19it/s]"
          ]
        },
        {
          "name": "stdout",
          "output_type": "stream",
          "text": [
            "Accuracy :   0.94\n"
          ]
        },
        {
          "name": "stderr",
          "output_type": "stream",
          "text": [
            "\r399it [05:52,  1.23it/s]"
          ]
        },
        {
          "name": "stdout",
          "output_type": "stream",
          "text": [
            "Accuracy :   0.62\n"
          ]
        },
        {
          "name": "stderr",
          "output_type": "stream",
          "text": [
            "\r400it [05:52,  1.27it/s]"
          ]
        },
        {
          "name": "stdout",
          "output_type": "stream",
          "text": [
            "Accuracy :   0.44\n"
          ]
        },
        {
          "name": "stderr",
          "output_type": "stream",
          "text": [
            "\r401it [05:53,  1.27it/s]"
          ]
        },
        {
          "name": "stdout",
          "output_type": "stream",
          "text": [
            "Accuracy :   1.00\n"
          ]
        },
        {
          "name": "stderr",
          "output_type": "stream",
          "text": [
            "\r402it [05:54,  1.28it/s]"
          ]
        },
        {
          "name": "stdout",
          "output_type": "stream",
          "text": [
            "Accuracy :   0.96\n"
          ]
        },
        {
          "name": "stderr",
          "output_type": "stream",
          "text": [
            "\r403it [05:55,  1.28it/s]"
          ]
        },
        {
          "name": "stdout",
          "output_type": "stream",
          "text": [
            "Accuracy :   0.53\n"
          ]
        },
        {
          "name": "stderr",
          "output_type": "stream",
          "text": [
            "\r404it [05:55,  1.29it/s]"
          ]
        },
        {
          "name": "stdout",
          "output_type": "stream",
          "text": [
            "Accuracy :   0.96\n"
          ]
        },
        {
          "name": "stderr",
          "output_type": "stream",
          "text": [
            "\r405it [05:56,  1.30it/s]"
          ]
        },
        {
          "name": "stdout",
          "output_type": "stream",
          "text": [
            "Accuracy :   1.00\n"
          ]
        },
        {
          "name": "stderr",
          "output_type": "stream",
          "text": [
            "\r406it [05:57,  1.29it/s]"
          ]
        },
        {
          "name": "stdout",
          "output_type": "stream",
          "text": [
            "Accuracy :   0.70\n"
          ]
        },
        {
          "name": "stderr",
          "output_type": "stream",
          "text": [
            "\r407it [05:58,  1.30it/s]"
          ]
        },
        {
          "name": "stdout",
          "output_type": "stream",
          "text": [
            "Accuracy :   1.00\n"
          ]
        },
        {
          "name": "stderr",
          "output_type": "stream",
          "text": [
            "\r408it [05:59,  1.27it/s]"
          ]
        },
        {
          "name": "stdout",
          "output_type": "stream",
          "text": [
            "Accuracy :   0.66\n"
          ]
        },
        {
          "name": "stderr",
          "output_type": "stream",
          "text": [
            "\r409it [05:59,  1.28it/s]"
          ]
        },
        {
          "name": "stdout",
          "output_type": "stream",
          "text": [
            "Accuracy :   0.77\n"
          ]
        },
        {
          "name": "stderr",
          "output_type": "stream",
          "text": [
            "\r410it [06:00,  1.28it/s]"
          ]
        },
        {
          "name": "stdout",
          "output_type": "stream",
          "text": [
            "Accuracy :   0.96\n"
          ]
        },
        {
          "name": "stderr",
          "output_type": "stream",
          "text": [
            "\r411it [06:01,  1.28it/s]"
          ]
        },
        {
          "name": "stdout",
          "output_type": "stream",
          "text": [
            "Accuracy :   0.46\n"
          ]
        },
        {
          "name": "stderr",
          "output_type": "stream",
          "text": [
            "\r412it [06:02,  1.29it/s]"
          ]
        },
        {
          "name": "stdout",
          "output_type": "stream",
          "text": [
            "Accuracy :   0.62\n"
          ]
        },
        {
          "name": "stderr",
          "output_type": "stream",
          "text": [
            "\r413it [06:02,  1.29it/s]"
          ]
        },
        {
          "name": "stdout",
          "output_type": "stream",
          "text": [
            "Accuracy :   0.44\n"
          ]
        },
        {
          "name": "stderr",
          "output_type": "stream",
          "text": [
            "\r414it [06:03,  1.29it/s]"
          ]
        },
        {
          "name": "stdout",
          "output_type": "stream",
          "text": [
            "Accuracy :   1.00\n"
          ]
        },
        {
          "name": "stderr",
          "output_type": "stream",
          "text": [
            "\r415it [06:04,  1.27it/s]"
          ]
        },
        {
          "name": "stdout",
          "output_type": "stream",
          "text": [
            "Accuracy :   0.44\n"
          ]
        },
        {
          "name": "stderr",
          "output_type": "stream",
          "text": [
            "\r416it [06:05,  1.28it/s]"
          ]
        },
        {
          "name": "stdout",
          "output_type": "stream",
          "text": [
            "Accuracy :   0.44\n"
          ]
        },
        {
          "name": "stderr",
          "output_type": "stream",
          "text": [
            "\r417it [06:06,  1.28it/s]"
          ]
        },
        {
          "name": "stdout",
          "output_type": "stream",
          "text": [
            "Accuracy :   0.69\n"
          ]
        },
        {
          "name": "stderr",
          "output_type": "stream",
          "text": [
            "\r418it [06:06,  1.29it/s]"
          ]
        },
        {
          "name": "stdout",
          "output_type": "stream",
          "text": [
            "Accuracy :   0.81\n"
          ]
        },
        {
          "name": "stderr",
          "output_type": "stream",
          "text": [
            "\r419it [06:07,  1.30it/s]"
          ]
        },
        {
          "name": "stdout",
          "output_type": "stream",
          "text": [
            "Accuracy :   0.61\n"
          ]
        },
        {
          "name": "stderr",
          "output_type": "stream",
          "text": [
            "\r420it [06:08,  1.31it/s]"
          ]
        },
        {
          "name": "stdout",
          "output_type": "stream",
          "text": [
            "Accuracy :   0.87\n"
          ]
        },
        {
          "name": "stderr",
          "output_type": "stream",
          "text": [
            "\r421it [06:09,  1.28it/s]"
          ]
        },
        {
          "name": "stdout",
          "output_type": "stream",
          "text": [
            "Accuracy :   1.00\n"
          ]
        },
        {
          "name": "stderr",
          "output_type": "stream",
          "text": [
            "\r422it [06:09,  1.29it/s]"
          ]
        },
        {
          "name": "stdout",
          "output_type": "stream",
          "text": [
            "Accuracy :   0.47\n"
          ]
        },
        {
          "name": "stderr",
          "output_type": "stream",
          "text": [
            "\r423it [06:10,  1.30it/s]"
          ]
        },
        {
          "name": "stdout",
          "output_type": "stream",
          "text": [
            "Accuracy :   0.56\n"
          ]
        },
        {
          "name": "stderr",
          "output_type": "stream",
          "text": [
            "\r424it [06:11,  1.30it/s]"
          ]
        },
        {
          "name": "stdout",
          "output_type": "stream",
          "text": [
            "Accuracy :   0.53\n"
          ]
        },
        {
          "name": "stderr",
          "output_type": "stream",
          "text": [
            "\r425it [06:12,  1.30it/s]"
          ]
        },
        {
          "name": "stdout",
          "output_type": "stream",
          "text": [
            "Accuracy :   0.53\n"
          ]
        },
        {
          "name": "stderr",
          "output_type": "stream",
          "text": [
            "\r426it [06:13,  1.30it/s]"
          ]
        },
        {
          "name": "stdout",
          "output_type": "stream",
          "text": [
            "Accuracy :   0.53\n"
          ]
        },
        {
          "name": "stderr",
          "output_type": "stream",
          "text": [
            "\r427it [06:13,  1.30it/s]"
          ]
        },
        {
          "name": "stdout",
          "output_type": "stream",
          "text": [
            "Accuracy :   0.44\n"
          ]
        },
        {
          "name": "stderr",
          "output_type": "stream",
          "text": [
            "\r428it [06:14,  1.30it/s]"
          ]
        },
        {
          "name": "stdout",
          "output_type": "stream",
          "text": [
            "Accuracy :   0.77\n"
          ]
        },
        {
          "name": "stderr",
          "output_type": "stream",
          "text": [
            "\r429it [06:15,  1.31it/s]"
          ]
        },
        {
          "name": "stdout",
          "output_type": "stream",
          "text": [
            "Accuracy :   0.44\n"
          ]
        },
        {
          "name": "stderr",
          "output_type": "stream",
          "text": [
            "\r430it [06:16,  1.30it/s]"
          ]
        },
        {
          "name": "stdout",
          "output_type": "stream",
          "text": [
            "Accuracy :   0.50\n"
          ]
        },
        {
          "name": "stderr",
          "output_type": "stream",
          "text": [
            "\r431it [06:16,  1.30it/s]"
          ]
        },
        {
          "name": "stdout",
          "output_type": "stream",
          "text": [
            "Accuracy :   0.46\n"
          ]
        },
        {
          "name": "stderr",
          "output_type": "stream",
          "text": [
            "\r432it [06:17,  1.32it/s]"
          ]
        },
        {
          "name": "stdout",
          "output_type": "stream",
          "text": [
            "Accuracy :   0.94\n"
          ]
        },
        {
          "name": "stderr",
          "output_type": "stream",
          "text": [
            "\r433it [06:18,  1.31it/s]"
          ]
        },
        {
          "name": "stdout",
          "output_type": "stream",
          "text": [
            "Accuracy :   0.53\n"
          ]
        },
        {
          "name": "stderr",
          "output_type": "stream",
          "text": [
            "\r434it [06:19,  1.31it/s]"
          ]
        },
        {
          "name": "stdout",
          "output_type": "stream",
          "text": [
            "Accuracy :   1.00\n"
          ]
        },
        {
          "name": "stderr",
          "output_type": "stream",
          "text": [
            "\r435it [06:19,  1.31it/s]"
          ]
        },
        {
          "name": "stdout",
          "output_type": "stream",
          "text": [
            "Accuracy :   0.97\n"
          ]
        },
        {
          "name": "stderr",
          "output_type": "stream",
          "text": [
            "\r436it [06:20,  1.32it/s]"
          ]
        },
        {
          "name": "stdout",
          "output_type": "stream",
          "text": [
            "Accuracy :   0.94\n"
          ]
        },
        {
          "name": "stderr",
          "output_type": "stream",
          "text": [
            "\r437it [06:21,  1.33it/s]"
          ]
        },
        {
          "name": "stdout",
          "output_type": "stream",
          "text": [
            "Accuracy :   0.46\n"
          ]
        },
        {
          "name": "stderr",
          "output_type": "stream",
          "text": [
            "\r438it [06:22,  1.31it/s]"
          ]
        },
        {
          "name": "stdout",
          "output_type": "stream",
          "text": [
            "Accuracy :   0.97\n"
          ]
        },
        {
          "name": "stderr",
          "output_type": "stream",
          "text": [
            "\r439it [06:22,  1.31it/s]"
          ]
        },
        {
          "name": "stdout",
          "output_type": "stream",
          "text": [
            "Accuracy :   1.00\n"
          ]
        },
        {
          "name": "stderr",
          "output_type": "stream",
          "text": [
            "\r440it [06:23,  1.32it/s]"
          ]
        },
        {
          "name": "stdout",
          "output_type": "stream",
          "text": [
            "Accuracy :   0.95\n"
          ]
        },
        {
          "name": "stderr",
          "output_type": "stream",
          "text": [
            "\r441it [06:24,  1.32it/s]"
          ]
        },
        {
          "name": "stdout",
          "output_type": "stream",
          "text": [
            "Accuracy :   0.97\n"
          ]
        },
        {
          "name": "stderr",
          "output_type": "stream",
          "text": [
            "\r442it [06:25,  1.31it/s]"
          ]
        },
        {
          "name": "stdout",
          "output_type": "stream",
          "text": [
            "Accuracy :   0.60\n"
          ]
        },
        {
          "name": "stderr",
          "output_type": "stream",
          "text": [
            "\r443it [06:25,  1.30it/s]"
          ]
        },
        {
          "name": "stdout",
          "output_type": "stream",
          "text": [
            "Accuracy :   0.88\n"
          ]
        },
        {
          "name": "stderr",
          "output_type": "stream",
          "text": [
            "\r444it [06:26,  1.29it/s]"
          ]
        },
        {
          "name": "stdout",
          "output_type": "stream",
          "text": [
            "Accuracy :   0.50\n"
          ]
        },
        {
          "name": "stderr",
          "output_type": "stream",
          "text": [
            "\r445it [06:27,  1.29it/s]"
          ]
        },
        {
          "name": "stdout",
          "output_type": "stream",
          "text": [
            "Accuracy :   0.97\n"
          ]
        },
        {
          "name": "stderr",
          "output_type": "stream",
          "text": [
            "\r446it [06:28,  1.31it/s]"
          ]
        },
        {
          "name": "stdout",
          "output_type": "stream",
          "text": [
            "Accuracy :   0.93\n"
          ]
        },
        {
          "name": "stderr",
          "output_type": "stream",
          "text": [
            "\r447it [06:29,  1.30it/s]"
          ]
        },
        {
          "name": "stdout",
          "output_type": "stream",
          "text": [
            "Accuracy :   0.70\n"
          ]
        },
        {
          "name": "stderr",
          "output_type": "stream",
          "text": [
            "\r448it [06:29,  1.30it/s]"
          ]
        },
        {
          "name": "stdout",
          "output_type": "stream",
          "text": [
            "Accuracy :   0.41\n"
          ]
        },
        {
          "name": "stderr",
          "output_type": "stream",
          "text": [
            "\r449it [06:30,  1.31it/s]"
          ]
        },
        {
          "name": "stdout",
          "output_type": "stream",
          "text": [
            "Accuracy :   0.94\n"
          ]
        },
        {
          "name": "stderr",
          "output_type": "stream",
          "text": [
            "\r450it [06:31,  1.30it/s]"
          ]
        },
        {
          "name": "stdout",
          "output_type": "stream",
          "text": [
            "Accuracy :   0.65\n"
          ]
        },
        {
          "name": "stderr",
          "output_type": "stream",
          "text": [
            "\r451it [06:32,  1.29it/s]"
          ]
        },
        {
          "name": "stdout",
          "output_type": "stream",
          "text": [
            "Accuracy :   0.46\n"
          ]
        },
        {
          "name": "stderr",
          "output_type": "stream",
          "text": [
            "\r452it [06:32,  1.31it/s]"
          ]
        },
        {
          "name": "stdout",
          "output_type": "stream",
          "text": [
            "Accuracy :   0.60\n"
          ]
        },
        {
          "name": "stderr",
          "output_type": "stream",
          "text": [
            "\r453it [06:33,  1.32it/s]"
          ]
        },
        {
          "name": "stdout",
          "output_type": "stream",
          "text": [
            "Accuracy :   0.66\n"
          ]
        },
        {
          "name": "stderr",
          "output_type": "stream",
          "text": [
            "\r454it [06:34,  1.32it/s]"
          ]
        },
        {
          "name": "stdout",
          "output_type": "stream",
          "text": [
            "Accuracy :   1.00\n"
          ]
        },
        {
          "name": "stderr",
          "output_type": "stream",
          "text": [
            "\r455it [06:35,  1.31it/s]"
          ]
        },
        {
          "name": "stdout",
          "output_type": "stream",
          "text": [
            "Accuracy :   1.00\n"
          ]
        },
        {
          "name": "stderr",
          "output_type": "stream",
          "text": [
            "\r456it [06:35,  1.31it/s]"
          ]
        },
        {
          "name": "stdout",
          "output_type": "stream",
          "text": [
            "Accuracy :   0.73\n"
          ]
        },
        {
          "name": "stderr",
          "output_type": "stream",
          "text": [
            "\r457it [06:36,  1.33it/s]"
          ]
        },
        {
          "name": "stdout",
          "output_type": "stream",
          "text": [
            "Accuracy :   0.82\n"
          ]
        },
        {
          "name": "stderr",
          "output_type": "stream",
          "text": [
            "\r458it [06:37,  1.33it/s]"
          ]
        },
        {
          "name": "stdout",
          "output_type": "stream",
          "text": [
            "Accuracy :   1.00\n"
          ]
        },
        {
          "name": "stderr",
          "output_type": "stream",
          "text": [
            "\r459it [06:38,  1.33it/s]"
          ]
        },
        {
          "name": "stdout",
          "output_type": "stream",
          "text": [
            "Accuracy :   0.77\n"
          ]
        },
        {
          "name": "stderr",
          "output_type": "stream",
          "text": [
            "\r460it [06:38,  1.33it/s]"
          ]
        },
        {
          "name": "stdout",
          "output_type": "stream",
          "text": [
            "Accuracy :   0.57\n"
          ]
        },
        {
          "name": "stderr",
          "output_type": "stream",
          "text": [
            "\r461it [06:39,  1.33it/s]"
          ]
        },
        {
          "name": "stdout",
          "output_type": "stream",
          "text": [
            "Accuracy :   0.65\n"
          ]
        },
        {
          "name": "stderr",
          "output_type": "stream",
          "text": [
            "\r462it [06:40,  1.32it/s]"
          ]
        },
        {
          "name": "stdout",
          "output_type": "stream",
          "text": [
            "Accuracy :   0.97\n"
          ]
        },
        {
          "name": "stderr",
          "output_type": "stream",
          "text": [
            "\r463it [06:41,  1.32it/s]"
          ]
        },
        {
          "name": "stdout",
          "output_type": "stream",
          "text": [
            "Accuracy :   0.69\n"
          ]
        },
        {
          "name": "stderr",
          "output_type": "stream",
          "text": [
            "\r464it [06:41,  1.31it/s]"
          ]
        },
        {
          "name": "stdout",
          "output_type": "stream",
          "text": [
            "Accuracy :   0.46\n"
          ]
        },
        {
          "name": "stderr",
          "output_type": "stream",
          "text": [
            "\r465it [06:42,  1.32it/s]"
          ]
        },
        {
          "name": "stdout",
          "output_type": "stream",
          "text": [
            "Accuracy :   1.00\n"
          ]
        },
        {
          "name": "stderr",
          "output_type": "stream",
          "text": [
            "\r466it [06:43,  1.33it/s]"
          ]
        },
        {
          "name": "stdout",
          "output_type": "stream",
          "text": [
            "Accuracy :   0.65\n"
          ]
        },
        {
          "name": "stderr",
          "output_type": "stream",
          "text": [
            "\r467it [06:44,  1.33it/s]"
          ]
        },
        {
          "name": "stdout",
          "output_type": "stream",
          "text": [
            "Accuracy :   0.61\n"
          ]
        },
        {
          "name": "stderr",
          "output_type": "stream",
          "text": [
            "\r468it [06:44,  1.32it/s]"
          ]
        },
        {
          "name": "stdout",
          "output_type": "stream",
          "text": [
            "Accuracy :   0.71\n"
          ]
        },
        {
          "name": "stderr",
          "output_type": "stream",
          "text": [
            "\r469it [06:45,  1.31it/s]"
          ]
        },
        {
          "name": "stdout",
          "output_type": "stream",
          "text": [
            "Accuracy :   0.93\n"
          ]
        },
        {
          "name": "stderr",
          "output_type": "stream",
          "text": [
            "\r470it [06:46,  1.30it/s]"
          ]
        },
        {
          "name": "stdout",
          "output_type": "stream",
          "text": [
            "Accuracy :   0.53\n"
          ]
        },
        {
          "name": "stderr",
          "output_type": "stream",
          "text": [
            "\r471it [06:47,  1.30it/s]"
          ]
        },
        {
          "name": "stdout",
          "output_type": "stream",
          "text": [
            "Accuracy :   0.97\n"
          ]
        },
        {
          "name": "stderr",
          "output_type": "stream",
          "text": [
            "\r472it [06:48,  1.30it/s]"
          ]
        },
        {
          "name": "stdout",
          "output_type": "stream",
          "text": [
            "Accuracy :   0.53\n"
          ]
        },
        {
          "name": "stderr",
          "output_type": "stream",
          "text": [
            "\r473it [06:48,  1.31it/s]"
          ]
        },
        {
          "name": "stdout",
          "output_type": "stream",
          "text": [
            "Accuracy :   0.53\n"
          ]
        },
        {
          "name": "stderr",
          "output_type": "stream",
          "text": [
            "\r474it [06:49,  1.31it/s]"
          ]
        },
        {
          "name": "stdout",
          "output_type": "stream",
          "text": [
            "Accuracy :   1.00\n"
          ]
        },
        {
          "name": "stderr",
          "output_type": "stream",
          "text": [
            "\r475it [06:50,  1.30it/s]"
          ]
        },
        {
          "name": "stdout",
          "output_type": "stream",
          "text": [
            "Accuracy :   0.46\n"
          ]
        },
        {
          "name": "stderr",
          "output_type": "stream",
          "text": [
            "\r476it [06:51,  1.29it/s]"
          ]
        },
        {
          "name": "stdout",
          "output_type": "stream",
          "text": [
            "Accuracy :   0.68\n"
          ]
        },
        {
          "name": "stderr",
          "output_type": "stream",
          "text": [
            "\r477it [06:51,  1.30it/s]"
          ]
        },
        {
          "name": "stdout",
          "output_type": "stream",
          "text": [
            "Accuracy :   0.62\n"
          ]
        },
        {
          "name": "stderr",
          "output_type": "stream",
          "text": [
            "\r478it [06:52,  1.30it/s]"
          ]
        },
        {
          "name": "stdout",
          "output_type": "stream",
          "text": [
            "Accuracy :   0.93\n"
          ]
        },
        {
          "name": "stderr",
          "output_type": "stream",
          "text": [
            "\r479it [06:53,  1.30it/s]"
          ]
        },
        {
          "name": "stdout",
          "output_type": "stream",
          "text": [
            "Accuracy :   0.86\n"
          ]
        },
        {
          "name": "stderr",
          "output_type": "stream",
          "text": [
            "\r480it [06:54,  1.29it/s]"
          ]
        },
        {
          "name": "stdout",
          "output_type": "stream",
          "text": [
            "Accuracy :   0.47\n"
          ]
        },
        {
          "name": "stderr",
          "output_type": "stream",
          "text": [
            "\r481it [06:55,  1.29it/s]"
          ]
        },
        {
          "name": "stdout",
          "output_type": "stream",
          "text": [
            "Accuracy :   0.49\n"
          ]
        },
        {
          "name": "stderr",
          "output_type": "stream",
          "text": [
            "\r482it [06:55,  1.29it/s]"
          ]
        },
        {
          "name": "stdout",
          "output_type": "stream",
          "text": [
            "Accuracy :   0.53\n"
          ]
        },
        {
          "name": "stderr",
          "output_type": "stream",
          "text": [
            "\r483it [06:56,  1.28it/s]"
          ]
        },
        {
          "name": "stdout",
          "output_type": "stream",
          "text": [
            "Accuracy :   0.44\n"
          ]
        },
        {
          "name": "stderr",
          "output_type": "stream",
          "text": [
            "\r484it [06:57,  1.30it/s]"
          ]
        },
        {
          "name": "stdout",
          "output_type": "stream",
          "text": [
            "Accuracy :   0.50\n"
          ]
        },
        {
          "name": "stderr",
          "output_type": "stream",
          "text": [
            "\r485it [06:58,  1.32it/s]"
          ]
        },
        {
          "name": "stdout",
          "output_type": "stream",
          "text": [
            "Accuracy :   0.61\n"
          ]
        },
        {
          "name": "stderr",
          "output_type": "stream",
          "text": [
            "\r486it [06:58,  1.31it/s]"
          ]
        },
        {
          "name": "stdout",
          "output_type": "stream",
          "text": [
            "Accuracy :   0.36\n"
          ]
        },
        {
          "name": "stderr",
          "output_type": "stream",
          "text": [
            "\r487it [06:59,  1.30it/s]"
          ]
        },
        {
          "name": "stdout",
          "output_type": "stream",
          "text": [
            "Accuracy :   1.00\n"
          ]
        },
        {
          "name": "stderr",
          "output_type": "stream",
          "text": [
            "\r488it [07:01,  1.04it/s]"
          ]
        },
        {
          "name": "stdout",
          "output_type": "stream",
          "text": [
            "Accuracy :   0.77\n"
          ]
        },
        {
          "name": "stderr",
          "output_type": "stream",
          "text": [
            "\r489it [07:02,  1.08s/it]"
          ]
        },
        {
          "name": "stdout",
          "output_type": "stream",
          "text": [
            "Accuracy :   0.81\n"
          ]
        },
        {
          "name": "stderr",
          "output_type": "stream",
          "text": [
            "\r490it [07:03,  1.02it/s]"
          ]
        },
        {
          "name": "stdout",
          "output_type": "stream",
          "text": [
            "Accuracy :   1.00\n"
          ]
        },
        {
          "name": "stderr",
          "output_type": "stream",
          "text": [
            "\r491it [07:03,  1.09it/s]"
          ]
        },
        {
          "name": "stdout",
          "output_type": "stream",
          "text": [
            "Accuracy :   0.77\n"
          ]
        },
        {
          "name": "stderr",
          "output_type": "stream",
          "text": [
            "\r492it [07:04,  1.15it/s]"
          ]
        },
        {
          "name": "stdout",
          "output_type": "stream",
          "text": [
            "Accuracy :   0.38\n"
          ]
        },
        {
          "name": "stderr",
          "output_type": "stream",
          "text": [
            "\r493it [07:05,  1.20it/s]"
          ]
        },
        {
          "name": "stdout",
          "output_type": "stream",
          "text": [
            "Accuracy :   0.94\n"
          ]
        },
        {
          "name": "stderr",
          "output_type": "stream",
          "text": [
            "\r494it [07:06,  1.23it/s]"
          ]
        },
        {
          "name": "stdout",
          "output_type": "stream",
          "text": [
            "Accuracy :   0.62\n"
          ]
        },
        {
          "name": "stderr",
          "output_type": "stream",
          "text": [
            "\r495it [07:07,  1.10it/s]"
          ]
        },
        {
          "name": "stdout",
          "output_type": "stream",
          "text": [
            "Accuracy :   0.44\n"
          ]
        },
        {
          "name": "stderr",
          "output_type": "stream",
          "text": [
            "\r496it [07:08,  1.15it/s]"
          ]
        },
        {
          "name": "stdout",
          "output_type": "stream",
          "text": [
            "Accuracy :   0.96\n"
          ]
        },
        {
          "name": "stderr",
          "output_type": "stream",
          "text": [
            "\r497it [07:08,  1.19it/s]"
          ]
        },
        {
          "name": "stdout",
          "output_type": "stream",
          "text": [
            "Accuracy :   0.47\n"
          ]
        },
        {
          "name": "stderr",
          "output_type": "stream",
          "text": [
            "\r498it [07:09,  1.20it/s]"
          ]
        },
        {
          "name": "stdout",
          "output_type": "stream",
          "text": [
            "Accuracy :   0.96\n"
          ]
        },
        {
          "name": "stderr",
          "output_type": "stream",
          "text": [
            "\r499it [07:10,  1.21it/s]"
          ]
        },
        {
          "name": "stdout",
          "output_type": "stream",
          "text": [
            "Accuracy :   0.38\n"
          ]
        },
        {
          "name": "stderr",
          "output_type": "stream",
          "text": [
            "500it [07:11,  1.16it/s]"
          ]
        },
        {
          "name": "stdout",
          "output_type": "stream",
          "text": [
            "Accuracy :   0.88\n",
            "Accuracy :   0.70\n"
          ]
        },
        {
          "name": "stderr",
          "output_type": "stream",
          "text": [
            "\n"
          ]
        }
      ],
      "source": [
        "val_test_pred_part1, val_acc_part1 = predict_test_model(model, config, val_dataset, True)"
      ]
    },
    {
      "cell_type": "code",
      "execution_count": null,
      "metadata": {
        "colab": {
          "base_uri": "https://localhost:8080/"
        },
        "id": "pNOFBbfWoBh7",
        "outputId": "08178333-b89b-41be-f8c2-28e0b4c944f2"
      },
      "outputs": [
        {
          "name": "stderr",
          "output_type": "stream",
          "text": [
            "500it [06:27,  1.29it/s]\n"
          ]
        }
      ],
      "source": [
        "test_pred_part1, _ = predict_test_model(model, config, test_dataset, False)"
      ]
    },
    {
      "cell_type": "code",
      "execution_count": null,
      "metadata": {
        "colab": {
          "base_uri": "https://localhost:8080/",
          "height": 455
        },
        "id": "Wml3U8ANvrsm",
        "outputId": "dcba2551-1b65-4d6e-ce23-9ac07c00f324"
      },
      "outputs": [
        {
          "data": {
            "text/html": [
              "\n",
              "  <div id=\"df-2c7b429c-6379-4cb4-b435-2f0728ee9fd1\">\n",
              "    <div class=\"colab-df-container\">\n",
              "      <div>\n",
              "<style scoped>\n",
              "    .dataframe tbody tr th:only-of-type {\n",
              "        vertical-align: middle;\n",
              "    }\n",
              "\n",
              "    .dataframe tbody tr th {\n",
              "        vertical-align: top;\n",
              "    }\n",
              "\n",
              "    .dataframe thead th {\n",
              "        text-align: right;\n",
              "    }\n",
              "</style>\n",
              "<table border=\"1\" class=\"dataframe\">\n",
              "  <thead>\n",
              "    <tr style=\"text-align: right;\">\n",
              "      <th></th>\n",
              "      <th>translation</th>\n",
              "    </tr>\n",
              "    <tr>\n",
              "      <th>id</th>\n",
              "      <th></th>\n",
              "    </tr>\n",
              "  </thead>\n",
              "  <tbody>\n",
              "    <tr>\n",
              "      <th>0</th>\n",
              "      <td>select distinct ?uri where { dbr:Marine_Corps_...</td>\n",
              "    </tr>\n",
              "    <tr>\n",
              "      <th>1</th>\n",
              "      <td>select distinct ?uri where { dbr:&lt;unk&gt; ) dbp:d...</td>\n",
              "    </tr>\n",
              "    <tr>\n",
              "      <th>2</th>\n",
              "      <td>ask where { dbr:&lt;unk&gt; ) dbo:industry dbr:Pizza }</td>\n",
              "    </tr>\n",
              "    <tr>\n",
              "      <th>3</th>\n",
              "      <td>select distinct ?uri where { ?uri dbp:deputy d...</td>\n",
              "    </tr>\n",
              "    <tr>\n",
              "      <th>4</th>\n",
              "      <td>select distinct ?uri where { ?uri dbp:producer...</td>\n",
              "    </tr>\n",
              "    <tr>\n",
              "      <th>...</th>\n",
              "      <td>...</td>\n",
              "    </tr>\n",
              "    <tr>\n",
              "      <th>495</th>\n",
              "      <td>select distinct ?uri where { dbr:&lt;unk&gt; ) dbo:r...</td>\n",
              "    </tr>\n",
              "    <tr>\n",
              "      <th>496</th>\n",
              "      <td>select distinct ?uri where { dbr:LoDaisKa_Site...</td>\n",
              "    </tr>\n",
              "    <tr>\n",
              "      <th>497</th>\n",
              "      <td>select distinct ?uri where { dbr:&lt;unk&gt; ) dbp:m...</td>\n",
              "    </tr>\n",
              "    <tr>\n",
              "      <th>498</th>\n",
              "      <td>select distinct count ( ?uri ) where { ?x dbo:...</td>\n",
              "    </tr>\n",
              "    <tr>\n",
              "      <th>499</th>\n",
              "      <td>select distinct ?uri where { ?x dbp:school dbr...</td>\n",
              "    </tr>\n",
              "  </tbody>\n",
              "</table>\n",
              "<p>500 rows × 1 columns</p>\n",
              "</div>\n",
              "      <button class=\"colab-df-convert\" onclick=\"convertToInteractive('df-2c7b429c-6379-4cb4-b435-2f0728ee9fd1')\"\n",
              "              title=\"Convert this dataframe to an interactive table.\"\n",
              "              style=\"display:none;\">\n",
              "        \n",
              "  <svg xmlns=\"http://www.w3.org/2000/svg\" height=\"24px\"viewBox=\"0 0 24 24\"\n",
              "       width=\"24px\">\n",
              "    <path d=\"M0 0h24v24H0V0z\" fill=\"none\"/>\n",
              "    <path d=\"M18.56 5.44l.94 2.06.94-2.06 2.06-.94-2.06-.94-.94-2.06-.94 2.06-2.06.94zm-11 1L8.5 8.5l.94-2.06 2.06-.94-2.06-.94L8.5 2.5l-.94 2.06-2.06.94zm10 10l.94 2.06.94-2.06 2.06-.94-2.06-.94-.94-2.06-.94 2.06-2.06.94z\"/><path d=\"M17.41 7.96l-1.37-1.37c-.4-.4-.92-.59-1.43-.59-.52 0-1.04.2-1.43.59L10.3 9.45l-7.72 7.72c-.78.78-.78 2.05 0 2.83L4 21.41c.39.39.9.59 1.41.59.51 0 1.02-.2 1.41-.59l7.78-7.78 2.81-2.81c.8-.78.8-2.07 0-2.86zM5.41 20L4 18.59l7.72-7.72 1.47 1.35L5.41 20z\"/>\n",
              "  </svg>\n",
              "      </button>\n",
              "      \n",
              "  <style>\n",
              "    .colab-df-container {\n",
              "      display:flex;\n",
              "      flex-wrap:wrap;\n",
              "      gap: 12px;\n",
              "    }\n",
              "\n",
              "    .colab-df-convert {\n",
              "      background-color: #E8F0FE;\n",
              "      border: none;\n",
              "      border-radius: 50%;\n",
              "      cursor: pointer;\n",
              "      display: none;\n",
              "      fill: #1967D2;\n",
              "      height: 32px;\n",
              "      padding: 0 0 0 0;\n",
              "      width: 32px;\n",
              "    }\n",
              "\n",
              "    .colab-df-convert:hover {\n",
              "      background-color: #E2EBFA;\n",
              "      box-shadow: 0px 1px 2px rgba(60, 64, 67, 0.3), 0px 1px 3px 1px rgba(60, 64, 67, 0.15);\n",
              "      fill: #174EA6;\n",
              "    }\n",
              "\n",
              "    [theme=dark] .colab-df-convert {\n",
              "      background-color: #3B4455;\n",
              "      fill: #D2E3FC;\n",
              "    }\n",
              "\n",
              "    [theme=dark] .colab-df-convert:hover {\n",
              "      background-color: #434B5C;\n",
              "      box-shadow: 0px 1px 3px 1px rgba(0, 0, 0, 0.15);\n",
              "      filter: drop-shadow(0px 1px 2px rgba(0, 0, 0, 0.3));\n",
              "      fill: #FFFFFF;\n",
              "    }\n",
              "  </style>\n",
              "\n",
              "      <script>\n",
              "        const buttonEl =\n",
              "          document.querySelector('#df-2c7b429c-6379-4cb4-b435-2f0728ee9fd1 button.colab-df-convert');\n",
              "        buttonEl.style.display =\n",
              "          google.colab.kernel.accessAllowed ? 'block' : 'none';\n",
              "\n",
              "        async function convertToInteractive(key) {\n",
              "          const element = document.querySelector('#df-2c7b429c-6379-4cb4-b435-2f0728ee9fd1');\n",
              "          const dataTable =\n",
              "            await google.colab.kernel.invokeFunction('convertToInteractive',\n",
              "                                                     [key], {});\n",
              "          if (!dataTable) return;\n",
              "\n",
              "          const docLinkHtml = 'Like what you see? Visit the ' +\n",
              "            '<a target=\"_blank\" href=https://colab.research.google.com/notebooks/data_table.ipynb>data table notebook</a>'\n",
              "            + ' to learn more about interactive tables.';\n",
              "          element.innerHTML = '';\n",
              "          dataTable['output_type'] = 'display_data';\n",
              "          await google.colab.output.renderOutput(dataTable, element);\n",
              "          const docLink = document.createElement('div');\n",
              "          docLink.innerHTML = docLinkHtml;\n",
              "          element.appendChild(docLink);\n",
              "        }\n",
              "      </script>\n",
              "    </div>\n",
              "  </div>\n",
              "  "
            ],
            "text/plain": [
              "                                           translation\n",
              "id                                                    \n",
              "0    select distinct ?uri where { dbr:Marine_Corps_...\n",
              "1    select distinct ?uri where { dbr:<unk> ) dbp:d...\n",
              "2     ask where { dbr:<unk> ) dbo:industry dbr:Pizza }\n",
              "3    select distinct ?uri where { ?uri dbp:deputy d...\n",
              "4    select distinct ?uri where { ?uri dbp:producer...\n",
              "..                                                 ...\n",
              "495  select distinct ?uri where { dbr:<unk> ) dbo:r...\n",
              "496  select distinct ?uri where { dbr:LoDaisKa_Site...\n",
              "497  select distinct ?uri where { dbr:<unk> ) dbp:m...\n",
              "498  select distinct count ( ?uri ) where { ?x dbo:...\n",
              "499  select distinct ?uri where { ?x dbp:school dbr...\n",
              "\n",
              "[500 rows x 1 columns]"
            ]
          },
          "execution_count": 22,
          "metadata": {},
          "output_type": "execute_result"
        }
      ],
      "source": [
        "test_pred_part1"
      ]
    },
    {
      "cell_type": "code",
      "execution_count": null,
      "metadata": {
        "colab": {
          "base_uri": "https://localhost:8080/",
          "height": 455
        },
        "id": "VjEhmddzDgms",
        "outputId": "f0c0513e-67ce-4d84-97cb-b216bae2c781"
      },
      "outputs": [
        {
          "data": {
            "text/html": [
              "\n",
              "  <div id=\"df-136fd452-d852-461b-ade0-b88edd4c6661\">\n",
              "    <div class=\"colab-df-container\">\n",
              "      <div>\n",
              "<style scoped>\n",
              "    .dataframe tbody tr th:only-of-type {\n",
              "        vertical-align: middle;\n",
              "    }\n",
              "\n",
              "    .dataframe tbody tr th {\n",
              "        vertical-align: top;\n",
              "    }\n",
              "\n",
              "    .dataframe thead th {\n",
              "        text-align: right;\n",
              "    }\n",
              "</style>\n",
              "<table border=\"1\" class=\"dataframe\">\n",
              "  <thead>\n",
              "    <tr style=\"text-align: right;\">\n",
              "      <th></th>\n",
              "      <th>translation</th>\n",
              "      <th>ground truth</th>\n",
              "      <th>accuracy</th>\n",
              "    </tr>\n",
              "    <tr>\n",
              "      <th>id</th>\n",
              "      <th></th>\n",
              "      <th></th>\n",
              "      <th></th>\n",
              "    </tr>\n",
              "  </thead>\n",
              "  <tbody>\n",
              "    <tr>\n",
              "      <th>0</th>\n",
              "      <td>select distinct ?uri where { ?x dbp:internatio...</td>\n",
              "      <td>select distinct ?uri where { ?x dbp:internatio...</td>\n",
              "      <td>0.5294118</td>\n",
              "    </tr>\n",
              "    <tr>\n",
              "      <th>1</th>\n",
              "      <td>select distinct ?uri where { dbr:&lt;unk&gt; ) dbo:k...</td>\n",
              "      <td>select distinct ?uri where { dbr:Sam_Loyd dbo:...</td>\n",
              "      <td>0.44444445</td>\n",
              "    </tr>\n",
              "    <tr>\n",
              "      <th>2</th>\n",
              "      <td>select distinct ?uri where { dbr:&lt;unk&gt; ) dbo:a...</td>\n",
              "      <td>select distinct ?uri where { dbr:Joe_Pass dbo:...</td>\n",
              "      <td>0.39285713</td>\n",
              "    </tr>\n",
              "    <tr>\n",
              "      <th>3</th>\n",
              "      <td>select distinct ?uri where { dbr:&lt;unk&gt; ) dbp:n...</td>\n",
              "      <td>select distinct ?uri where { dbr:Focke-Wulf_Fw...</td>\n",
              "      <td>0.4827586</td>\n",
              "    </tr>\n",
              "    <tr>\n",
              "      <th>4</th>\n",
              "      <td>select distinct ?uri where { dbr:Madagascar:Ti...</td>\n",
              "      <td>select distinct ?uri where { dbr:Women_in_the_...</td>\n",
              "      <td>0.37037036</td>\n",
              "    </tr>\n",
              "    <tr>\n",
              "      <th>...</th>\n",
              "      <td>...</td>\n",
              "      <td>...</td>\n",
              "      <td>...</td>\n",
              "    </tr>\n",
              "    <tr>\n",
              "      <th>495</th>\n",
              "      <td>select distinct ?uri where { dbr:WPC_Dynamo_Mo...</td>\n",
              "      <td>select distinct ?uri where { dbr:WPC_Dynamo_Mo...</td>\n",
              "      <td>0.96153843</td>\n",
              "    </tr>\n",
              "    <tr>\n",
              "      <th>496</th>\n",
              "      <td>select distinct ?uri where { ?x dbp:commander ...</td>\n",
              "      <td>select distinct ?uri where { ?x dbp:primeminis...</td>\n",
              "      <td>0.4722222</td>\n",
              "    </tr>\n",
              "    <tr>\n",
              "      <th>497</th>\n",
              "      <td>select distinct ?uri where { ?uri dbo:venerate...</td>\n",
              "      <td>select distinct ?uri where { ?uri dbo:venerate...</td>\n",
              "      <td>0.962963</td>\n",
              "    </tr>\n",
              "    <tr>\n",
              "      <th>498</th>\n",
              "      <td>select distinct ?uri where { dbr:&lt;unk&gt; ) dbo:e...</td>\n",
              "      <td>select distinct ?uri where { dbr:Easy_Street_(...</td>\n",
              "      <td>0.37931034</td>\n",
              "    </tr>\n",
              "    <tr>\n",
              "      <th>499</th>\n",
              "      <td>select distinct ?uri where { dbr:Marvin_Bush d...</td>\n",
              "      <td>select distinct ?uri where { dbr:Richard_Coke ...</td>\n",
              "      <td>0.88235295</td>\n",
              "    </tr>\n",
              "  </tbody>\n",
              "</table>\n",
              "<p>500 rows × 3 columns</p>\n",
              "</div>\n",
              "      <button class=\"colab-df-convert\" onclick=\"convertToInteractive('df-136fd452-d852-461b-ade0-b88edd4c6661')\"\n",
              "              title=\"Convert this dataframe to an interactive table.\"\n",
              "              style=\"display:none;\">\n",
              "        \n",
              "  <svg xmlns=\"http://www.w3.org/2000/svg\" height=\"24px\"viewBox=\"0 0 24 24\"\n",
              "       width=\"24px\">\n",
              "    <path d=\"M0 0h24v24H0V0z\" fill=\"none\"/>\n",
              "    <path d=\"M18.56 5.44l.94 2.06.94-2.06 2.06-.94-2.06-.94-.94-2.06-.94 2.06-2.06.94zm-11 1L8.5 8.5l.94-2.06 2.06-.94-2.06-.94L8.5 2.5l-.94 2.06-2.06.94zm10 10l.94 2.06.94-2.06 2.06-.94-2.06-.94-.94-2.06-.94 2.06-2.06.94z\"/><path d=\"M17.41 7.96l-1.37-1.37c-.4-.4-.92-.59-1.43-.59-.52 0-1.04.2-1.43.59L10.3 9.45l-7.72 7.72c-.78.78-.78 2.05 0 2.83L4 21.41c.39.39.9.59 1.41.59.51 0 1.02-.2 1.41-.59l7.78-7.78 2.81-2.81c.8-.78.8-2.07 0-2.86zM5.41 20L4 18.59l7.72-7.72 1.47 1.35L5.41 20z\"/>\n",
              "  </svg>\n",
              "      </button>\n",
              "      \n",
              "  <style>\n",
              "    .colab-df-container {\n",
              "      display:flex;\n",
              "      flex-wrap:wrap;\n",
              "      gap: 12px;\n",
              "    }\n",
              "\n",
              "    .colab-df-convert {\n",
              "      background-color: #E8F0FE;\n",
              "      border: none;\n",
              "      border-radius: 50%;\n",
              "      cursor: pointer;\n",
              "      display: none;\n",
              "      fill: #1967D2;\n",
              "      height: 32px;\n",
              "      padding: 0 0 0 0;\n",
              "      width: 32px;\n",
              "    }\n",
              "\n",
              "    .colab-df-convert:hover {\n",
              "      background-color: #E2EBFA;\n",
              "      box-shadow: 0px 1px 2px rgba(60, 64, 67, 0.3), 0px 1px 3px 1px rgba(60, 64, 67, 0.15);\n",
              "      fill: #174EA6;\n",
              "    }\n",
              "\n",
              "    [theme=dark] .colab-df-convert {\n",
              "      background-color: #3B4455;\n",
              "      fill: #D2E3FC;\n",
              "    }\n",
              "\n",
              "    [theme=dark] .colab-df-convert:hover {\n",
              "      background-color: #434B5C;\n",
              "      box-shadow: 0px 1px 3px 1px rgba(0, 0, 0, 0.15);\n",
              "      filter: drop-shadow(0px 1px 2px rgba(0, 0, 0, 0.3));\n",
              "      fill: #FFFFFF;\n",
              "    }\n",
              "  </style>\n",
              "\n",
              "      <script>\n",
              "        const buttonEl =\n",
              "          document.querySelector('#df-136fd452-d852-461b-ade0-b88edd4c6661 button.colab-df-convert');\n",
              "        buttonEl.style.display =\n",
              "          google.colab.kernel.accessAllowed ? 'block' : 'none';\n",
              "\n",
              "        async function convertToInteractive(key) {\n",
              "          const element = document.querySelector('#df-136fd452-d852-461b-ade0-b88edd4c6661');\n",
              "          const dataTable =\n",
              "            await google.colab.kernel.invokeFunction('convertToInteractive',\n",
              "                                                     [key], {});\n",
              "          if (!dataTable) return;\n",
              "\n",
              "          const docLinkHtml = 'Like what you see? Visit the ' +\n",
              "            '<a target=\"_blank\" href=https://colab.research.google.com/notebooks/data_table.ipynb>data table notebook</a>'\n",
              "            + ' to learn more about interactive tables.';\n",
              "          element.innerHTML = '';\n",
              "          dataTable['output_type'] = 'display_data';\n",
              "          await google.colab.output.renderOutput(dataTable, element);\n",
              "          const docLink = document.createElement('div');\n",
              "          docLink.innerHTML = docLinkHtml;\n",
              "          element.appendChild(docLink);\n",
              "        }\n",
              "      </script>\n",
              "    </div>\n",
              "  </div>\n",
              "  "
            ],
            "text/plain": [
              "                                           translation  \\\n",
              "id                                                       \n",
              "0    select distinct ?uri where { ?x dbp:internatio...   \n",
              "1    select distinct ?uri where { dbr:<unk> ) dbo:k...   \n",
              "2    select distinct ?uri where { dbr:<unk> ) dbo:a...   \n",
              "3    select distinct ?uri where { dbr:<unk> ) dbp:n...   \n",
              "4    select distinct ?uri where { dbr:Madagascar:Ti...   \n",
              "..                                                 ...   \n",
              "495  select distinct ?uri where { dbr:WPC_Dynamo_Mo...   \n",
              "496  select distinct ?uri where { ?x dbp:commander ...   \n",
              "497  select distinct ?uri where { ?uri dbo:venerate...   \n",
              "498  select distinct ?uri where { dbr:<unk> ) dbo:e...   \n",
              "499  select distinct ?uri where { dbr:Marvin_Bush d...   \n",
              "\n",
              "                                          ground truth    accuracy  \n",
              "id                                                                  \n",
              "0    select distinct ?uri where { ?x dbp:internatio...   0.5294118  \n",
              "1    select distinct ?uri where { dbr:Sam_Loyd dbo:...  0.44444445  \n",
              "2    select distinct ?uri where { dbr:Joe_Pass dbo:...  0.39285713  \n",
              "3    select distinct ?uri where { dbr:Focke-Wulf_Fw...   0.4827586  \n",
              "4    select distinct ?uri where { dbr:Women_in_the_...  0.37037036  \n",
              "..                                                 ...         ...  \n",
              "495  select distinct ?uri where { dbr:WPC_Dynamo_Mo...  0.96153843  \n",
              "496  select distinct ?uri where { ?x dbp:primeminis...   0.4722222  \n",
              "497  select distinct ?uri where { ?uri dbo:venerate...    0.962963  \n",
              "498  select distinct ?uri where { dbr:Easy_Street_(...  0.37931034  \n",
              "499  select distinct ?uri where { dbr:Richard_Coke ...  0.88235295  \n",
              "\n",
              "[500 rows x 3 columns]"
            ]
          },
          "execution_count": 23,
          "metadata": {},
          "output_type": "execute_result"
        }
      ],
      "source": [
        "val_test_pred_part1"
      ]
    },
    {
      "cell_type": "markdown",
      "metadata": {
        "id": "RWGErCWcnUgA"
      },
      "source": [
        "##### Sauvegarde des predictions"
      ]
    },
    {
      "cell_type": "code",
      "execution_count": null,
      "metadata": {
        "id": "xVDaXw7U18SK"
      },
      "outputs": [],
      "source": [
        "def save_predictions(df, part: int, test:bool):\n",
        "  \"\"\"\n",
        "  Sauvegarde dans un fichier de soumission.\n",
        "  entree - df est un dataframe comme sample_submission ou train/validation\n",
        "         - part est un entier indiquant l'approche utilisee (part = 1 : premiere partie/ \n",
        "          part = 2 : première approche de la deuxieme partie/ part = 3 : deuxieme approche de la deuxieme partie)\n",
        "         - test est un booléen valant True si il s'agit des prédictions test\n",
        "  \"\"\"\n",
        "  if test:\n",
        "    filename = \"test_submission_part\"+str(part)\n",
        "  else:\n",
        "    filename = \"validation_submission_part\"+str(part)\n",
        "  df.to_csv(PATH + filename + '.csv')"
      ]
    },
    {
      "cell_type": "code",
      "execution_count": null,
      "metadata": {
        "id": "jY9rku192Qp1"
      },
      "outputs": [],
      "source": [
        "save_predictions(val_test_pred_part1, 1, False)"
      ]
    },
    {
      "cell_type": "code",
      "execution_count": null,
      "metadata": {
        "id": "gSqMZ8uAC0IJ"
      },
      "outputs": [],
      "source": [
        "save_predictions(test_pred_part1, 1, True)"
      ]
    },
    {
      "cell_type": "markdown",
      "metadata": {
        "id": "4efVu3eTTnqd"
      },
      "source": [
        "#### 7.4.3. Évaluation (10%)\n",
        "\n",
        "Afficher les résultats de votre modèle sur l’ensemble de validation au moyen de la métrique de précision globale et de la métrique BLEU,.\n",
        "\n",
        "Générez, le fichier _tp4_submission.csv_ qui contient les questions de test et leurs requêtes SPARQL.\n"
      ]
    },
    {
      "cell_type": "code",
      "execution_count": null,
      "metadata": {
        "id": "1tqDVX28x6R2"
      },
      "outputs": [],
      "source": [
        "def preprocess_bleu_score(df):\n",
        "  \"\"\"\n",
        "  entree - df est un dataframe comme sample_submission ou train/validation\n",
        "         \n",
        "  sortie - retourne une liste de liste de tokens pour utiliser dans compute_bleu_score\n",
        "  \"\"\"\n",
        "  \n",
        "  data = df.copy()\n",
        "  data[\"translation\"] = data[\"translation\"].apply(preprocess)\n",
        "  data[\"ground truth\"] = data[\"ground truth\"].apply(preprocess)\n",
        "  data[\"translation\"] = data[\"translation\"].apply(lambda x: x.split(' '))\n",
        "  data[\"ground truth\"] = data[\"ground truth\"].apply(lambda x: x.split(' '))\n",
        "  return data\n"
      ]
    },
    {
      "cell_type": "code",
      "execution_count": null,
      "metadata": {
        "id": "xyUgk8MyharU"
      },
      "outputs": [],
      "source": [
        "val_test_copy = preprocess_bleu_score(val_test_pred_part1)\n",
        "val_test_copy"
      ]
    },
    {
      "cell_type": "code",
      "execution_count": null,
      "metadata": {
        "id": "ddYBA7b3wdkI"
      },
      "outputs": [],
      "source": [
        "from torchtext.data.metrics import bleu_score\n",
        "def compute_bleu(predictions, targets) -> float: # prediction : list[list[str]], targets : list[list[str]]\n",
        "    \"\"\"\n",
        "    entrées:\n",
        "       - predictions: Liste des prédicitons du modèle pour l'ensemble de validation. Chaque prédiction est une liste de jetons textuels.\n",
        "       - targets: Liste des requêtes attendues de l'ensemble de validation. Chaque requête est une liste de jetons textuels.\n",
        "    sortie: \n",
        "       Le score bleu moyen de vos prédictions comparées aux requêtes attendues.\n",
        "    \"\"\"\n",
        "    return bleu_score(predictions, [[tokens] for tokens in targets])"
      ]
    },
    {
      "cell_type": "code",
      "execution_count": null,
      "metadata": {
        "colab": {
          "base_uri": "https://localhost:8080/"
        },
        "id": "kmilBWaahz3x",
        "outputId": "280592da-cafe-489f-eee3-cfd13585a0ab"
      },
      "outputs": [
        {
          "name": "stdout",
          "output_type": "stream",
          "text": [
            "Precision:  0.7040690708756446\n",
            "Bleu-score:  0.8128685355186462\n"
          ]
        }
      ],
      "source": [
        "print(\"Precision: \",val_acc_part1)\n",
        "print(\"Bleu-score: \",compute_bleu(val_test_copy[\"translation\"], val_test_copy[\"ground truth\"]))"
      ]
    },
    {
      "cell_type": "markdown",
      "metadata": {
        "id": "RTmKvWFL2hqA"
      },
      "source": [
        "### 7.3. Approche(s) avancée(s) (30%)\n",
        "Reprenez les étapes de la partie précédente avec une ou plusieurs nouvelle(s) architecture(s) plus complexe(s), ou améliorant votre précédente architecture, afin d’obtenir un score plus élevé sur l’ensemble de validation et dans la compétition Kaggle. Démontrez bien cette amélioration dans votre notebook."
      ]
    },
    {
      "cell_type": "markdown",
      "metadata": {
        "id": "am3zdK0NtUho"
      },
      "source": [
        "####1ère approche : Traitement des mots inconnus"
      ]
    },
    {
      "cell_type": "markdown",
      "metadata": {
        "id": "4dbKxZbNuPW7"
      },
      "source": [
        "L'ensemble test possède de mots qui ne sont pas présents dans l'ensemble d'entraînement. Leur traduction apparaît sous la forme \\<unk>. Ces mots inconnus sont essentiellement des mots spécifiques déjà présents dans la phrase anglaise et qui ne sont pas reconnus par notre vocabulaire anglais construit sur l'ensemble d'entraînement. Nous introduisons donc un dictionnaire temporaire (initialisé à vide à chaque nouvelle requête) pour transmettre ce vocabulaire de l'anglais au sparql. Ainsi, une fois la requête de sortie en sparql, nous la parcourons pour remplacer les jetons \\<unk> par des mots de ce dictionnaire temporaire. \n",
        "\n",
        "Nous avons implémenté deux choix de remplacement : le premier basé sur de l'aléatoire (qui n'est pas problématique si le dictionnaire est de longueur 1) et le deuxième basé sur l'ordre d'apparition des mots inconnus (le premier mot inconnu remplace le premier jeton \\<unk> dans notre traduction sparql). \n",
        "\n",
        "\n",
        "Nous aurions aimé implémenter une troisième méthode qui consisterait à regarder le plongement de sortie par rapport au plongement de position pour trouver quelle était la position initiale du jeton \\<unk> prédit. "
      ]
    },
    {
      "cell_type": "markdown",
      "metadata": {
        "id": "mN2axWX0Ydbo"
      },
      "source": [
        "##### Amélioration de la fonction predict"
      ]
    },
    {
      "cell_type": "code",
      "execution_count": null,
      "metadata": {
        "id": "XWzx8iaqHb3t"
      },
      "outputs": [],
      "source": [
        "def concat_dict(dictionnaire):\n",
        "  list_indexes = []\n",
        "  dictionnaire_f= dict()\n",
        "  keys = dictionnaire.keys()\n",
        "  li_1= []\n",
        "  for key in keys:\n",
        "    if key not in li_1 and key-1 not in li_1:\n",
        "      li_1=[key]\n",
        "    if key-1 in li_1:\n",
        "      li_1.append(key)\n",
        "    \n",
        "    if key+1 not in keys : \n",
        "      list_indexes.append(li_1)\n",
        "      \n",
        "  for indexes in list_indexes:\n",
        "    val = \"\"\n",
        "    for idx in indexes:\n",
        "      val+=dictionnaire[idx]\n",
        "\n",
        "    dictionnaire_f[indexes[0]]=val\n",
        "  return dictionnaire_f"
      ]
    },
    {
      "cell_type": "code",
      "execution_count": null,
      "metadata": {
        "id": "mGHXEk6g6SKU"
      },
      "outputs": [],
      "source": [
        "from tqdm import tqdm \n",
        "import random \n",
        "\n",
        "\n",
        "def predict_val_test_improved(model: nn.Module, config: dict, dataset, validation:bool, methode:bool):\n",
        "\n",
        "  test_loader = DataLoader(\n",
        "    dataset, config['src_pad_idx'], config['tgt_pad_idx'])\n",
        "  \n",
        "  tgt_vocab = test_loader.dataset.sparql_vocab\n",
        "  src_vocab = test_loader.dataset.en_vocab\n",
        "  src_tokenizer = test_loader.dataset.en_tokenizer\n",
        "  tgt_tokenizer = test_loader.dataset.sparql_tokenizer\n",
        "  \n",
        "  device = config['device']\n",
        "  max_sequence_length = config['max_sequence_length']\n",
        "  tgt_pad_idx = config['tgt_pad_idx']\n",
        "\n",
        "  EOS_IDX = tgt_vocab['<eos>']\n",
        "  predictions = []\n",
        "\n",
        "  accuracies = [] #store accuracy for each sample \n",
        "\n",
        "  for idx, content in tqdm(test_loader.dataset.dataset.iterrows()):\n",
        "\n",
        "    source = content[1]\n",
        "\n",
        "    src_tokens_str = ['<bos>'] + src_tokenizer(source) + ['<eos>']\n",
        "\n",
        "    first_dict = dict()\n",
        "\n",
        "    src_tokens = src_vocab(src_tokens_str)\n",
        "\n",
        "    ### Check le vocabulaire si unk (src_vocab[<unk>] = 0): ajouter dans un vocabulaire temporaire\n",
        "    for (idx,tok) in zip(range(len(src_tokens)), src_tokens):\n",
        "      if tok == 0: #unk\n",
        "        first_dict[idx]= src_tokens_str[idx]\n",
        "    \n",
        "    # concatener si clefs consecutives \n",
        "    temp_dict = concat_dict(first_dict)\n",
        "\n",
        "    tgt_tokens = ['<bos>']\n",
        "    tgt_tokens = tgt_vocab(tgt_tokens)\n",
        "    \n",
        "    # To tensor and add unitary batch dimension\n",
        "    src_tokens = torch.LongTensor(src_tokens).to(device)\n",
        "    tgt_tokens = torch.LongTensor(tgt_tokens).unsqueeze(dim=0).to(device)\n",
        "    target_probs = torch.FloatTensor([1]).to(device)\n",
        "    \n",
        "    model.to(device)\n",
        "\n",
        "    ### boucle sur longueur de la prediction \n",
        "    with torch.no_grad():\n",
        "        while tgt_tokens.shape[1] < 100:\n",
        "\n",
        "          _, n_tokens = tgt_tokens.shape #batch_size = 1\n",
        "    \n",
        "          src = einops.repeat(src_tokens, 't -> b t', b=1)\n",
        "          predicted = model.forward(src, tgt_tokens)\n",
        "\n",
        "          pred_probs, pred_idx = predicted[:,-1].topk(k=1, dim=-1)\n",
        "\n",
        "          tgt_tokens = append_prediction(tgt_tokens, pred_idx)      \n",
        "          \n",
        "    ###  \n",
        "\n",
        "    tgt_tokens = tgt_tokens.view(-1)  \n",
        "\n",
        "\n",
        "    pred_sentence = list(tgt_tokens)[1:] #Remove <bos> token\n",
        "    pred_sentence = list(takewhile(lambda t: t != EOS_IDX, pred_sentence))\n",
        "    pred_sentence = tgt_vocab.lookup_tokens(pred_sentence)\n",
        "\n",
        "    ### Si <unk> on regarde dans temp_dict (choix pour l'instant random ou par ordre d'apparition)\n",
        "\n",
        "    ordered_keys=sorted(list(temp_dict.keys()))\n",
        "\n",
        "    for (idx, tok) in zip(range(len(pred_sentence)),pred_sentence):\n",
        "      if tgt_vocab.__getitem__(tok)==0 and len(temp_dict)!=0: #unk\n",
        "        if methode: #Par ordre d'appartition\n",
        "          pred_sentence[idx]= temp_dict[ordered_keys[0]]\n",
        "          del temp_dict[ordered_keys[0]]\n",
        "          ordered_keys.remove(ordered_keys[0])\n",
        "        \n",
        "        else: # Par choix aléatoire \n",
        "          next_key=random.choice(list(temp_dict.keys())) #pour choix aleatoire \n",
        "          pred_sentence[idx] = temp_dict[next_key]\n",
        "          del temp_dict[next_key]\n",
        "    \n",
        "    ## supprimer parenthèse fermante si aucune parenthèse ouvrante\n",
        "    if \")\" in pred_sentence and \"(\" not in pred_sentence:\n",
        "      pred_sentence.remove(\")\")\n",
        "\n",
        "    pred_sentence = ' '.join(pred_sentence)\n",
        "\n",
        "    if validation:\n",
        "\n",
        "      #calculer accuracy pour le cas d'une validation \n",
        "      real = content[2]\n",
        "\n",
        "      n=0\n",
        "      m=0\n",
        "\n",
        "      ## regarder dimensions\n",
        "      real = tgt_tokenizer(real)\n",
        "      tgt = tgt_tokenizer(pred_sentence)\n",
        "\n",
        "      if len(real) > len(tgt):\n",
        "        n = len(real)-len(tgt)\n",
        "      \n",
        "      \n",
        "      if len(real) < len(tgt):\n",
        "        m = len(tgt)-len(real)\n",
        "          \n",
        "      \n",
        "      real_tokens = ['<bos>'] + real + m*['<pad>'] + ['<eos>']\n",
        "      real_tokens = tgt_vocab(real_tokens)\n",
        "\n",
        "      tgt_tokens = ['<bos>'] + tgt + n*['<pad>'] + ['<eos>']\n",
        "      tgt_tokens = tgt_vocab(tgt_tokens)\n",
        "\n",
        "      tgt_tokens = torch.LongTensor(tgt_tokens).unsqueeze(dim=0).to(device)\n",
        "\n",
        "      real_tokens = torch.LongTensor(real_tokens).unsqueeze(dim=0).to(device)\n",
        "      \n",
        "      real_tokens = real_tokens.flatten()  \n",
        "      tgt_tokens = tgt_tokens.flatten()\n",
        "\n",
        "      total = (real_tokens != tgt_pad_idx).sum()\n",
        "    \n",
        "      good = (tgt_tokens == real_tokens) & (real_tokens != tgt_pad_idx)\n",
        "      \n",
        "      acc = good.sum() / total\n",
        "\n",
        "      print(\"Accuracy : %6.2f\" % acc)\n",
        "\n",
        "      accuracies.append(acc.cpu().detach().numpy())\n",
        "\n",
        "\n",
        "    pred_sentence = post_process(pred_sentence)\n",
        "    if validation: \n",
        "      predictions.append([pred_sentence, post_process(content[2]), acc.cpu().detach().numpy()])\n",
        "    else:\n",
        "      predictions.append(pred_sentence)\n",
        "\n",
        "\n",
        "  if validation:\n",
        "    preds = pd.DataFrame(np.array(predictions), columns=[\"translation\", \"ground truth\", \"accuracy\"])\n",
        "  else:\n",
        "    preds = pd.DataFrame(np.array(predictions), columns=[\"translation\"])\n",
        "  preds.index.name = \"id\"\n",
        "\n",
        "  if validation:\n",
        "    final_acc = sum(accuracies)/len(accuracies)\n",
        "    print(\"Accuracy : %6.2f\" % final_acc)\n",
        "  else : \n",
        "    final_acc = 0\n",
        "  \n",
        "  return preds, final_acc"
      ]
    },
    {
      "cell_type": "markdown",
      "metadata": {
        "id": "19dlWphWYhp3"
      },
      "source": [
        "##### Prédictions sur l'ensemble de validation"
      ]
    },
    {
      "cell_type": "code",
      "execution_count": null,
      "metadata": {
        "id": "XAAd_P5sPQNC"
      },
      "outputs": [],
      "source": [
        "# choix aléatoire\n",
        "val_test_pred_part2_11, val_acc_part2_11 = predict_val_test_improved(model, config, val_dataset, True, False)"
      ]
    },
    {
      "cell_type": "code",
      "execution_count": null,
      "metadata": {
        "id": "FjtHYCR0PjL8"
      },
      "outputs": [],
      "source": [
        "# ordre d'apparition\n",
        "val_test_pred_part2_12, val_acc_part2_12 = predict_val_test_improved(model, config, val_dataset, True, True)"
      ]
    },
    {
      "cell_type": "code",
      "execution_count": null,
      "metadata": {
        "id": "V48UkgrpOimH"
      },
      "outputs": [],
      "source": [
        "save_predictions(val_test_pred_part2_11, 21, False)\n",
        "save_predictions(val_test_pred_part2_12, 22, False)"
      ]
    },
    {
      "cell_type": "markdown",
      "metadata": {
        "id": "-qQg6TD6PR3_"
      },
      "source": [
        "##### Evaluation 1ère approche"
      ]
    },
    {
      "cell_type": "code",
      "execution_count": null,
      "metadata": {
        "id": "fZ9PmJRtOimK"
      },
      "outputs": [],
      "source": [
        "val_test_copy_211 = preprocess_bleu_score(val_test_pred_part2_11)\n",
        "val_test_copy_211"
      ]
    },
    {
      "cell_type": "code",
      "execution_count": null,
      "metadata": {
        "id": "JwQLOAkwX06g"
      },
      "outputs": [],
      "source": [
        "val_test_copy_212 = preprocess_bleu_score(val_test_pred_part2_12)\n",
        "val_test_copy_212"
      ]
    },
    {
      "cell_type": "code",
      "execution_count": null,
      "metadata": {
        "colab": {
          "base_uri": "https://localhost:8080/"
        },
        "id": "8xV7-787YhSl",
        "outputId": "1890bf5c-b720-4ae4-8f9f-438a777489b3"
      },
      "outputs": [
        {
          "name": "stdout",
          "output_type": "stream",
          "text": [
            "Precision par choix aleatoire:  0.8912972964644432\n",
            "Precision par ordre d'apparition:  0.8912476932406426\n"
          ]
        }
      ],
      "source": [
        "# Precision\n",
        "print(\"Precision par choix aleatoire: \", val_acc_part2_11)\n",
        "print(\"Precision par ordre d'apparition: \", val_acc_part2_12)"
      ]
    },
    {
      "cell_type": "code",
      "execution_count": null,
      "metadata": {
        "colab": {
          "base_uri": "https://localhost:8080/"
        },
        "id": "7HTMIkHQX95l",
        "outputId": "e2a9c293-b7da-449b-a6fd-2a14edefb8d1"
      },
      "outputs": [
        {
          "name": "stdout",
          "output_type": "stream",
          "text": [
            "Bleu score par choix aleatoire:  0.8925736546516418\n",
            "Bleu score par ordre d'apparition:  0.8913184404373169\n"
          ]
        }
      ],
      "source": [
        "# Bleu score \n",
        "print(\"Bleu score par choix aleatoire: \", compute_bleu(val_test_copy_211[\"translation\"], val_test_copy_211[\"ground truth\"]))\n",
        "print(\"Bleu score par ordre d'apparition: \",compute_bleu(val_test_copy_212[\"translation\"], val_test_copy_212[\"ground truth\"]))"
      ]
    },
    {
      "cell_type": "markdown",
      "metadata": {
        "id": "Y2m_zVsiZYot"
      },
      "source": [
        "##### Prédictions test"
      ]
    },
    {
      "cell_type": "markdown",
      "metadata": {
        "id": "En-RruaSZbnr"
      },
      "source": [
        "Au vu des performances précédentes sur l'ensemble de validation, nous choisissons de faire la méthode par choix aléatoire. "
      ]
    },
    {
      "cell_type": "code",
      "execution_count": null,
      "metadata": {
        "colab": {
          "base_uri": "https://localhost:8080/"
        },
        "id": "Ka3mSBcMZo6r",
        "outputId": "6cce2bc8-b48a-44a2-f2a2-f11bb5d400cd"
      },
      "outputs": [
        {
          "name": "stderr",
          "output_type": "stream",
          "text": [
            "500it [06:31,  1.28it/s]\n"
          ]
        }
      ],
      "source": [
        "test_pred_part2, _ = predict_val_test_improved(model, config, test_dataset, False, False)"
      ]
    },
    {
      "cell_type": "code",
      "execution_count": null,
      "metadata": {
        "id": "HgtgmryGZ1bC"
      },
      "outputs": [],
      "source": [
        "save_predictions(test_pred_part2, 2, True)"
      ]
    },
    {
      "cell_type": "markdown",
      "metadata": {
        "id": "aB_THqiytzn6"
      },
      "source": [
        "#### 2e approche : Modification de l'architecture du modèle"
      ]
    },
    {
      "cell_type": "markdown",
      "metadata": {
        "id": "g3-bIijQLcsx"
      },
      "source": [
        "On a choisi d'implémenter le modèle Convolutional Sequence To Sequence puisqu'il est le meilleur modèle d'après notre article. \n",
        "\n",
        "Il s'agit d'une architecture encodeur-décodeur avec attention, où l'encodeur et le décodeur sont constitués de blocs convolutionnels empilés. Chaque bloc est composé d’une seule couche convolutionnelle  suivie d’un Unité linéaire (GLU). L’entrée du bloc de convolution peut être la sortie de la couche précédente ou, pour la couche inférieure de l'encodeur, la combinaison des embeddings de mots et de position. Il existe également une connexion résiduelle entre l’entrée de la couche convolutive et la sortie du GLU.Le décodeur a un module d'attention après la sortie de GLU et avant la connexion résiduelle.\n",
        "\n",
        "[6] J. Gehring, M. Auli, D. Grangier, D. Yarats, Y.N. Dauphin, Convolutional sequence to sequence learning, in: D. Precup, Y.W. Teh (Eds.), Proceedings of\n",
        "the 34th International Conference on Machine Learning, ICML, Proceedings\n",
        "of Machine Learning Research, Vol. 70, PMLR, 2017, pp. 1243–1252.\n",
        "\n"
      ]
    },
    {
      "cell_type": "markdown",
      "metadata": {
        "id": "lHCvw9PKb03M"
      },
      "source": [
        "##### Conv Seq2Seq"
      ]
    },
    {
      "cell_type": "code",
      "execution_count": null,
      "metadata": {
        "id": "qSa2yss4YqF-"
      },
      "outputs": [],
      "source": [
        "class Seq2Seq(nn.Module):\n",
        "    def __init__(self, encoder, decoder):\n",
        "        super().__init__()\n",
        "        \n",
        "        self.encoder = encoder\n",
        "        self.decoder = decoder\n",
        "\n",
        "        \n",
        "    def forward(self, source, target):\n",
        "        \n",
        "\n",
        "        encoder_conved, encoder_combined = self.encoder(source)\n",
        "            \n",
        "        output = self.decoder(target, encoder_conved, encoder_combined)\n",
        "        \n",
        "        return output"
      ]
    },
    {
      "cell_type": "code",
      "execution_count": null,
      "metadata": {
        "id": "8VLHLLWIYuqC"
      },
      "outputs": [],
      "source": [
        "class Encoder(nn.Module):\n",
        "    def __init__(self, \n",
        "                 input_dim, \n",
        "                 emb_dim, \n",
        "                 hid_dim, \n",
        "                 n_layers, \n",
        "                 kernel_size, \n",
        "                 dropout, \n",
        "                 device,\n",
        "                 max_length = 100):\n",
        "        super().__init__()\n",
        "        \n",
        "        self.device = device\n",
        "        \n",
        "        self.scale = torch.sqrt(torch.FloatTensor([0.5])).to(device)\n",
        "        self.tok_embedding = nn.Embedding(input_dim, emb_dim)\n",
        "        self.pos_embedding = nn.Embedding(max_length, emb_dim)\n",
        "        \n",
        "        \n",
        "        self.linear1 = nn.Linear(emb_dim, hid_dim)\n",
        "        self.linear2 = nn.Linear(hid_dim, emb_dim)\n",
        "        \n",
        "        self.convs = nn.ModuleList([nn.Conv1d(in_channels = hid_dim, \n",
        "                                              out_channels = 2 * hid_dim, \n",
        "                                              kernel_size = kernel_size, \n",
        "                                              padding = (kernel_size - 1) // 2)\n",
        "                                    for _ in range(n_layers)])\n",
        "        \n",
        "        self.dropout = nn.Dropout(dropout)\n",
        "\n",
        "    def forward(self, src):\n",
        "         \n",
        "        batch_size = src.shape[0]\n",
        "        src_len = src.shape[1]\n",
        "\n",
        "        #création du tensor de position\n",
        "        pos = torch.arange(0, src_len).unsqueeze(0).repeat(batch_size, 1).to(self.device)\n",
        "        \n",
        "        #embedding des tokens et de position\n",
        "        tok_embedded = self.tok_embedding(src)\n",
        "        pos_embedded = self.pos_embedding(pos)\n",
        "        \n",
        "        #Addition entre les embeddings\n",
        "        src = self.dropout(tok_embedded + pos_embedded)\n",
        "        \n",
        "        #passage de l'embedding à travers une couche linéaire\n",
        "        conv_input = self.linear1(src)\n",
        "        \n",
        "        conv_input = conv_input.permute(0, 2, 1) \n",
        "    \n",
        "        for i, conv in enumerate(self.convs):\n",
        "        \n",
        "            #passage à travers une couche convlutionnelle\n",
        "            conved = conv(self.dropout(conv_input))\n",
        "\n",
        "            #passage à travers une fonction d'activation GLU\n",
        "            conved = F.glu(conved, dim = 1)\n",
        "\n",
        "            conved = (conved + conv_input) * self.scale\n",
        "            conv_input = conved\n",
        "        \n",
        "        \n",
        "        #couche linéaire avec un retour dans la dimension d'embedding\n",
        "        conved = self.linear2(conved.permute(0, 2, 1))\n",
        "        combined = (conved + src) * self.scale\n",
        "        \n",
        "        return conved, combined"
      ]
    },
    {
      "cell_type": "code",
      "execution_count": null,
      "metadata": {
        "id": "H5qH9wntYzIL"
      },
      "outputs": [],
      "source": [
        "class Decoder(nn.Module):\n",
        "    def __init__(self, \n",
        "                 output_dim, \n",
        "                 emb_dim, \n",
        "                 hid_dim, \n",
        "                 n_layers, \n",
        "                 kernel_size, \n",
        "                 dropout, \n",
        "                 trg_pad_idx, \n",
        "                 device,\n",
        "                 max_length = 100):\n",
        "        super().__init__()\n",
        "        \n",
        "        self.kernel_size = kernel_size\n",
        "        self.trg_pad_idx = trg_pad_idx\n",
        "        self.device = device\n",
        "        \n",
        "        self.scale = torch.sqrt(torch.FloatTensor([0.5])).to(device)\n",
        "        \n",
        "        self.tok_embedding = nn.Embedding(output_dim, emb_dim)\n",
        "        self.pos_embedding = nn.Embedding(max_length, emb_dim)\n",
        "        \n",
        "        self.linear1 = nn.Linear(emb_dim, hid_dim)\n",
        "        self.linear2 = nn.Linear(hid_dim, emb_dim)\n",
        "        \n",
        "        self.attn_linear1 = nn.Linear(hid_dim, emb_dim)\n",
        "        self.attn_linear2 = nn.Linear(emb_dim, hid_dim)\n",
        "        \n",
        "        self.fc_out = nn.Linear(emb_dim, output_dim)\n",
        "        \n",
        "        self.convs = nn.ModuleList([nn.Conv1d(in_channels = hid_dim, \n",
        "                                              out_channels = 2 * hid_dim, \n",
        "                                              kernel_size = kernel_size)\n",
        "                                    for _ in range(n_layers)])\n",
        "        \n",
        "        self.dropout = nn.Dropout(dropout)\n",
        "\n",
        "    def attention(self, embedded, conved, encoder_conved, encoder_combined):\n",
        "        \n",
        "        #première couche linéaire d'attention\n",
        "        conved_emb = self.attn_linear1(conved.permute(0, 2, 1))\n",
        "        \n",
        "        combined = (conved_emb + embedded) * self.scale\n",
        "\n",
        "        #calcul de l'énergie pour l'attention  \n",
        "        energy = torch.matmul(combined, encoder_conved.permute(0, 2, 1))\n",
        "        #application de la fonction softmax\n",
        "        attention = F.softmax(energy, dim=2)\n",
        "            \n",
        "        attended_encoding = torch.matmul(attention, encoder_combined)\n",
        "        \n",
        "        attended_encoding = self.attn_linear2(attended_encoding)\n",
        "    \n",
        "        attended_combined = (conved + attended_encoding.permute(0, 2, 1)) * self.scale\n",
        "      \n",
        "        \n",
        "        return attention, attended_combined\n",
        "        \n",
        "    def forward(self, tgt, encoder_conved, encoder_combined):\n",
        "        \n",
        "        batch_size = tgt.shape[0]\n",
        "        trg_len = tgt.shape[1]\n",
        "    \n",
        "        #création du tenseur de position \n",
        "        pos = torch.arange(0, trg_len).unsqueeze(0).repeat(batch_size, 1).to(self.device)\n",
        "        \n",
        "        #embedding de tokens et de positions\n",
        "        tok_embedded = self.tok_embedding(tgt)\n",
        "        pos_embedded = self.pos_embedding(pos)\n",
        "        \n",
        "        tgt = self.dropout(tok_embedded + pos_embedded)\n",
        "\n",
        "        #Passage de l'embedding à travers une couche linéaire\n",
        "        conv_input = self.linear1(tgt)\n",
        "        conv_input = conv_input.permute(0, 2, 1) \n",
        "        \n",
        "        batch_size = conv_input.shape[0]\n",
        "        hid_dim = conv_input.shape[1]\n",
        "\n",
        "        for i, conv in enumerate(self.convs):\n",
        "\n",
        "            conv_input = self.dropout(conv_input)\n",
        "            #On applique du padding\n",
        "            padding = torch.zeros(batch_size, \n",
        "                                  hid_dim, \n",
        "                                  self.kernel_size - 1).fill_(self.trg_pad_idx).to(self.device)\n",
        "                \n",
        "            padded_conv_input = torch.cat((padding, conv_input), dim = 2)\n",
        "        \n",
        "            #passage à travers une couche concolutionnelle\n",
        "            conved = conv(padded_conv_input)\n",
        "\n",
        "            #passage à travers une fonction d'activation GLU\n",
        "            conved = F.glu(conved, dim = 1)\n",
        "            \n",
        "            #calcul de l'attention\n",
        "            attention, conved = self.attention(tgt, \n",
        "                                                         conved, \n",
        "                                                         encoder_conved, \n",
        "                                                         encoder_combined)\n",
        "  \n",
        "            conved = (conved + conv_input) * self.scale\n",
        "            conv_input = conved\n",
        "            \n",
        "        conved = self.linear2(conved.permute(0, 2, 1))\n",
        "            \n",
        "        output = self.fc_out(self.dropout(conved))\n",
        "            \n",
        "        return output"
      ]
    },
    {
      "cell_type": "code",
      "execution_count": null,
      "metadata": {
        "id": "ioykux9qY47o"
      },
      "outputs": [],
      "source": [
        "#Configuration du modèle ConvSeq2Seq\n",
        "\n",
        "config2 = {\n",
        "    # General parameters\n",
        "    'epochs': 50,\n",
        "    'batch_size': 128, \n",
        "    'lr': 0.00065,\n",
        "    'betas': (0.9, 0.99),\n",
        "    'clip': 5,\n",
        "    'device': 'cuda' if torch.cuda.is_available() else 'cpu',\n",
        "\n",
        "    # Model parameters\n",
        "    'n_tokens_src': len(train_voc_en),\n",
        "    'n_tokens_tgt': len(train_voc_sparql),\n",
        "    'n_heads': 4,\n",
        "    'dim_embedding': 256,\n",
        "    'dim_hidden': 512,\n",
        "    'enc_layers': 13,\n",
        "    'dec_layers': 5,\n",
        "    'enc_kernel_size':3,\n",
        "    'dec_kernel_size':3,\n",
        "    'dropout': 0.25,\n",
        "    'model_type': 'ConvSeq2Seq',\n",
        "\n",
        "    # Others\n",
        "    'max_sequence_length': MAX_SEQ_LEN,\n",
        "    'min_token_freq': MIN_TOK_FREQ,\n",
        "    'src_vocab': train_voc_en,\n",
        "    'tgt_vocab': train_voc_sparql,\n",
        "    'src_tokenizer': en_tokenizer,\n",
        "    'tgt_tokenizer': sparql_tokenizer,\n",
        "    'src_pad_idx': train_dataset.en_vocab['<pad>'],\n",
        "    'tgt_pad_idx': train_dataset.sparql_vocab['<pad>'],\n",
        "}\n",
        "\n",
        "\n",
        "config2['train_loader'] = DataLoader(\n",
        "    train_dataset,\n",
        "    batch_size=config2['batch_size'],\n",
        "    shuffle=True,\n",
        "    collate_fn=lambda batch: generate_batch(batch, config2['src_pad_idx'], config2['tgt_pad_idx'])\n",
        ")\n",
        "\n",
        "config2['val_loader'] = DataLoader(\n",
        "    val_dataset,\n",
        "    batch_size=config2['batch_size'],\n",
        "    shuffle=True,\n",
        "    collate_fn=lambda batch: generate_batch(batch, config2['src_pad_idx'], config2['tgt_pad_idx'])\n",
        ")\n",
        "\n",
        "\n",
        "enc = Encoder(config2['n_tokens_src'], config2['dim_embedding'], config2['dim_hidden'], config2['enc_layers'], config2['enc_kernel_size'],config2['dropout'], config2['device'])\n",
        "dec = Decoder(config2['n_tokens_tgt'], config2['dim_embedding'], config2['dim_hidden'], config2['dec_layers'], config2['dec_kernel_size'], config2['dropout'], config2['tgt_pad_idx'], config2['device'])\n",
        "\n",
        "model2 = Seq2Seq(enc, dec)\n",
        "\n",
        "\n",
        "config2['optimizer'] = optim.Adam(\n",
        "    model2.parameters(),\n",
        "    lr=config2['lr'],\n",
        "    betas=config2['betas'],\n",
        ")\n",
        "\n",
        "weight_classes2 = torch.ones(config2['n_tokens_tgt'], dtype=torch.float)\n",
        "weight_classes2[config2['tgt_vocab']['<unk>']] = 0.1  \n",
        "config2['loss'] = nn.CrossEntropyLoss(\n",
        "    weight=weight_classes2,\n",
        "    ignore_index=config2['tgt_pad_idx'],  \n",
        ")\n",
        "\n"
      ]
    },
    {
      "cell_type": "markdown",
      "metadata": {
        "id": "K__-_40kVpm3"
      },
      "source": [
        "Entrainement de ConvSeq2Seq"
      ]
    },
    {
      "cell_type": "code",
      "execution_count": null,
      "metadata": {
        "colab": {
          "base_uri": "https://localhost:8080/"
        },
        "id": "aRpG6on7Y_cY",
        "outputId": "1414a336-8453-4f15-f0c2-dc0d58486ba0"
      },
      "outputs": [
        {
          "name": "stdout",
          "output_type": "stream",
          "text": [
            "\n",
            "Epoch 1\n",
            "Train Loss:   2.34 Accuracy :   0.62\n",
            "Eval Loss:   2.34 Accuracy :   0.62\n",
            "\n",
            "Epoch 2\n",
            "Train Loss:   1.03 Accuracy :   0.79\n",
            "Eval Loss:   1.03 Accuracy :   0.79\n",
            "\n",
            "Epoch 3\n",
            "Train Loss:   0.92 Accuracy :   0.81\n",
            "Eval Loss:   0.92 Accuracy :   0.81\n",
            "\n",
            "Epoch 4\n",
            "Train Loss:   0.85 Accuracy :   0.83\n",
            "Eval Loss:   0.85 Accuracy :   0.83\n",
            "\n",
            "Epoch 5\n",
            "Train Loss:   0.81 Accuracy :   0.84\n",
            "Eval Loss:   0.81 Accuracy :   0.84\n",
            "\n",
            "Epoch 6\n",
            "Train Loss:   0.78 Accuracy :   0.84\n",
            "Eval Loss:   0.78 Accuracy :   0.84\n",
            "\n",
            "Epoch 7\n",
            "Train Loss:   0.75 Accuracy :   0.85\n",
            "Eval Loss:   0.75 Accuracy :   0.85\n",
            "\n",
            "Epoch 8\n",
            "Train Loss:   0.71 Accuracy :   0.86\n",
            "Eval Loss:   0.71 Accuracy :   0.86\n",
            "\n",
            "Epoch 9\n",
            "Train Loss:   0.69 Accuracy :   0.86\n",
            "Eval Loss:   0.69 Accuracy :   0.86\n",
            "\n",
            "Epoch 10\n",
            "Train Loss:   0.70 Accuracy :   0.85\n",
            "Eval Loss:   0.70 Accuracy :   0.85\n",
            "\n",
            "Epoch 11\n",
            "Train Loss:   0.66 Accuracy :   0.86\n",
            "Eval Loss:   0.66 Accuracy :   0.86\n",
            "\n",
            "Epoch 12\n",
            "Train Loss:   0.64 Accuracy :   0.86\n",
            "Eval Loss:   0.64 Accuracy :   0.86\n",
            "\n",
            "Epoch 13\n",
            "Train Loss:   0.63 Accuracy :   0.86\n",
            "Eval Loss:   0.63 Accuracy :   0.86\n",
            "\n",
            "Epoch 14\n",
            "Train Loss:   0.61 Accuracy :   0.86\n",
            "Eval Loss:   0.61 Accuracy :   0.86\n",
            "\n",
            "Epoch 15\n",
            "Train Loss:   0.65 Accuracy :   0.86\n",
            "Eval Loss:   0.65 Accuracy :   0.86\n",
            "\n",
            "Epoch 16\n",
            "Train Loss:   0.65 Accuracy :   0.85\n",
            "Eval Loss:   0.65 Accuracy :   0.85\n",
            "\n",
            "Epoch 17\n",
            "Train Loss:   0.60 Accuracy :   0.87\n",
            "Eval Loss:   0.60 Accuracy :   0.87\n",
            "\n",
            "Epoch 18\n",
            "Train Loss:   0.56 Accuracy :   0.87\n",
            "Eval Loss:   0.56 Accuracy :   0.87\n",
            "\n",
            "Epoch 19\n",
            "Train Loss:   0.53 Accuracy :   0.88\n",
            "Eval Loss:   0.53 Accuracy :   0.88\n",
            "\n",
            "Epoch 20\n",
            "Train Loss:   0.53 Accuracy :   0.88\n",
            "Eval Loss:   0.53 Accuracy :   0.88\n",
            "\n",
            "Epoch 21\n",
            "Train Loss:   0.51 Accuracy :   0.88\n",
            "Eval Loss:   0.51 Accuracy :   0.88\n",
            "\n",
            "Epoch 22\n",
            "Train Loss:   0.51 Accuracy :   0.88\n",
            "Eval Loss:   0.51 Accuracy :   0.88\n",
            "\n",
            "Epoch 23\n",
            "Train Loss:   0.49 Accuracy :   0.88\n",
            "Eval Loss:   0.49 Accuracy :   0.88\n",
            "\n",
            "Epoch 24\n",
            "Train Loss:   0.50 Accuracy :   0.88\n",
            "Eval Loss:   0.50 Accuracy :   0.88\n",
            "\n",
            "Epoch 25\n",
            "Train Loss:   0.48 Accuracy :   0.89\n",
            "Eval Loss:   0.48 Accuracy :   0.89\n",
            "\n",
            "Epoch 26\n",
            "Train Loss:   0.49 Accuracy :   0.88\n",
            "Eval Loss:   0.49 Accuracy :   0.88\n",
            "\n",
            "Epoch 27\n",
            "Train Loss:   0.48 Accuracy :   0.88\n",
            "Eval Loss:   0.48 Accuracy :   0.88\n",
            "\n",
            "Epoch 28\n",
            "Train Loss:   0.52 Accuracy :   0.87\n",
            "Eval Loss:   0.52 Accuracy :   0.87\n",
            "\n",
            "Epoch 29\n",
            "Train Loss:   0.52 Accuracy :   0.87\n",
            "Eval Loss:   0.52 Accuracy :   0.87\n",
            "\n",
            "Epoch 30\n",
            "Train Loss:   0.52 Accuracy :   0.87\n",
            "Eval Loss:   0.52 Accuracy :   0.87\n",
            "\n",
            "Epoch 31\n",
            "Train Loss:   0.48 Accuracy :   0.88\n",
            "Eval Loss:   0.48 Accuracy :   0.88\n",
            "\n",
            "Epoch 32\n",
            "Train Loss:   0.46 Accuracy :   0.89\n",
            "Eval Loss:   0.46 Accuracy :   0.89\n",
            "\n",
            "Epoch 33\n",
            "Train Loss:   0.44 Accuracy :   0.89\n",
            "Eval Loss:   0.44 Accuracy :   0.89\n",
            "\n",
            "Epoch 34\n",
            "Train Loss:   0.43 Accuracy :   0.89\n",
            "Eval Loss:   0.43 Accuracy :   0.89\n",
            "\n",
            "Epoch 35\n",
            "Train Loss:   0.42 Accuracy :   0.89\n",
            "Eval Loss:   0.42 Accuracy :   0.89\n",
            "\n",
            "Epoch 36\n",
            "Train Loss:   0.42 Accuracy :   0.89\n",
            "Eval Loss:   0.42 Accuracy :   0.89\n",
            "\n",
            "Epoch 37\n",
            "Train Loss:   0.42 Accuracy :   0.90\n",
            "Eval Loss:   0.42 Accuracy :   0.90\n",
            "\n",
            "Epoch 38\n",
            "Train Loss:   0.46 Accuracy :   0.89\n",
            "Eval Loss:   0.46 Accuracy :   0.89\n",
            "\n",
            "Epoch 39\n",
            "Train Loss:   7.00 Accuracy :   0.88\n",
            "Eval Loss:   7.00 Accuracy :   0.88\n",
            "\n",
            "Epoch 40\n",
            "Train Loss:   0.42 Accuracy :   0.90\n",
            "Eval Loss:   0.42 Accuracy :   0.90\n",
            "\n",
            "Epoch 41\n",
            "Train Loss:   0.38 Accuracy :   0.90\n",
            "Eval Loss:   0.38 Accuracy :   0.90\n",
            "\n",
            "Epoch 42\n",
            "Train Loss:   0.37 Accuracy :   0.91\n",
            "Eval Loss:   0.37 Accuracy :   0.91\n",
            "\n",
            "Epoch 43\n",
            "Train Loss:   0.36 Accuracy :   0.91\n",
            "Eval Loss:   0.36 Accuracy :   0.91\n",
            "\n",
            "Epoch 44\n",
            "Train Loss:   0.35 Accuracy :   0.91\n",
            "Eval Loss:   0.35 Accuracy :   0.91\n",
            "\n",
            "Epoch 45\n",
            "Train Loss:   0.35 Accuracy :   0.91\n",
            "Eval Loss:   0.35 Accuracy :   0.91\n",
            "\n",
            "Epoch 46\n",
            "Train Loss:   0.34 Accuracy :   0.91\n",
            "Eval Loss:   0.34 Accuracy :   0.91\n",
            "\n",
            "Epoch 47\n",
            "Train Loss:   0.35 Accuracy :   0.91\n",
            "Eval Loss:   0.35 Accuracy :   0.91\n",
            "\n",
            "Epoch 48\n",
            "Train Loss:   0.34 Accuracy :   0.91\n",
            "Eval Loss:   0.34 Accuracy :   0.91\n",
            "\n",
            "Epoch 49\n",
            "Train Loss:   0.32 Accuracy :   0.92\n",
            "Eval Loss:   0.32 Accuracy :   0.92\n",
            "\n",
            "Epoch 50\n",
            "Train Loss:   0.31 Accuracy :   0.92\n",
            "Eval Loss:   0.31 Accuracy :   0.92\n"
          ]
        }
      ],
      "source": [
        "train_model(model2, config2)"
      ]
    },
    {
      "cell_type": "markdown",
      "metadata": {
        "id": "EQwMK2qQb7Ih"
      },
      "source": [
        "##### Prédictions sur l'ensemble de validation"
      ]
    },
    {
      "cell_type": "code",
      "execution_count": null,
      "metadata": {
        "id": "LNJ2nH86DwZN"
      },
      "outputs": [],
      "source": [
        "# Choix aleatoire \n",
        "val_test_pred_part3_1, val_acc_part3_1 =predict_val_test_improved(model2, config2, val_dataset, True, False)"
      ]
    },
    {
      "cell_type": "code",
      "execution_count": null,
      "metadata": {
        "id": "Wz0a6Ssta9l3"
      },
      "outputs": [],
      "source": [
        "# Ordre d'apparition \n",
        "val_test_pred_part3_2, val_acc_part3_2 =predict_val_test_improved(model2, config2, val_dataset, True, True)"
      ]
    },
    {
      "cell_type": "code",
      "execution_count": null,
      "metadata": {
        "id": "u9bDje3njC4_"
      },
      "outputs": [],
      "source": [
        "save_predictions(val_test_pred_part3_1, 31, False)\n",
        "save_predictions(val_test_pred_part3_2, 32, False)"
      ]
    },
    {
      "cell_type": "markdown",
      "metadata": {
        "id": "4RLMpcE2cEF-"
      },
      "source": [
        "##### Evaluation 2ème approche"
      ]
    },
    {
      "cell_type": "markdown",
      "metadata": {
        "id": "D6wJ7qS2VyYP"
      },
      "source": [
        "Evaluation du modèle ConSeq2Seq avec la méthode de traitement des mots inconnus"
      ]
    },
    {
      "cell_type": "code",
      "execution_count": null,
      "metadata": {
        "id": "J46suGjFcNQC"
      },
      "outputs": [],
      "source": [
        "val_test_copy_31 = preprocess_bleu_score(val_test_pred_part3_1)\n",
        "val_test_copy_31"
      ]
    },
    {
      "cell_type": "code",
      "execution_count": null,
      "metadata": {
        "id": "yA3tsXHgcNQD"
      },
      "outputs": [],
      "source": [
        "val_test_copy_32 = preprocess_bleu_score(val_test_pred_part3_2)\n",
        "val_test_copy_32"
      ]
    },
    {
      "cell_type": "code",
      "execution_count": null,
      "metadata": {
        "colab": {
          "base_uri": "https://localhost:8080/"
        },
        "id": "s1XWJxvjcNQD",
        "outputId": "28575348-626e-4371-ea6e-af18eb186de2"
      },
      "outputs": [
        {
          "name": "stdout",
          "output_type": "stream",
          "text": [
            "Precision par choix aleatoire:  0.7681798870563508\n",
            "Precision par ordre d'apparition:  0.7696198844909667\n"
          ]
        }
      ],
      "source": [
        "# Precision\n",
        "print(\"Precision par choix aleatoire: \", val_acc_part3_1)\n",
        "print(\"Precision par ordre d'apparition: \", val_acc_part3_2)"
      ]
    },
    {
      "cell_type": "code",
      "execution_count": null,
      "metadata": {
        "colab": {
          "base_uri": "https://localhost:8080/"
        },
        "id": "diOKKiLPcNQD",
        "outputId": "1aadb20a-e01d-45e8-cae9-0986e4186b4a"
      },
      "outputs": [
        {
          "name": "stdout",
          "output_type": "stream",
          "text": [
            "Bleu score par choix aleatoire:  0.6014639735221863\n",
            "Bleu score par ordre d'apparition:  0.6015295386314392\n"
          ]
        }
      ],
      "source": [
        "# Bleu score \n",
        "print(\"Bleu score par choix aleatoire: \", compute_bleu(val_test_copy_31[\"translation\"], val_test_copy_31[\"ground truth\"]))\n",
        "print(\"Bleu score par ordre d'apparition: \",compute_bleu(val_test_copy_32[\"translation\"], val_test_copy_32[\"ground truth\"]))"
      ]
    },
    {
      "cell_type": "markdown",
      "metadata": {
        "id": "QhsnU33ou7YK"
      },
      "source": [
        "Notre bleu score est moins bon avec l'architecture ConvSeq2Seq que celle du transformer contrairement à ce que nous avions observé dans notre article. L'architecture du ConvSeq2Seq n'est pas assez efficace pour notre problème. \n",
        "\n",
        "Nous sommes donc parvenus à obtenir des améliorations en travaillant sur la génération des mots inconnus. La nouvelle architecture n'a pas permis d'obtenir d'améliorations. "
      ]
    },
    {
      "cell_type": "markdown",
      "metadata": {
        "id": "3qHX6gU3dWYb"
      },
      "source": [
        "##### Prédictions test"
      ]
    },
    {
      "cell_type": "markdown",
      "metadata": {
        "id": "hssY_4aZdWYk"
      },
      "source": [
        "Au vu des performances précédentes sur l'ensemble de validation, nous choisissons de faire la méthode par ordre d'apparition. "
      ]
    },
    {
      "cell_type": "code",
      "execution_count": null,
      "metadata": {
        "colab": {
          "base_uri": "https://localhost:8080/"
        },
        "id": "ZhxfLMpddWYk",
        "outputId": "f250c633-ef8f-46f0-afad-ac2ace8b442d"
      },
      "outputs": [
        {
          "name": "stderr",
          "output_type": "stream",
          "text": [
            "500it [04:47,  1.74it/s]\n"
          ]
        }
      ],
      "source": [
        "test_pred_part3, _ = predict_val_test_improved(model2, config2, test_dataset, False, True)"
      ]
    },
    {
      "cell_type": "code",
      "execution_count": null,
      "metadata": {
        "id": "rWAhXcEhdWYk"
      },
      "outputs": [],
      "source": [
        "save_predictions(test_pred_part3, 3, True)"
      ]
    },
    {
      "cell_type": "markdown",
      "metadata": {
        "id": "sA-k32Ftndux"
      },
      "source": [
        "#### Comparaison des résultats"
      ]
    },
    {
      "cell_type": "markdown",
      "metadata": {
        "id": "uD3-e3u0ggev"
      },
      "source": [
        "Tableau récapitulatif des performances des modèles : \n",
        "\n",
        "|        Modèle      | Précision | Bleu-score \n",
        "|------------------------|:----------------:|:--------------:|\n",
        "|  Transformer basique                 |       0.7041        |      0.8129       |\n",
        "|     Transformer + choix aléatoire    |       0.8913        |      0.8926       |\n",
        "|   Transformer + ordre d'apparition   |       0.8912        |      0.8913       |\n",
        "|     Conv Seq2Seq + choix aléatoire.  |       0.7682        |      0.6015       |\n",
        "|     Conv Seq2Seq + ordre d'apparition|       0.7696        |      0.6015       |"
      ]
    },
    {
      "cell_type": "markdown",
      "metadata": {
        "id": "YwJ8GgSrmCsS"
      },
      "source": [
        "Pour chaque partie, nous avons donc considérer le meilleur modèle pour faire une soumissions sur Kaggle et nous présentons les résultats obtenus sur 30% des données dans le tableau suivant : "
      ]
    },
    {
      "cell_type": "markdown",
      "metadata": {
        "id": "rnW77IqDmTDG"
      },
      "source": [
        "|        Modèle      | Précision | Bleu-score | Précisions (Kaggle) sur Test |\n",
        "|------------------------|:----------------:|:--------------:|:--------------:|\n",
        "|  Transformer basique                 |       0.7041        |      0.8129       | 0.1 |\n",
        "|     Transformer + choix aléatoire    |       0.8913        |      0.8926       | 0.4667 | \n",
        "|     Conv Seq2Seq + ordre d'apparition|       0.7696        |      0.6015       | 0 |"
      ]
    },
    {
      "cell_type": "markdown",
      "metadata": {
        "id": "V68EOsiMmu0X"
      },
      "source": [
        "Nous remarquons une nette baisse en performance qui s'explique par le calcul de la précision. Nous calculons la précision suivant celle des mots dans la phrase alors que Kaggle n'attribue que 0% ou 100% de précision si toute la requête est identique à la vérité. Si nous appliquons le même calcul sur nos résultats nous obtenons : "
      ]
    },
    {
      "cell_type": "markdown",
      "metadata": {
        "id": "JoLbz8nOpYNz"
      },
      "source": [
        "|        Modèle      | Précision | Bleu-score | Précision (Kaggle) sur Validation|\n",
        "|------------------------|:----------------:|:--------------:|:--------------:|\n",
        "|  Transformer basique                 |       0.7041        |      0.8129       | 0.104 |\n",
        "|     Transformer + choix aléatoire    |       0.8913        |      0.8926       | 0.418 | \n",
        "|     Conv Seq2Seq + ordre d'apparition|       0.7696        |      0.6015       | 0 |"
      ]
    },
    {
      "cell_type": "markdown",
      "metadata": {
        "id": "OAyeZfjkpQUz"
      },
      "source": [
        "##### Code précision Kaggle"
      ]
    },
    {
      "cell_type": "code",
      "execution_count": null,
      "metadata": {
        "colab": {
          "base_uri": "https://localhost:8080/"
        },
        "id": "qXujG7dWnmLc",
        "outputId": "cc3f1be8-a715-428b-98a0-8961d7445eaf"
      },
      "outputs": [
        {
          "name": "stdout",
          "output_type": "stream",
          "text": [
            "Précision (Kaggle):  0.104\n"
          ]
        }
      ],
      "source": [
        "n = val_test_copy[\"accuracy\"][val_test_copy[\"accuracy\"].astype(float)>=1].count()\n",
        "print(\"Précision (Kaggle): \", n/len(val_test_copy))"
      ]
    },
    {
      "cell_type": "code",
      "execution_count": null,
      "metadata": {
        "colab": {
          "base_uri": "https://localhost:8080/"
        },
        "id": "W9rtay1Coo6W",
        "outputId": "5cb56feb-7757-436d-b64f-d0a14d158d26"
      },
      "outputs": [
        {
          "name": "stdout",
          "output_type": "stream",
          "text": [
            "Précision (Kaggle):  0.418\n"
          ]
        }
      ],
      "source": [
        "n = val_test_copy_211[\"accuracy\"][val_test_copy_211[\"accuracy\"].astype(float)>=1].count()\n",
        "print(\"Précision (Kaggle): \", n/len(val_test_copy_211))"
      ]
    },
    {
      "cell_type": "code",
      "execution_count": null,
      "metadata": {
        "colab": {
          "base_uri": "https://localhost:8080/"
        },
        "id": "8oOJVe1OoqIh",
        "outputId": "9f99f1d9-a168-47e2-84f2-6f209f958dd4"
      },
      "outputs": [
        {
          "name": "stdout",
          "output_type": "stream",
          "text": [
            "Précision (Kaggle):  0.0\n"
          ]
        }
      ],
      "source": [
        "n = val_test_copy_32[\"accuracy\"][val_test_copy_32[\"accuracy\"].astype(float)>=1].count()\n",
        "print(\"Précision (Kaggle): \", n/len(val_test_copy_32))"
      ]
    },
    {
      "cell_type": "markdown",
      "metadata": {
        "id": "XjQ6YohWwdkK"
      },
      "source": [
        "### 7.4. Conclusion (5%)\n",
        "En quelques phrases précises, discutez des avantages et limites de vos architectures. Analysez les cas d’erreur. Indiquez des pistes d’amélioration futures potentielles."
      ]
    },
    {
      "cell_type": "markdown",
      "metadata": {
        "id": "SjSmYWFGl1mZ"
      },
      "source": [
        "Notre modèle final se base sur l'architecture du Transformer de la première partie sur lequel nous avons implémenté une méthode de gestion des mots inconnus. \n",
        "\n",
        "Bien que la précision et la blue-score sur les mots de la séquence de sortie semblent correctes (environ 90%), nous n'atteignons pas les 50% de phrases justes pour l'entièreté des requêtes. \n",
        "\n",
        "Outre les limites de la métrique de performances et les ambiguités dues à la syntaxe SPARQL (mettre un point ou non à la fin de la requête est équivalent), notre modèle présente un gros désavantage : il prédit souvent une parenthèse fermée après le premier dbo/dbr... Nous avons compensé cela en supprimant les parenthèses fermées si aucune parenthèse ouverte était dans la requête mais ceci présente des failles également. En effet, nous supprimons que la première parenthèse rencontrée et celle ci est supprimer que si une parenthèse ouverte est présente. Donc certains cas où notre modèle prédit la parenthèse fermée mais où nous avons d'autres parenthèses, cette erreur persiste et baisse les performances.\n",
        "\n",
        "De plus, nous n'avons pas réussis à avoir des résultats semblables à ceux lus dans la littérature pour le modèle convolutionnel Seq2Seq, malgré l'ajout d'epochs. \n",
        "\n",
        "Enfin, la gestion des mots inconnus peut être améliorable avec par exemple une méthode qui récupèrerait la position initiale du jeton inconnu pour placer exactement le bon mot au lieu d'utiliser une méthode aléatoire ou basée sur l'ordre d'apparition de ces mots inconnus. \n",
        "\n"
      ]
    },
    {
      "cell_type": "markdown",
      "metadata": {
        "id": "4-P0PPOAT21n"
      },
      "source": [
        "## 8. LIVRABLES\n",
        "Vous devez remettre sur Moodle:\n",
        "\n",
        "1) Le code : Un Jupyter notebook en Python qui contient le code tel que soumis dans l’environnement Kaggle implanté avec les librairies disponibles pour ce cours (Python, Keras, NLTK, scikitLearn, etc.) ainsi que votre fichier de soumission de données de test. Le code doit être exécutable sans erreur et accompagné des commentaires appropriés dans le notebook de manière à expliquer les différentes fonctions et étapes dans votre projet. Nous nous réservons le droit de demander une démonstration ou la preuve que vous avez effectué vous-mêmes les expériences décrites. *Attention, en aucun cas votre code ne doit avoir été copié de projets potentiellement existants.*\n",
        "\n",
        "2) Un fichier `requirements.txt` doit indiquer toutes les librairies / données nécessaires. Les critères de qualité tels que la lisibilité du code et des commentaires sont importants. \n",
        "\n",
        "3) Un lien *GoogleDrive* vers les modèles nécessaires pour exécuter votre notebook si approprié.\n",
        "\n",
        "4) Le fichier `tp3_submission.csv`.\n",
        "\n",
        "5) Un document `contributions.txt` : Décrivez brièvement la contribution de chaque membre de l’équipe. Tous les membres sont censés contribuer au développement. Bien que chaque membre puisse effectuer différentes tâches, vous devez vous efforcer d’obtenir une répartition égale du travail. En particulier, tous les membres du projet devraient participer à la conception du projet et participer activement à la réflexion et à l’implémentation du code.\n"
      ]
    },
    {
      "cell_type": "markdown",
      "metadata": {
        "id": "ezXfrDdLUqcI"
      },
      "source": [
        "__EVALUATION__ <br>\n",
        "Votre TP sera évalué sur les points suivants :\n",
        "\n",
        "__Critères :__ \n",
        "1. Implantation correcte et efficace\n",
        "2. Exécution correcte du code\n",
        "3. Qualité du code\n",
        "4. Commentaires clairs et informatifs\n",
        "5. Aspect novateur : autres métriques ou modèles qui dépassent ce qui est demandé\n",
        "\n",
        "__CODE D’HONNEUR__\n",
        "- __Règle 1__:  Le plagiat de code est bien évidemment interdit. Toute utilisation de code doit être référencée adéquatement. L’utilisation de code ne peut concerner que les architectures de base (par exemple le Transformer). Vous __ne pouvez pas__ soumettre un code, écrit par quelqu’un d’autre, faisant de la traduction de la langue naturelle vers SPARQL. Dans le cas contraire, cela sera considéré comme du plagiat. \n",
        "- __Règle 2__: Vous êtes libres de discuter des idées et des détails de mise en œuvre avec d'autres équipes. Cependant, vous ne pouvez en aucun cas consulter le code d'une autre équipe INF8460, ou incorporer leur code dans votre TP.\n",
        "- __Règle 3__:  Vous ne pouvez pas partager votre code publiquement (par exemple, dans un dépôt GitHub public) tant que le cours n'est pas fini."
      ]
    }
  ],
  "metadata": {
    "accelerator": "GPU",
    "colab": {
      "collapsed_sections": [
        "GBJuloG-EUkM",
        "pkaVN-LtEZZz",
        "dhJSJKAPEwKo"
      ],
      "provenance": [],
      "toc_visible": true
    },
    "gpuClass": "standard",
    "kernelspec": {
      "display_name": "Python 3.10.4 ('INF8460_TP1')",
      "language": "python",
      "name": "python3"
    },
    "language_info": {
      "codemirror_mode": {
        "name": "ipython",
        "version": 3
      },
      "file_extension": ".py",
      "mimetype": "text/x-python",
      "name": "python",
      "nbconvert_exporter": "python",
      "pygments_lexer": "ipython3",
      "version": "3.10.4"
    },
    "vscode": {
      "interpreter": {
        "hash": "837b27d4d8973f8fd17d6772fbcbb50dbf2fdd3cd63e394bb02ff8e33505824d"
      }
    }
  },
  "nbformat": 4,
  "nbformat_minor": 0
}
