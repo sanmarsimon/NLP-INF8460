{
 "cells": [
  {
   "cell_type": "markdown",
   "id": "812ea385",
   "metadata": {
    "id": "812ea385"
   },
   "source": [
    "# INF8460 - TP3 \n",
    "# Word2vec et regroupement non supervisé (Clustering)"
   ]
  },
  {
   "cell_type": "markdown",
   "id": "c8705bee",
   "metadata": {
    "id": "c8705bee"
   },
   "source": [
    "# 0. Pré-traitement"
   ]
  },
  {
   "cell_type": "code",
   "execution_count": 1,
   "id": "BFOFeQJG2JGx",
   "metadata": {
    "id": "BFOFeQJG2JGx"
   },
   "outputs": [],
   "source": [
    "PATH = '/content/'"
   ]
  },
  {
   "cell_type": "code",
   "execution_count": 2,
   "id": "4d4e22a2",
   "metadata": {
    "id": "4d4e22a2"
   },
   "outputs": [],
   "source": [
    "from sklearn.metrics import classification_report\n",
    "import pandas as pd\n",
    "import nltk\n",
    "import numpy as np\n",
    "from math import ceil\n",
    "from torch.utils.data import DataLoader, Dataset"
   ]
  },
  {
   "cell_type": "code",
   "execution_count": 3,
   "id": "b3e47429",
   "metadata": {
    "colab": {
     "base_uri": "https://localhost:8080/",
     "height": 424
    },
    "id": "b3e47429",
    "outputId": "7846c63e-9c63-478f-ef7e-3975c905b8d4"
   },
   "outputs": [
    {
     "data": {
      "text/html": [
       "\n",
       "  <div id=\"df-3f7a217b-8fe2-4c38-8c2a-06dc29b578d4\">\n",
       "    <div class=\"colab-df-container\">\n",
       "      <div>\n",
       "<style scoped>\n",
       "    .dataframe tbody tr th:only-of-type {\n",
       "        vertical-align: middle;\n",
       "    }\n",
       "\n",
       "    .dataframe tbody tr th {\n",
       "        vertical-align: top;\n",
       "    }\n",
       "\n",
       "    .dataframe thead th {\n",
       "        text-align: right;\n",
       "    }\n",
       "</style>\n",
       "<table border=\"1\" class=\"dataframe\">\n",
       "  <thead>\n",
       "    <tr style=\"text-align: right;\">\n",
       "      <th></th>\n",
       "      <th>category</th>\n",
       "      <th>headline</th>\n",
       "    </tr>\n",
       "  </thead>\n",
       "  <tbody>\n",
       "    <tr>\n",
       "      <th>0</th>\n",
       "      <td>BUSINESS</td>\n",
       "      <td>MasterCard Wants You To Pay For Stuff With Sel...</td>\n",
       "    </tr>\n",
       "    <tr>\n",
       "      <th>1</th>\n",
       "      <td>BUSINESS</td>\n",
       "      <td>A Father's Day Gift To Our Daughters -- Making...</td>\n",
       "    </tr>\n",
       "    <tr>\n",
       "      <th>2</th>\n",
       "      <td>COMEDY</td>\n",
       "      <td>Hasty Pudding -</td>\n",
       "    </tr>\n",
       "    <tr>\n",
       "      <th>3</th>\n",
       "      <td>BUSINESS</td>\n",
       "      <td>What's Musk's 'Missing Piece?' Tesla Insider S...</td>\n",
       "    </tr>\n",
       "    <tr>\n",
       "      <th>4</th>\n",
       "      <td>COMEDY</td>\n",
       "      <td>You Can't Argue About The Female Cast Of This ...</td>\n",
       "    </tr>\n",
       "    <tr>\n",
       "      <th>...</th>\n",
       "      <td>...</td>\n",
       "      <td>...</td>\n",
       "    </tr>\n",
       "    <tr>\n",
       "      <th>11611</th>\n",
       "      <td>BUSINESS</td>\n",
       "      <td>New Orleans Restaurant Under Fire For Racist R...</td>\n",
       "    </tr>\n",
       "    <tr>\n",
       "      <th>11612</th>\n",
       "      <td>BUSINESS</td>\n",
       "      <td>Remy Martin's 2,500 Euro Louis XIII Cognac In ...</td>\n",
       "    </tr>\n",
       "    <tr>\n",
       "      <th>11613</th>\n",
       "      <td>COMEDY</td>\n",
       "      <td>The Funniest Someecards Of The Week (PICTURES)...</td>\n",
       "    </tr>\n",
       "    <tr>\n",
       "      <th>11614</th>\n",
       "      <td>CRIME</td>\n",
       "      <td>Mobster 'Whitey' Bulger Says His Life Was 'Was...</td>\n",
       "    </tr>\n",
       "    <tr>\n",
       "      <th>11615</th>\n",
       "      <td>BUSINESS</td>\n",
       "      <td>Warren Buffett's Successor? Here Are Four Pote...</td>\n",
       "    </tr>\n",
       "  </tbody>\n",
       "</table>\n",
       "<p>11616 rows × 2 columns</p>\n",
       "</div>\n",
       "      <button class=\"colab-df-convert\" onclick=\"convertToInteractive('df-3f7a217b-8fe2-4c38-8c2a-06dc29b578d4')\"\n",
       "              title=\"Convert this dataframe to an interactive table.\"\n",
       "              style=\"display:none;\">\n",
       "        \n",
       "  <svg xmlns=\"http://www.w3.org/2000/svg\" height=\"24px\"viewBox=\"0 0 24 24\"\n",
       "       width=\"24px\">\n",
       "    <path d=\"M0 0h24v24H0V0z\" fill=\"none\"/>\n",
       "    <path d=\"M18.56 5.44l.94 2.06.94-2.06 2.06-.94-2.06-.94-.94-2.06-.94 2.06-2.06.94zm-11 1L8.5 8.5l.94-2.06 2.06-.94-2.06-.94L8.5 2.5l-.94 2.06-2.06.94zm10 10l.94 2.06.94-2.06 2.06-.94-2.06-.94-.94-2.06-.94 2.06-2.06.94z\"/><path d=\"M17.41 7.96l-1.37-1.37c-.4-.4-.92-.59-1.43-.59-.52 0-1.04.2-1.43.59L10.3 9.45l-7.72 7.72c-.78.78-.78 2.05 0 2.83L4 21.41c.39.39.9.59 1.41.59.51 0 1.02-.2 1.41-.59l7.78-7.78 2.81-2.81c.8-.78.8-2.07 0-2.86zM5.41 20L4 18.59l7.72-7.72 1.47 1.35L5.41 20z\"/>\n",
       "  </svg>\n",
       "      </button>\n",
       "      \n",
       "  <style>\n",
       "    .colab-df-container {\n",
       "      display:flex;\n",
       "      flex-wrap:wrap;\n",
       "      gap: 12px;\n",
       "    }\n",
       "\n",
       "    .colab-df-convert {\n",
       "      background-color: #E8F0FE;\n",
       "      border: none;\n",
       "      border-radius: 50%;\n",
       "      cursor: pointer;\n",
       "      display: none;\n",
       "      fill: #1967D2;\n",
       "      height: 32px;\n",
       "      padding: 0 0 0 0;\n",
       "      width: 32px;\n",
       "    }\n",
       "\n",
       "    .colab-df-convert:hover {\n",
       "      background-color: #E2EBFA;\n",
       "      box-shadow: 0px 1px 2px rgba(60, 64, 67, 0.3), 0px 1px 3px 1px rgba(60, 64, 67, 0.15);\n",
       "      fill: #174EA6;\n",
       "    }\n",
       "\n",
       "    [theme=dark] .colab-df-convert {\n",
       "      background-color: #3B4455;\n",
       "      fill: #D2E3FC;\n",
       "    }\n",
       "\n",
       "    [theme=dark] .colab-df-convert:hover {\n",
       "      background-color: #434B5C;\n",
       "      box-shadow: 0px 1px 3px 1px rgba(0, 0, 0, 0.15);\n",
       "      filter: drop-shadow(0px 1px 2px rgba(0, 0, 0, 0.3));\n",
       "      fill: #FFFFFF;\n",
       "    }\n",
       "  </style>\n",
       "\n",
       "      <script>\n",
       "        const buttonEl =\n",
       "          document.querySelector('#df-3f7a217b-8fe2-4c38-8c2a-06dc29b578d4 button.colab-df-convert');\n",
       "        buttonEl.style.display =\n",
       "          google.colab.kernel.accessAllowed ? 'block' : 'none';\n",
       "\n",
       "        async function convertToInteractive(key) {\n",
       "          const element = document.querySelector('#df-3f7a217b-8fe2-4c38-8c2a-06dc29b578d4');\n",
       "          const dataTable =\n",
       "            await google.colab.kernel.invokeFunction('convertToInteractive',\n",
       "                                                     [key], {});\n",
       "          if (!dataTable) return;\n",
       "\n",
       "          const docLinkHtml = 'Like what you see? Visit the ' +\n",
       "            '<a target=\"_blank\" href=https://colab.research.google.com/notebooks/data_table.ipynb>data table notebook</a>'\n",
       "            + ' to learn more about interactive tables.';\n",
       "          element.innerHTML = '';\n",
       "          dataTable['output_type'] = 'display_data';\n",
       "          await google.colab.output.renderOutput(dataTable, element);\n",
       "          const docLink = document.createElement('div');\n",
       "          docLink.innerHTML = docLinkHtml;\n",
       "          element.appendChild(docLink);\n",
       "        }\n",
       "      </script>\n",
       "    </div>\n",
       "  </div>\n",
       "  "
      ],
      "text/plain": [
       "       category                                           headline\n",
       "0      BUSINESS  MasterCard Wants You To Pay For Stuff With Sel...\n",
       "1      BUSINESS  A Father's Day Gift To Our Daughters -- Making...\n",
       "2        COMEDY                                   Hasty Pudding - \n",
       "3      BUSINESS  What's Musk's 'Missing Piece?' Tesla Insider S...\n",
       "4        COMEDY  You Can't Argue About The Female Cast Of This ...\n",
       "...         ...                                                ...\n",
       "11611  BUSINESS  New Orleans Restaurant Under Fire For Racist R...\n",
       "11612  BUSINESS  Remy Martin's 2,500 Euro Louis XIII Cognac In ...\n",
       "11613    COMEDY  The Funniest Someecards Of The Week (PICTURES)...\n",
       "11614     CRIME  Mobster 'Whitey' Bulger Says His Life Was 'Was...\n",
       "11615  BUSINESS  Warren Buffett's Successor? Here Are Four Pote...\n",
       "\n",
       "[11616 rows x 2 columns]"
      ]
     },
     "execution_count": 3,
     "metadata": {},
     "output_type": "execute_result"
    }
   ],
   "source": [
    "train = pd.read_csv(PATH + \"train.csv\")\n",
    "test = pd.read_csv(PATH + \"test.csv\")\n",
    "train"
   ]
  },
  {
   "cell_type": "code",
   "execution_count": 4,
   "id": "4899fd81",
   "metadata": {
    "colab": {
     "base_uri": "https://localhost:8080/"
    },
    "id": "4899fd81",
    "outputId": "b3051530-7fed-4254-db15-ec048a0b6cad"
   },
   "outputs": [
    {
     "data": {
      "text/plain": [
       "BUSINESS    4704\n",
       "COMEDY      4163\n",
       "CRIME       2749\n",
       "Name: category, dtype: int64"
      ]
     },
     "execution_count": 4,
     "metadata": {},
     "output_type": "execute_result"
    }
   ],
   "source": [
    "train[\"category\"].value_counts()"
   ]
  },
  {
   "cell_type": "code",
   "execution_count": 5,
   "id": "60d29055",
   "metadata": {
    "colab": {
     "base_uri": "https://localhost:8080/"
    },
    "id": "60d29055",
    "outputId": "a21f720d-d6f2-4002-9901-184718923d77"
   },
   "outputs": [
    {
     "name": "stderr",
     "output_type": "stream",
     "text": [
      "[nltk_data] Downloading package stopwords to /root/nltk_data...\n",
      "[nltk_data]   Unzipping corpora/stopwords.zip.\n",
      "[nltk_data] Downloading package punkt to /root/nltk_data...\n",
      "[nltk_data]   Unzipping tokenizers/punkt.zip.\n"
     ]
    }
   ],
   "source": [
    "from nltk.corpus import stopwords\n",
    "from nltk.tokenize import word_tokenize\n",
    "import string\n",
    "import re\n",
    "\n",
    "nltk.download('stopwords')\n",
    "nltk.download('punkt')\n",
    "\n",
    "stopwords = stopwords.words('english')\n",
    "stemmer = nltk.stem.porter.PorterStemmer()\n",
    "\n",
    "\n",
    "def preprocess(sentence):\n",
    "    sentence = sentence.lower()\n",
    "    sentence = re.sub(r\"[^A-Za-z0-9]\", \" \", sentence)\n",
    "    tokens = word_tokenize(sentence)\n",
    "    tokens = [token for token in tokens if token not in stopwords]\n",
    "    \n",
    "    tokens = [stemmer.stem(token) for token in tokens]\n",
    "    \n",
    "    return tokens"
   ]
  },
  {
   "cell_type": "code",
   "execution_count": 6,
   "id": "b6d505b5",
   "metadata": {
    "colab": {
     "base_uri": "https://localhost:8080/",
     "height": 502
    },
    "id": "b6d505b5",
    "outputId": "73ab2bc9-b2f4-49f9-83ed-7e6d89d83c5d",
    "scrolled": true
   },
   "outputs": [
    {
     "data": {
      "text/html": [
       "\n",
       "  <div id=\"df-c03b83ea-2958-4c32-b353-a7e9ab825f3e\">\n",
       "    <div class=\"colab-df-container\">\n",
       "      <div>\n",
       "<style scoped>\n",
       "    .dataframe tbody tr th:only-of-type {\n",
       "        vertical-align: middle;\n",
       "    }\n",
       "\n",
       "    .dataframe tbody tr th {\n",
       "        vertical-align: top;\n",
       "    }\n",
       "\n",
       "    .dataframe thead th {\n",
       "        text-align: right;\n",
       "    }\n",
       "</style>\n",
       "<table border=\"1\" class=\"dataframe\">\n",
       "  <thead>\n",
       "    <tr style=\"text-align: right;\">\n",
       "      <th></th>\n",
       "      <th>category</th>\n",
       "      <th>headline</th>\n",
       "      <th>tokens</th>\n",
       "    </tr>\n",
       "  </thead>\n",
       "  <tbody>\n",
       "    <tr>\n",
       "      <th>0</th>\n",
       "      <td>BUSINESS</td>\n",
       "      <td>MasterCard Wants You To Pay For Stuff With Sel...</td>\n",
       "      <td>[mastercard, want, pay, stuff, selfi, compani,...</td>\n",
       "    </tr>\n",
       "    <tr>\n",
       "      <th>1</th>\n",
       "      <td>BUSINESS</td>\n",
       "      <td>A Father's Day Gift To Our Daughters -- Making...</td>\n",
       "      <td>[father, day, gift, daughter, make, connect, d...</td>\n",
       "    </tr>\n",
       "    <tr>\n",
       "      <th>2</th>\n",
       "      <td>COMEDY</td>\n",
       "      <td>Hasty Pudding -</td>\n",
       "      <td>[hasti, pud]</td>\n",
       "    </tr>\n",
       "    <tr>\n",
       "      <th>3</th>\n",
       "      <td>BUSINESS</td>\n",
       "      <td>What's Musk's 'Missing Piece?' Tesla Insider S...</td>\n",
       "      <td>[musk, miss, piec, tesla, insid, share, insigh...</td>\n",
       "    </tr>\n",
       "    <tr>\n",
       "      <th>4</th>\n",
       "      <td>COMEDY</td>\n",
       "      <td>You Can't Argue About The Female Cast Of This ...</td>\n",
       "      <td>[argu, femal, cast, trump, ghostbust, parodi, ...</td>\n",
       "    </tr>\n",
       "    <tr>\n",
       "      <th>...</th>\n",
       "      <td>...</td>\n",
       "      <td>...</td>\n",
       "      <td>...</td>\n",
       "    </tr>\n",
       "    <tr>\n",
       "      <th>11611</th>\n",
       "      <td>BUSINESS</td>\n",
       "      <td>New Orleans Restaurant Under Fire For Racist R...</td>\n",
       "      <td>[new, orlean, restaur, fire, racist, receipt]</td>\n",
       "    </tr>\n",
       "    <tr>\n",
       "      <th>11612</th>\n",
       "      <td>BUSINESS</td>\n",
       "      <td>Remy Martin's 2,500 Euro Louis XIII Cognac In ...</td>\n",
       "      <td>[remi, martin, 2, 500, euro, loui, xiii, cogna...</td>\n",
       "    </tr>\n",
       "    <tr>\n",
       "      <th>11613</th>\n",
       "      <td>COMEDY</td>\n",
       "      <td>The Funniest Someecards Of The Week (PICTURES)...</td>\n",
       "      <td>[funniest, someecard, week, pictur, tax, day, ...</td>\n",
       "    </tr>\n",
       "    <tr>\n",
       "      <th>11614</th>\n",
       "      <td>CRIME</td>\n",
       "      <td>Mobster 'Whitey' Bulger Says His Life Was 'Was...</td>\n",
       "      <td>[mobster, whitey, bulger, say, life, wast, let...</td>\n",
       "    </tr>\n",
       "    <tr>\n",
       "      <th>11615</th>\n",
       "      <td>BUSINESS</td>\n",
       "      <td>Warren Buffett's Successor? Here Are Four Pote...</td>\n",
       "      <td>[warren, buffett, successor, four, potenti, ch...</td>\n",
       "    </tr>\n",
       "  </tbody>\n",
       "</table>\n",
       "<p>11616 rows × 3 columns</p>\n",
       "</div>\n",
       "      <button class=\"colab-df-convert\" onclick=\"convertToInteractive('df-c03b83ea-2958-4c32-b353-a7e9ab825f3e')\"\n",
       "              title=\"Convert this dataframe to an interactive table.\"\n",
       "              style=\"display:none;\">\n",
       "        \n",
       "  <svg xmlns=\"http://www.w3.org/2000/svg\" height=\"24px\"viewBox=\"0 0 24 24\"\n",
       "       width=\"24px\">\n",
       "    <path d=\"M0 0h24v24H0V0z\" fill=\"none\"/>\n",
       "    <path d=\"M18.56 5.44l.94 2.06.94-2.06 2.06-.94-2.06-.94-.94-2.06-.94 2.06-2.06.94zm-11 1L8.5 8.5l.94-2.06 2.06-.94-2.06-.94L8.5 2.5l-.94 2.06-2.06.94zm10 10l.94 2.06.94-2.06 2.06-.94-2.06-.94-.94-2.06-.94 2.06-2.06.94z\"/><path d=\"M17.41 7.96l-1.37-1.37c-.4-.4-.92-.59-1.43-.59-.52 0-1.04.2-1.43.59L10.3 9.45l-7.72 7.72c-.78.78-.78 2.05 0 2.83L4 21.41c.39.39.9.59 1.41.59.51 0 1.02-.2 1.41-.59l7.78-7.78 2.81-2.81c.8-.78.8-2.07 0-2.86zM5.41 20L4 18.59l7.72-7.72 1.47 1.35L5.41 20z\"/>\n",
       "  </svg>\n",
       "      </button>\n",
       "      \n",
       "  <style>\n",
       "    .colab-df-container {\n",
       "      display:flex;\n",
       "      flex-wrap:wrap;\n",
       "      gap: 12px;\n",
       "    }\n",
       "\n",
       "    .colab-df-convert {\n",
       "      background-color: #E8F0FE;\n",
       "      border: none;\n",
       "      border-radius: 50%;\n",
       "      cursor: pointer;\n",
       "      display: none;\n",
       "      fill: #1967D2;\n",
       "      height: 32px;\n",
       "      padding: 0 0 0 0;\n",
       "      width: 32px;\n",
       "    }\n",
       "\n",
       "    .colab-df-convert:hover {\n",
       "      background-color: #E2EBFA;\n",
       "      box-shadow: 0px 1px 2px rgba(60, 64, 67, 0.3), 0px 1px 3px 1px rgba(60, 64, 67, 0.15);\n",
       "      fill: #174EA6;\n",
       "    }\n",
       "\n",
       "    [theme=dark] .colab-df-convert {\n",
       "      background-color: #3B4455;\n",
       "      fill: #D2E3FC;\n",
       "    }\n",
       "\n",
       "    [theme=dark] .colab-df-convert:hover {\n",
       "      background-color: #434B5C;\n",
       "      box-shadow: 0px 1px 3px 1px rgba(0, 0, 0, 0.15);\n",
       "      filter: drop-shadow(0px 1px 2px rgba(0, 0, 0, 0.3));\n",
       "      fill: #FFFFFF;\n",
       "    }\n",
       "  </style>\n",
       "\n",
       "      <script>\n",
       "        const buttonEl =\n",
       "          document.querySelector('#df-c03b83ea-2958-4c32-b353-a7e9ab825f3e button.colab-df-convert');\n",
       "        buttonEl.style.display =\n",
       "          google.colab.kernel.accessAllowed ? 'block' : 'none';\n",
       "\n",
       "        async function convertToInteractive(key) {\n",
       "          const element = document.querySelector('#df-c03b83ea-2958-4c32-b353-a7e9ab825f3e');\n",
       "          const dataTable =\n",
       "            await google.colab.kernel.invokeFunction('convertToInteractive',\n",
       "                                                     [key], {});\n",
       "          if (!dataTable) return;\n",
       "\n",
       "          const docLinkHtml = 'Like what you see? Visit the ' +\n",
       "            '<a target=\"_blank\" href=https://colab.research.google.com/notebooks/data_table.ipynb>data table notebook</a>'\n",
       "            + ' to learn more about interactive tables.';\n",
       "          element.innerHTML = '';\n",
       "          dataTable['output_type'] = 'display_data';\n",
       "          await google.colab.output.renderOutput(dataTable, element);\n",
       "          const docLink = document.createElement('div');\n",
       "          docLink.innerHTML = docLinkHtml;\n",
       "          element.appendChild(docLink);\n",
       "        }\n",
       "      </script>\n",
       "    </div>\n",
       "  </div>\n",
       "  "
      ],
      "text/plain": [
       "       category                                           headline  \\\n",
       "0      BUSINESS  MasterCard Wants You To Pay For Stuff With Sel...   \n",
       "1      BUSINESS  A Father's Day Gift To Our Daughters -- Making...   \n",
       "2        COMEDY                                   Hasty Pudding -    \n",
       "3      BUSINESS  What's Musk's 'Missing Piece?' Tesla Insider S...   \n",
       "4        COMEDY  You Can't Argue About The Female Cast Of This ...   \n",
       "...         ...                                                ...   \n",
       "11611  BUSINESS  New Orleans Restaurant Under Fire For Racist R...   \n",
       "11612  BUSINESS  Remy Martin's 2,500 Euro Louis XIII Cognac In ...   \n",
       "11613    COMEDY  The Funniest Someecards Of The Week (PICTURES)...   \n",
       "11614     CRIME  Mobster 'Whitey' Bulger Says His Life Was 'Was...   \n",
       "11615  BUSINESS  Warren Buffett's Successor? Here Are Four Pote...   \n",
       "\n",
       "                                                  tokens  \n",
       "0      [mastercard, want, pay, stuff, selfi, compani,...  \n",
       "1      [father, day, gift, daughter, make, connect, d...  \n",
       "2                                           [hasti, pud]  \n",
       "3      [musk, miss, piec, tesla, insid, share, insigh...  \n",
       "4      [argu, femal, cast, trump, ghostbust, parodi, ...  \n",
       "...                                                  ...  \n",
       "11611      [new, orlean, restaur, fire, racist, receipt]  \n",
       "11612  [remi, martin, 2, 500, euro, loui, xiii, cogna...  \n",
       "11613  [funniest, someecard, week, pictur, tax, day, ...  \n",
       "11614  [mobster, whitey, bulger, say, life, wast, let...  \n",
       "11615  [warren, buffett, successor, four, potenti, ch...  \n",
       "\n",
       "[11616 rows x 3 columns]"
      ]
     },
     "execution_count": 6,
     "metadata": {},
     "output_type": "execute_result"
    }
   ],
   "source": [
    "train[\"tokens\"] = train[\"headline\"].apply(preprocess)\n",
    "test[\"tokens\"] = test[\"headline\"].apply(preprocess)\n",
    "train"
   ]
  },
  {
   "cell_type": "markdown",
   "id": "e4f0e31e",
   "metadata": {
    "id": "e4f0e31e"
   },
   "source": [
    "# 1. Implémentation d'un modèle Skipgram avec Pytorch"
   ]
  },
  {
   "cell_type": "markdown",
   "id": "57cfbaf7",
   "metadata": {
    "id": "57cfbaf7"
   },
   "source": [
    "\n",
    "\n",
    "<img src=\"https://aegis4048.github.io/jupyter_images/skip-gram-paper.png\" width=300 height=300 />"
   ]
  },
  {
   "cell_type": "markdown",
   "id": "07c11686",
   "metadata": {
    "id": "07c11686"
   },
   "source": [
    "Dans cet exercice, vous allez implémenter un modèle Skipgram afin d'obtenir une représentation vectorielle de chaque mot, aussi appelé word embedding en anglais. \n",
    "\n",
    "\n",
    "\n"
   ]
  },
  {
   "cell_type": "markdown",
   "id": "1e6ea5b5",
   "metadata": {
    "id": "1e6ea5b5"
   },
   "source": [
    "### 1.1 Transformez chaque liste de jetons de la colonne \"headline\" en une séquence d'indices et stockez le résultat dans une nouvelle colonne \"sequence\". \n",
    "\n",
    "Pour transformer une phrase en séquence, il faut remplacer les jetons par leur indice respectif dans le vocabulaire.\n",
    "\n",
    "Exemple:\n",
    "\n",
    "entrée:   \n",
    "```\n",
    "# indices :  0        1      2          3        4\n",
    "vocab =     [\"Alice\", \"Bob\", \"Charlie\", \"likes\", \"cats\"]\n",
    "\n",
    "phrase_1 = [\"Alice\", \"likes\", \"Bob\"]\n",
    "phrase_2 = [\"Charlie\", \"likes\", \"cats\"]\n",
    "```\n",
    "\n",
    "sortie:   \n",
    "\n",
    "```\n",
    "sequence_1 = [0, 3, 1]\n",
    "sequence_2 = [2, 3, 4]\n",
    "```\n",
    " \n",
    "\n"
   ]
  },
  {
   "cell_type": "code",
   "execution_count": 7,
   "id": "6e478a16",
   "metadata": {
    "id": "6e478a16"
   },
   "outputs": [],
   "source": [
    "def build_vocab(docs):\n",
    "    vocab = []\n",
    "    for doc in docs:\n",
    "        for token in doc:\n",
    "            if token not in vocab:\n",
    "                vocab.append(token)\n",
    "\n",
    "    return vocab\n",
    "\n",
    "def tokens_sequencing(vocab, docs):\n",
    "    sequenceColumn = []\n",
    "    for doc in docs:\n",
    "        sequence = []\n",
    "        for token in doc:\n",
    "            if token in vocab:\n",
    "                sequence.append(vocab.index(token))\n",
    "        sequenceColumn.append(sequence)\n",
    "    \n",
    "    return sequenceColumn\n",
    "\n",
    "vocab = build_vocab(train[\"tokens\"])\n",
    "train[\"sequence\"] = tokens_sequencing(vocab, train[\"tokens\"])\n",
    "test[\"sequence\"] = tokens_sequencing(vocab, test[\"tokens\"])\n",
    "\n"
   ]
  },
  {
   "cell_type": "code",
   "execution_count": 8,
   "id": "2af28ad9",
   "metadata": {
    "colab": {
     "base_uri": "https://localhost:8080/",
     "height": 563
    },
    "id": "2af28ad9",
    "outputId": "9a6f01bc-c953-44f5-e9fa-cd39a6c81f43"
   },
   "outputs": [
    {
     "data": {
      "text/html": [
       "\n",
       "  <div id=\"df-731417f1-45b7-4538-b58a-a4097643c995\">\n",
       "    <div class=\"colab-df-container\">\n",
       "      <div>\n",
       "<style scoped>\n",
       "    .dataframe tbody tr th:only-of-type {\n",
       "        vertical-align: middle;\n",
       "    }\n",
       "\n",
       "    .dataframe tbody tr th {\n",
       "        vertical-align: top;\n",
       "    }\n",
       "\n",
       "    .dataframe thead th {\n",
       "        text-align: right;\n",
       "    }\n",
       "</style>\n",
       "<table border=\"1\" class=\"dataframe\">\n",
       "  <thead>\n",
       "    <tr style=\"text-align: right;\">\n",
       "      <th></th>\n",
       "      <th>category</th>\n",
       "      <th>headline</th>\n",
       "      <th>tokens</th>\n",
       "      <th>sequence</th>\n",
       "    </tr>\n",
       "  </thead>\n",
       "  <tbody>\n",
       "    <tr>\n",
       "      <th>0</th>\n",
       "      <td>BUSINESS</td>\n",
       "      <td>MasterCard Wants You To Pay For Stuff With Sel...</td>\n",
       "      <td>[mastercard, want, pay, stuff, selfi, compani,...</td>\n",
       "      <td>[0, 1, 2, 3, 4, 5, 6, 7, 8, 9, 10, 11, 12, 4, ...</td>\n",
       "    </tr>\n",
       "    <tr>\n",
       "      <th>1</th>\n",
       "      <td>BUSINESS</td>\n",
       "      <td>A Father's Day Gift To Our Daughters -- Making...</td>\n",
       "      <td>[father, day, gift, daughter, make, connect, d...</td>\n",
       "      <td>[16, 17, 18, 19, 20, 21, 22, 23, 24, 19, 25, 2...</td>\n",
       "    </tr>\n",
       "    <tr>\n",
       "      <th>2</th>\n",
       "      <td>COMEDY</td>\n",
       "      <td>Hasty Pudding -</td>\n",
       "      <td>[hasti, pud]</td>\n",
       "      <td>[28, 29]</td>\n",
       "    </tr>\n",
       "    <tr>\n",
       "      <th>3</th>\n",
       "      <td>BUSINESS</td>\n",
       "      <td>What's Musk's 'Missing Piece?' Tesla Insider S...</td>\n",
       "      <td>[musk, miss, piec, tesla, insid, share, insigh...</td>\n",
       "      <td>[30, 31, 32, 33, 34, 35, 36, 37, 38, 30, 39, 4...</td>\n",
       "    </tr>\n",
       "    <tr>\n",
       "      <th>4</th>\n",
       "      <td>COMEDY</td>\n",
       "      <td>You Can't Argue About The Female Cast Of This ...</td>\n",
       "      <td>[argu, femal, cast, trump, ghostbust, parodi, ...</td>\n",
       "      <td>[50, 51, 52, 53, 54, 55, 56, 53]</td>\n",
       "    </tr>\n",
       "    <tr>\n",
       "      <th>5</th>\n",
       "      <td>BUSINESS</td>\n",
       "      <td>Wealthy Greek Tax Dodgers Escaping Crackdown: ...</td>\n",
       "      <td>[wealthi, greek, tax, dodger, escap, crackdown...</td>\n",
       "      <td>[57, 58, 59, 60, 61, 62, 63, 64, 65, 59, 66, 6...</td>\n",
       "    </tr>\n",
       "    <tr>\n",
       "      <th>6</th>\n",
       "      <td>BUSINESS</td>\n",
       "      <td>Women in Business: Kristin Lemkau, Chief Marke...</td>\n",
       "      <td>[women, busi, kristin, lemkau, chief, market, ...</td>\n",
       "      <td>[75, 46, 76, 77, 78, 79, 80, 81, 82, 83, 84, 8...</td>\n",
       "    </tr>\n",
       "    <tr>\n",
       "      <th>7</th>\n",
       "      <td>BUSINESS</td>\n",
       "      <td>Shane Smith &amp; Eddy Moretti Talk Youth Unemploy...</td>\n",
       "      <td>[shane, smith, eddi, moretti, talk, youth, une...</td>\n",
       "      <td>[98, 99, 100, 101, 102, 103, 104, 105, 106, 10...</td>\n",
       "    </tr>\n",
       "    <tr>\n",
       "      <th>8</th>\n",
       "      <td>CRIME</td>\n",
       "      <td>College Football Player Used Drugs Before Texa...</td>\n",
       "      <td>[colleg, footbal, player, use, drug, texa, pol...</td>\n",
       "      <td>[118, 119, 120, 12, 121, 122, 123, 124, 125, 1...</td>\n",
       "    </tr>\n",
       "    <tr>\n",
       "      <th>9</th>\n",
       "      <td>CRIME</td>\n",
       "      <td>Man Fined $100,000 After Shining Laser At Ferr...</td>\n",
       "      <td>[man, fine, 100, 000, shine, laser, ferri, inj...</td>\n",
       "      <td>[128, 129, 130, 131, 132, 133, 134, 135, 136, ...</td>\n",
       "    </tr>\n",
       "  </tbody>\n",
       "</table>\n",
       "</div>\n",
       "      <button class=\"colab-df-convert\" onclick=\"convertToInteractive('df-731417f1-45b7-4538-b58a-a4097643c995')\"\n",
       "              title=\"Convert this dataframe to an interactive table.\"\n",
       "              style=\"display:none;\">\n",
       "        \n",
       "  <svg xmlns=\"http://www.w3.org/2000/svg\" height=\"24px\"viewBox=\"0 0 24 24\"\n",
       "       width=\"24px\">\n",
       "    <path d=\"M0 0h24v24H0V0z\" fill=\"none\"/>\n",
       "    <path d=\"M18.56 5.44l.94 2.06.94-2.06 2.06-.94-2.06-.94-.94-2.06-.94 2.06-2.06.94zm-11 1L8.5 8.5l.94-2.06 2.06-.94-2.06-.94L8.5 2.5l-.94 2.06-2.06.94zm10 10l.94 2.06.94-2.06 2.06-.94-2.06-.94-.94-2.06-.94 2.06-2.06.94z\"/><path d=\"M17.41 7.96l-1.37-1.37c-.4-.4-.92-.59-1.43-.59-.52 0-1.04.2-1.43.59L10.3 9.45l-7.72 7.72c-.78.78-.78 2.05 0 2.83L4 21.41c.39.39.9.59 1.41.59.51 0 1.02-.2 1.41-.59l7.78-7.78 2.81-2.81c.8-.78.8-2.07 0-2.86zM5.41 20L4 18.59l7.72-7.72 1.47 1.35L5.41 20z\"/>\n",
       "  </svg>\n",
       "      </button>\n",
       "      \n",
       "  <style>\n",
       "    .colab-df-container {\n",
       "      display:flex;\n",
       "      flex-wrap:wrap;\n",
       "      gap: 12px;\n",
       "    }\n",
       "\n",
       "    .colab-df-convert {\n",
       "      background-color: #E8F0FE;\n",
       "      border: none;\n",
       "      border-radius: 50%;\n",
       "      cursor: pointer;\n",
       "      display: none;\n",
       "      fill: #1967D2;\n",
       "      height: 32px;\n",
       "      padding: 0 0 0 0;\n",
       "      width: 32px;\n",
       "    }\n",
       "\n",
       "    .colab-df-convert:hover {\n",
       "      background-color: #E2EBFA;\n",
       "      box-shadow: 0px 1px 2px rgba(60, 64, 67, 0.3), 0px 1px 3px 1px rgba(60, 64, 67, 0.15);\n",
       "      fill: #174EA6;\n",
       "    }\n",
       "\n",
       "    [theme=dark] .colab-df-convert {\n",
       "      background-color: #3B4455;\n",
       "      fill: #D2E3FC;\n",
       "    }\n",
       "\n",
       "    [theme=dark] .colab-df-convert:hover {\n",
       "      background-color: #434B5C;\n",
       "      box-shadow: 0px 1px 3px 1px rgba(0, 0, 0, 0.15);\n",
       "      filter: drop-shadow(0px 1px 2px rgba(0, 0, 0, 0.3));\n",
       "      fill: #FFFFFF;\n",
       "    }\n",
       "  </style>\n",
       "\n",
       "      <script>\n",
       "        const buttonEl =\n",
       "          document.querySelector('#df-731417f1-45b7-4538-b58a-a4097643c995 button.colab-df-convert');\n",
       "        buttonEl.style.display =\n",
       "          google.colab.kernel.accessAllowed ? 'block' : 'none';\n",
       "\n",
       "        async function convertToInteractive(key) {\n",
       "          const element = document.querySelector('#df-731417f1-45b7-4538-b58a-a4097643c995');\n",
       "          const dataTable =\n",
       "            await google.colab.kernel.invokeFunction('convertToInteractive',\n",
       "                                                     [key], {});\n",
       "          if (!dataTable) return;\n",
       "\n",
       "          const docLinkHtml = 'Like what you see? Visit the ' +\n",
       "            '<a target=\"_blank\" href=https://colab.research.google.com/notebooks/data_table.ipynb>data table notebook</a>'\n",
       "            + ' to learn more about interactive tables.';\n",
       "          element.innerHTML = '';\n",
       "          dataTable['output_type'] = 'display_data';\n",
       "          await google.colab.output.renderOutput(dataTable, element);\n",
       "          const docLink = document.createElement('div');\n",
       "          docLink.innerHTML = docLinkHtml;\n",
       "          element.appendChild(docLink);\n",
       "        }\n",
       "      </script>\n",
       "    </div>\n",
       "  </div>\n",
       "  "
      ],
      "text/plain": [
       "   category                                           headline  \\\n",
       "0  BUSINESS  MasterCard Wants You To Pay For Stuff With Sel...   \n",
       "1  BUSINESS  A Father's Day Gift To Our Daughters -- Making...   \n",
       "2    COMEDY                                   Hasty Pudding -    \n",
       "3  BUSINESS  What's Musk's 'Missing Piece?' Tesla Insider S...   \n",
       "4    COMEDY  You Can't Argue About The Female Cast Of This ...   \n",
       "5  BUSINESS  Wealthy Greek Tax Dodgers Escaping Crackdown: ...   \n",
       "6  BUSINESS  Women in Business: Kristin Lemkau, Chief Marke...   \n",
       "7  BUSINESS  Shane Smith & Eddy Moretti Talk Youth Unemploy...   \n",
       "8     CRIME  College Football Player Used Drugs Before Texa...   \n",
       "9     CRIME  Man Fined $100,000 After Shining Laser At Ferr...   \n",
       "\n",
       "                                              tokens  \\\n",
       "0  [mastercard, want, pay, stuff, selfi, compani,...   \n",
       "1  [father, day, gift, daughter, make, connect, d...   \n",
       "2                                       [hasti, pud]   \n",
       "3  [musk, miss, piec, tesla, insid, share, insigh...   \n",
       "4  [argu, femal, cast, trump, ghostbust, parodi, ...   \n",
       "5  [wealthi, greek, tax, dodger, escap, crackdown...   \n",
       "6  [women, busi, kristin, lemkau, chief, market, ...   \n",
       "7  [shane, smith, eddi, moretti, talk, youth, une...   \n",
       "8  [colleg, footbal, player, use, drug, texa, pol...   \n",
       "9  [man, fine, 100, 000, shine, laser, ferri, inj...   \n",
       "\n",
       "                                            sequence  \n",
       "0  [0, 1, 2, 3, 4, 5, 6, 7, 8, 9, 10, 11, 12, 4, ...  \n",
       "1  [16, 17, 18, 19, 20, 21, 22, 23, 24, 19, 25, 2...  \n",
       "2                                           [28, 29]  \n",
       "3  [30, 31, 32, 33, 34, 35, 36, 37, 38, 30, 39, 4...  \n",
       "4                   [50, 51, 52, 53, 54, 55, 56, 53]  \n",
       "5  [57, 58, 59, 60, 61, 62, 63, 64, 65, 59, 66, 6...  \n",
       "6  [75, 46, 76, 77, 78, 79, 80, 81, 82, 83, 84, 8...  \n",
       "7  [98, 99, 100, 101, 102, 103, 104, 105, 106, 10...  \n",
       "8  [118, 119, 120, 12, 121, 122, 123, 124, 125, 1...  \n",
       "9  [128, 129, 130, 131, 132, 133, 134, 135, 136, ...  "
      ]
     },
     "execution_count": 8,
     "metadata": {},
     "output_type": "execute_result"
    }
   ],
   "source": [
    "train[:10]"
   ]
  },
  {
   "cell_type": "markdown",
   "id": "a101bcae",
   "metadata": {
    "id": "a101bcae"
   },
   "source": [
    "### 1.2 Complétez la classe SkipGramDataLoader qui génère des exemples d'entraînement.\n",
    "\n",
    "L'objectif du skipgram est de prendre en entrée un mot quelconque et de prédire un mot faisant partie de son entourage (l'entourage étant déterminé par la taille de la fenêtre (window size)). Sois le jeton $w(t)$ à la position $t$ avec une fenêtre de mots de taille 5 (incluant le mot cible), le modèle doit prédire les jetons $w(t-2)$, $w(t-1)$, $w(t+1)$, $w(t+2)$.\n",
    "Ici votre skip-gram a une taille k de 2.\n",
    "\n",
    "Pour ce faire nous créons des paires de mots arrangées de la manière suivante: jeton d'entrée et jeton prédit. \n",
    "\n",
    "Par exemple, si nous avons les phrases:\n",
    "\n",
    ">Alice likes Bob but not cats. \n",
    "\n",
    ">Charlie likes cats.\n",
    "\n",
    "Nous créons l'ensemble d'entrainement:\n",
    "\n",
    "\n",
    "| Jeton d'entrée | jeton prédit |\n",
    "|------|------|\n",
    "| Alice | likes | \n",
    "| Alice | Bob |\n",
    "| likes | Alice |\n",
    "| likes | Bob |\n",
    "| ... | ... |\n",
    "| cats | Charlie |\n",
    "| cats | likes |\n",
    "\n",
    "\n",
    "Implémentez les fonctions suivantes:\n",
    "\n",
    "1. \\_\\_init__ \n",
    "\n",
    "      Complétez le constructeur et construisez l'ensemble d'entrainement comme indiqué plus haut\n",
    "      \n",
    "      \n",
    "      \n",
    "\n",
    "2. \\_\\_getitem__(self, idx)\n",
    "\n",
    "      Cette fonction retourne l'exemple à l'indice voulu idx provenant de l'ensemble d'entrainement. Le format voulu est sous la forme: tuple(jeton d'entrée, jeton prédit)\n",
    "      \n",
    "      \n",
    "\n",
    "\n",
    "3. \\_\\_len__(self)\n",
    "\n",
    "     Cette fonction retourne la taille de l'ensemble d'entrainement"
   ]
  },
  {
   "cell_type": "code",
   "execution_count": 9,
   "id": "a39992dc",
   "metadata": {
    "id": "a39992dc"
   },
   "outputs": [],
   "source": [
    "class SkipGramDataset(Dataset):\n",
    "    def __init__(self, sequences, window_size=5):\n",
    "        self.sequences = sequences\n",
    "        self.window_size = window_size\n",
    "\n",
    "        self.train_data = []\n",
    "        for doc in sequences:\n",
    "            for idx, token in enumerate(doc):\n",
    "                for i in range(int(-window_size/2), int((window_size/2)+1)):\n",
    "                    if idx+i < len(doc) and idx+i >= 0 and idx+i != idx:\n",
    "                        self.train_data.append((token, doc[idx+i]))\n",
    "                  \n",
    "                \n",
    "    def __getitem__(self, idx):\n",
    "        return self.train_data[idx]\n",
    "        \n",
    "\n",
    "    def __len__(self):\n",
    "        return len(self.train_data)\n"
   ]
  },
  {
   "cell_type": "code",
   "execution_count": 10,
   "id": "c65d9223",
   "metadata": {
    "id": "c65d9223"
   },
   "outputs": [],
   "source": [
    "### Ces tests doivent réussir\n",
    "\n",
    "exemples = [[0, 1, 2, 3, 4], [10, 11, 12, 13, 14]]\n",
    "\n",
    "\n",
    "test_skipgram_data = SkipGramDataset(exemples, window_size=5)\n",
    "assert test_skipgram_data[0] == (0,1)\n",
    "assert test_skipgram_data[1] == (0,2)\n",
    "assert test_skipgram_data[2] == (1,0)\n",
    "assert test_skipgram_data[3] == (1,2)\n",
    "assert test_skipgram_data[4] == (1,3)\n",
    "assert test_skipgram_data[13] == (4,3)\n",
    "assert test_skipgram_data[20] == (12,11)\n"
   ]
  },
  {
   "cell_type": "markdown",
   "id": "687e8a3a",
   "metadata": {
    "id": "687e8a3a"
   },
   "source": [
    "### 1.3 Implémentez maintenant l'architecture du Skipgram\n",
    "\n"
   ]
  },
  {
   "cell_type": "markdown",
   "id": "79d60fa1",
   "metadata": {
    "id": "79d60fa1"
   },
   "source": [
    "On vous demande d'implémenter l'architecture du Skipgram avec pytorch. Il vous est aussi demandé de faire l'optimisation par batch avec une grandeur de batch variable (déterminé par len(batch_inputs)). \n",
    "\n",
    "Ci bas se trouve l'architecture générale du Skipgram, avec un exemple qui illustre les calculs lors de l'entraînement."
   ]
  },
  {
   "cell_type": "markdown",
   "id": "c60f0b29",
   "metadata": {
    "id": "c60f0b29"
   },
   "source": [
    "\n",
    "Visualisation des matrices de poids: \n",
    "<img src=\"https://iksinc.files.wordpress.com/2015/04/screen-shot-2015-04-10-at-4-16-00-pm.png\" style=\"margin-left:-10px\" title=\"Architecture générale\" width=800 height=300 />"
   ]
  },
  {
   "cell_type": "markdown",
   "id": "13be0861",
   "metadata": {
    "id": "13be0861"
   },
   "source": [
    "Visualisation d'un exemple d'entraînement. \n",
    "Dans cet exemple, le jeton passé en entrée dans le skipgram est \"likes\":\n",
    "<img src=\"https://i.postimg.cc/CxDmp3BK/test.png\" style=\"margin-left:-60px\" width=1000 height=0 />"
   ]
  },
  {
   "cell_type": "markdown",
   "id": "3ffdd7b2",
   "metadata": {
    "id": "3ffdd7b2"
   },
   "source": [
    "Exemple d'un batch:\n",
    "\n",
    "| Jeton d'entrée | jeton prédit |\n",
    "|------|------|\n",
    "| Alice | likes | \n",
    "| cats | Charlie |\n",
    "| likes | Bob |\n",
    "\n",
    "```\n",
    "# indices :  0        1      2          3        4\n",
    "vocab =     [\"Alice\", \"Bob\", \"Charlie\", \"likes\", \"cats\"]\n",
    "```\n",
    "\n",
    "```\n",
    "#              Alice, cats, likes\n",
    "batch_inputs = [0, 4, 3]\n",
    "\n",
    "#              likes, Charlie, Bob\n",
    "batch_labels = [3, 2, 1]\n",
    "\n",
    "```"
   ]
  },
  {
   "cell_type": "markdown",
   "id": "5e25d421",
   "metadata": {
    "id": "5e25d421"
   },
   "source": [
    "Sois V la taille du vocabulaire et N la taille d'embedding. L'architecture comprend 2 matrices de poids:\n",
    "\n",
    "1. La matrice d'encodage $W_i$ de taille $VxN$. Cette matrice est une 'look up table' c'est à dire qu'elle prend en entrée un index dans le vocabulaire et retourne la ligne de la matrice correspondant à cet index. (Correspond à torch.nn.Embedding)\n",
    "\n",
    "2. La matrice de sortie $W_o$ de taille $NxV$. Cette matrice est multipliée par le vecteur $h$ provenant de l'étape précédente pour obtenir le vecteur de sortie $y$. (Correspond à torch.nn.Linear)\n",
    "\n",
    "**Les fonctions et classes de pytorch dont vous pouvez vous servir sont: torch.nn.Embedding, torch.nn.Linear et torch.nn.log_softmax. Fiez vous à la documentation de [Pytorch](https://pytorch.org/docs/stable/). Voir aussi le tutoriel 3 pour plus d'aide.**\n"
   ]
  },
  {
   "cell_type": "markdown",
   "id": "c21b3907",
   "metadata": {
    "id": "c21b3907"
   },
   "source": [
    "Implémentez les fonctions suivantes de la classe SkipGramSoftMax:\n",
    "    \n",
    "1. \\_\\_init__ \n",
    "\n",
    "        Complétez le constructeur en initialisant aléatoirement les matrices de poids.\n",
    "      \n",
    "      \n",
    "      \n",
    "\n",
    "2. forward(self, batch_inputs: List[int])\n",
    "      \n",
    "      param: batch_inputs: List[int]\n",
    "      \n",
    "      return: valeurs softmax avec shape=(len(batch_inputs), len(vocab))\n",
    "      \n",
    "        forward est la méthode de la propagation vers l'avant, qui vous permet de retourner une distribution de probabilité sur le vocabulaire.\n",
    "        \n",
    "        Cette fonction prends en entrée un batch de séquences,\n",
    "        puis calcule et retourne les valeurs log_softmax correspondantes.\n",
    "      \n",
    "      \n",
    "\n",
    "\n",
    "3. embed(self, indices)\n",
    "    \n",
    "    param: indices: List[int]\n",
    "    \n",
    "    return: représentations vectorielles avec shape=(len(indices), embed_size)\n",
    "          \n",
    "       Cette fonction prend en entrée un batch d'indices, et retourne les représentations vectorielles (projection/plongements lexicaux). Ceux-ci sont obtenus en calculant le vecteur h dans la figure ci-dessus. "
   ]
  },
  {
   "cell_type": "code",
   "execution_count": 11,
   "id": "adce53a6",
   "metadata": {
    "id": "adce53a6"
   },
   "outputs": [],
   "source": [
    "import torch\n",
    "import torch.nn as nn\n",
    "from torch.nn import Embedding, Linear, Module\n",
    "from torch.nn.functional import log_softmax\n",
    "from typing import List\n",
    "from sklearn.preprocessing import normalize\n",
    "\n",
    "device = torch.device(\"cuda\" if torch.cuda.is_available() else \"cpu\")\n",
    "\n",
    "class SkipGramSoftMax(Module):\n",
    "    def __init__(self, vocab, embed_size):\n",
    "        super().__init__()\n",
    "        self.embed_size = embed_size\n",
    "        self.vocab = vocab\n",
    "        self.embeddings = Embedding(len(vocab), embed_size, device=device)\n",
    "        self.linear = Linear(embed_size, len(vocab), device=device)\n",
    "        self.log_softmax = log_softmax\n",
    "           \n",
    "        \n",
    "    def forward(self, batch_inputs: List[int]):\n",
    "        \n",
    "        embeds = self.embeddings(torch.tensor(batch_inputs))\n",
    "        out = self.linear(embeds)\n",
    "        out = self.log_softmax(out, dim=1)\n",
    "        return out\n",
    "\n",
    "    def embed(self, indices: List[int]):\n",
    "\n",
    "        return self.embeddings(torch.tensor(indices))\n",
    "\n",
    "    \n",
    "    "
   ]
  },
  {
   "cell_type": "markdown",
   "id": "1a52c1e2",
   "metadata": {
    "id": "1a52c1e2"
   },
   "source": [
    "### 1.4 Entrainez le modèle skipgram\n",
    "\n",
    "\n",
    "Complétez le processus d'entraînement. Les étapes à suivre sont définies ci-bas.\n",
    "**Voir le tutoriel pour plus d'aide.**\n",
    "\n",
    "1. Initialiser les gradients à zéro \n",
    "\n",
    "2. Passer les batchs_inputs dans le skipgram afin d'obtenir les valeurs de sortie.\n",
    "\n",
    "3. Passer les sorties du réseau et les labels dans la fonction de perte (loss function)\n",
    "\n",
    "4. Calculer les valeurs de gradients avec la fonction backward() \n",
    "\n",
    "5. Mettre à jour les poids avec l'optimiseur. Ici nous utiliserons Adam."
   ]
  },
  {
   "cell_type": "code",
   "execution_count": 12,
   "id": "74833be5",
   "metadata": {
    "colab": {
     "base_uri": "https://localhost:8080/"
    },
    "id": "74833be5",
    "outputId": "90523c41-8ce2-4799-8b27-03cc0771d406",
    "scrolled": true
   },
   "outputs": [
    {
     "name": "stderr",
     "output_type": "stream",
     "text": [
      "  0%|          | 0/5468 [00:00<?, ?it/s]/usr/local/lib/python3.7/dist-packages/ipykernel_launcher.py:22: UserWarning: To copy construct from a tensor, it is recommended to use sourceTensor.clone().detach() or sourceTensor.clone().detach().requires_grad_(True), rather than torch.tensor(sourceTensor).\n",
      "100%|██████████| 5468/5468 [00:15<00:00, 357.04it/s]\n"
     ]
    },
    {
     "name": "stdout",
     "output_type": "stream",
     "text": [
      "Epoch 1 loss: 7.7186808586120605\n"
     ]
    },
    {
     "name": "stderr",
     "output_type": "stream",
     "text": [
      "100%|██████████| 5468/5468 [00:12<00:00, 422.04it/s]\n"
     ]
    },
    {
     "name": "stdout",
     "output_type": "stream",
     "text": [
      "Epoch 2 loss: 7.699986934661865\n"
     ]
    },
    {
     "name": "stderr",
     "output_type": "stream",
     "text": [
      "100%|██████████| 5468/5468 [00:12<00:00, 426.93it/s]\n"
     ]
    },
    {
     "name": "stdout",
     "output_type": "stream",
     "text": [
      "Epoch 3 loss: 7.444594383239746\n"
     ]
    },
    {
     "name": "stderr",
     "output_type": "stream",
     "text": [
      "100%|██████████| 5468/5468 [00:12<00:00, 425.73it/s]\n"
     ]
    },
    {
     "name": "stdout",
     "output_type": "stream",
     "text": [
      "Epoch 4 loss: 7.388589859008789\n"
     ]
    },
    {
     "name": "stderr",
     "output_type": "stream",
     "text": [
      "100%|██████████| 5468/5468 [00:12<00:00, 425.18it/s]\n"
     ]
    },
    {
     "name": "stdout",
     "output_type": "stream",
     "text": [
      "Epoch 5 loss: 7.268803119659424\n"
     ]
    },
    {
     "name": "stderr",
     "output_type": "stream",
     "text": [
      "100%|██████████| 5468/5468 [00:12<00:00, 422.99it/s]\n"
     ]
    },
    {
     "name": "stdout",
     "output_type": "stream",
     "text": [
      "Epoch 6 loss: 7.570357322692871\n"
     ]
    },
    {
     "name": "stderr",
     "output_type": "stream",
     "text": [
      "100%|██████████| 5468/5468 [00:12<00:00, 423.53it/s]\n"
     ]
    },
    {
     "name": "stdout",
     "output_type": "stream",
     "text": [
      "Epoch 7 loss: 6.693177223205566\n"
     ]
    },
    {
     "name": "stderr",
     "output_type": "stream",
     "text": [
      "100%|██████████| 5468/5468 [00:12<00:00, 425.92it/s]\n"
     ]
    },
    {
     "name": "stdout",
     "output_type": "stream",
     "text": [
      "Epoch 8 loss: 7.174704551696777\n"
     ]
    },
    {
     "name": "stderr",
     "output_type": "stream",
     "text": [
      "100%|██████████| 5468/5468 [00:12<00:00, 424.81it/s]\n"
     ]
    },
    {
     "name": "stdout",
     "output_type": "stream",
     "text": [
      "Epoch 9 loss: 6.796041488647461\n"
     ]
    },
    {
     "name": "stderr",
     "output_type": "stream",
     "text": [
      "100%|██████████| 5468/5468 [00:12<00:00, 426.76it/s]"
     ]
    },
    {
     "name": "stdout",
     "output_type": "stream",
     "text": [
      "Epoch 10 loss: 6.405659198760986\n"
     ]
    },
    {
     "name": "stderr",
     "output_type": "stream",
     "text": [
      "\n"
     ]
    }
   ],
   "source": [
    "from torch.nn import NLLLoss \n",
    "from torch.optim import Adam\n",
    "from tqdm import tqdm\n",
    "\n",
    "### Création du batch loader\n",
    "skipgram_data = SkipGramDataset(train[\"sequence\"], window_size=5)\n",
    "batch_loader = DataLoader(skipgram_data, batch_size=128, shuffle=True)\n",
    "\n",
    "### Création du modèle\n",
    "device = torch.device(\"cuda\" if torch.cuda.is_available() else \"cpu\")\n",
    "skipgram = SkipGramSoftMax(vocab, 100).to(device)\n",
    "\n",
    "### Fonction permettant de calculer le loss\n",
    "loss_function = NLLLoss()\n",
    "\n",
    "### optimiseur suivant la descente de gradiant ADAM\n",
    "optimizer = Adam(skipgram.parameters())\n",
    "\n",
    "epochs = 10\n",
    "\n",
    "for epoch in range(epochs):\n",
    "\n",
    "    for batch_inputs, batch_labels in tqdm(batch_loader):\n",
    "\n",
    "        batch_inputs = batch_inputs.to(device)\n",
    "        batch_labels = batch_labels.to(device)\n",
    "\n",
    "        ### Initialisation des gradients à 0\n",
    "        optimizer.zero_grad()\n",
    "        \n",
    "        ### Calcul de la sortie du modèle\n",
    "        output = skipgram.forward(batch_inputs)\n",
    "        loss = loss_function(output, batch_labels)\n",
    "        loss.backward()\n",
    "        optimizer.step()\n",
    "    print(f\"Epoch {epoch+1} loss: {loss.item()}\")"
   ]
  },
  {
   "cell_type": "markdown",
   "id": "f7c44fe0",
   "metadata": {
    "id": "f7c44fe0"
   },
   "source": [
    "# 2. Clustering K-MEANS avec représentation vectorielle de documents"
   ]
  },
  {
   "cell_type": "markdown",
   "id": "3e1cc969",
   "metadata": {
    "id": "3e1cc969"
   },
   "source": [
    "Dans cet exercice, l'objectif est de regrouper d'une manière non-supervisée les documents (headline) afin de les classifier, les performances des différentes représentations illustreront l'efficacité de word2vec. \n",
    "\n",
    "Nous allons d'abord construire 3 représentations vectorielles différentes qui seront comparées avec l'algorithme de clustering."
   ]
  },
  {
   "cell_type": "markdown",
   "id": "0a465528",
   "metadata": {
    "id": "0a465528"
   },
   "source": [
    "### 2.1 Encodage de documents avec Tfidf + LSA\n",
    "\n",
    "Sans faire d'optimisation de paramètres, combinez TfIdfVectorizer ainsi que TruncatedSVD (LSA) afin d'approximer les documents (la colonne \"tokens\") dans un espace vectoriel de même taille que les plongements de mots obtenus avec votre modèle Skip-gram.\n",
    "\n",
    "Faites ce processus pour l'ensemble de test et d'entraînement et gardez les résultats en mémoire."
   ]
  },
  {
   "cell_type": "code",
   "execution_count": 13,
   "id": "8ef76a82",
   "metadata": {
    "id": "8ef76a82"
   },
   "outputs": [],
   "source": [
    "from sklearn.feature_extraction.text import TfidfVectorizer\n",
    "from sklearn.decomposition import TruncatedSVD\n",
    "\n",
    "tfidf = TfidfVectorizer(vocabulary=vocab)\n",
    "tfidf_train_matrix = tfidf.fit_transform(train[\"tokens\"].apply(lambda x: \" \".join(x)).values)\n",
    "tfidf_test_matrix = tfidf.transform(test[\"tokens\"].apply(lambda x: \" \".join(x)).values)\n",
    "svd = TruncatedSVD(n_components=500)\n",
    "svd_train_matrix = svd.fit_transform(tfidf_train_matrix)\n",
    "svd_test_matrix = svd.transform(tfidf_test_matrix)"
   ]
  },
  {
   "cell_type": "markdown",
   "id": "8939a0dd",
   "metadata": {
    "id": "8939a0dd"
   },
   "source": [
    "### 2.2 Encodage de documents avec votre modèle Skip-gram\n",
    "\n",
    "Pour chaque exemple, retrouvez la représentation vectorielle de tous les jetons du document avec votre modèle Skip-gram, puis calculez leur moyenne. Vous passerez donc de plusieurs vecteurs représentants les jetons du document, à un seul vecteur, qui sera la moyenne de ces derniers.\n",
    "\n",
    "\n",
    "ex:\n",
    "\n",
    ">jetons:  \"Alice\"     \"likes\"       \"Bob\"\n",
    "\n",
    ">vecteur: [0,1,2]     [1,2,3]       [2,3,4]\n",
    "\n",
    ">vecteur moyen: [1,2,3]\n",
    "\n",
    "\n",
    "\n",
    "Faites ce processus pour l'ensemble de test et d'entraînement et gardez les résultats en mémoire.\n",
    "\n",
    "\n",
    "Utilisez la fonction 'embed' de votre modèle skipgram pour retrouver la représentation vectorielle d'un jeton."
   ]
  },
  {
   "cell_type": "code",
   "execution_count": 14,
   "id": "7f96b2db",
   "metadata": {
    "colab": {
     "base_uri": "https://localhost:8080/"
    },
    "id": "7f96b2db",
    "outputId": "bf2293a8-c2d5-4121-eecd-fae9d7d630fa",
    "scrolled": true
   },
   "outputs": [
    {
     "name": "stderr",
     "output_type": "stream",
     "text": [
      "/usr/local/lib/python3.7/dist-packages/ipykernel_launcher.py:29: UserWarning: To copy construct from a tensor, it is recommended to use sourceTensor.clone().detach() or sourceTensor.clone().detach().requires_grad_(True), rather than torch.tensor(sourceTensor).\n"
     ]
    }
   ],
   "source": [
    "vecteurs_moyens_skip_train = []\n",
    "vecteurs_moyens_skip_test = []\n",
    "skipgram = skipgram.to(device)\n",
    "    \n",
    "for doc in train[\"sequence\"]:\n",
    "    vecteurs_moyens_skip_train.append(np.mean(skipgram.embed(torch.tensor(doc, device = device)).to(device).detach().cpu().numpy(), axis=0))\n",
    "    \n",
    "for doc in test[\"sequence\"]:\n",
    "    if len(doc) > 0:\n",
    "      vecteurs_moyens_skip_test.append(np.mean(skipgram.embed(torch.tensor(doc, device = device)).to(device).detach().cpu().numpy(), axis=0))\n",
    "    else:\n",
    "      vecteurs_moyens_skip_test.append(np.zeros(100))"
   ]
  },
  {
   "cell_type": "markdown",
   "id": "3ee7c374",
   "metadata": {
    "id": "3ee7c374"
   },
   "source": [
    "### 2.3 Encodage de documents avec les plongements word2vec pré-entrainés de Gensim\n",
    "\n",
    "Gensim vous offre des [représentations vectorielles pré-entraînées](https://radimrehurek.com/gensim/models/word2vec.html#pretrained-models) faciles à utiliser.  \n",
    "\n",
    "Obtenez les vecteurs pré-entrainés intitulés 'word2vec-google-news-300'. Pour chaque exemple, retrouvez la représentation vectorielle de tous les jetons du document avec votre modèle pré-entraîné, puis calculez leur moyenne comme on fait en 2.2. Vous passerez donc de plusieurs vecteurs représentants les jetons du document, à un seul vecteur, qui sera la moyenne de ces derniers.\n",
    "\n",
    "\n",
    "Faites ce processus pour l'ensemble de test et d'entraînement et gardez les résultats en mémoire."
   ]
  },
  {
   "cell_type": "code",
   "execution_count": 15,
   "id": "17cb68f9",
   "metadata": {
    "colab": {
     "base_uri": "https://localhost:8080/"
    },
    "id": "17cb68f9",
    "outputId": "e20c604d-155b-461f-dbea-65008ef580c3"
   },
   "outputs": [
    {
     "name": "stdout",
     "output_type": "stream",
     "text": [
      "[==================================================] 100.0% 1662.8/1662.8MB downloaded\n"
     ]
    }
   ],
   "source": [
    "import gensim.downloader\n",
    "\n",
    "word2vec = gensim.downloader.load('word2vec-google-news-300')\n",
    "vecteurs_moyens_word2vec_train = []\n",
    "vecteurs_moyens_word2vec_test = []\n",
    "\n",
    "for doc in train[\"tokens\"]:\n",
    "    doc_vect = np.zeros((len(doc), 300)) # 300 is the size of word2vec vectors\n",
    "    for i, token in enumerate(doc):\n",
    "        if token in word2vec:\n",
    "            doc_vect[i] = word2vec[token]\n",
    "        else:\n",
    "            np.delete(doc_vect, i, 1)\n",
    "    if len(doc_vect) == 0:\n",
    "        doc_vect = np.zeros((1,300))\n",
    "    vecteurs_moyens_word2vec_train.append(np.mean(doc_vect, axis=0))\n",
    "\n",
    "for doc in test[\"tokens\"]:\n",
    "    doc_vect = np.zeros((len(doc), 300)) # 300 is the size of word2vec vectors\n",
    "    for i, token in enumerate(doc):\n",
    "        if token in word2vec:\n",
    "            doc_vect[i] = word2vec[token]\n",
    "        else:\n",
    "            np.delete(doc_vect, i, 1)\n",
    "    if len(doc_vect) == 0:\n",
    "        doc_vect = np.zeros((1,300))\n",
    "    vecteurs_moyens_word2vec_test.append(np.mean(doc_vect, axis=0))"
   ]
  },
  {
   "cell_type": "markdown",
   "id": "cbf4d265",
   "metadata": {
    "id": "cbf4d265"
   },
   "source": [
    "### 2.4 Clustering avec K-Means\n",
    "\n",
    "Complétez la fonction cluster_and_eval(X_train, y_train, test_X, test_y)\n",
    "\n",
    "Cette fonction entraine un algorithme K-Means avec 3 clusters.\n",
    "\n",
    "Étant donné que K-Means est un algorithme non-supervisé, les clusters ne sont pas étiquettés. Trouvez une manière d'identifier quel cluster est relié à quelle classe en utilisant la classe (y) de chaque exemple de votre ensemble d'entrainement.\n",
    "\n",
    "Ensuite, vous devez afficher les métriques d'évaluation de votre clustering étiquetté avec classification_report de sklearn. Utilisez X_test et y_test pour cela."
   ]
  },
  {
   "cell_type": "code",
   "execution_count": 16,
   "id": "63f3a50e",
   "metadata": {
    "id": "63f3a50e"
   },
   "outputs": [],
   "source": [
    "from sklearn.cluster import KMeans\n",
    "\n",
    "def cluster_and_eval(X_train, y_train, X_test, y_test):\n",
    "    nbr_clusters = 3\n",
    "    kmeans = KMeans(n_clusters=nbr_clusters, random_state=0).fit(X_train)\n",
    "    y_pred = kmeans.predict(X_test)\n",
    "    repart = np.bincount(y_pred)\n",
    "    business_index = np.argmax(repart)\n",
    "    crime_index = np.argmin(repart)\n",
    "    def f(i):\n",
    "      if i == business_index:\n",
    "        return 0\n",
    "      elif i == crime_index:\n",
    "        return 2\n",
    "      else:\n",
    "        return 1\n",
    "    \n",
    "    labels = np.vectorize(f)(y_pred)\n",
    "    \n",
    "    print(f\"classification report: {classification_report(y_test, labels)}\")\n",
    "\n",
    "    # Pour étiqueter les clusters\n",
    "    clusters = [np.where(kmeans.labels_ == clus)[0] for clus in range(nbr_clusters)]\n",
    "    clusters_labels = [y_train[np.where(clus)[0]] for clus in clusters]\n",
    "    counts = [np.unique(clus_labels, return_counts=True)[1] for clus_labels in clusters_labels]\n",
    "    for index, number in enumerate(counts):\n",
    "      print(\"Cluster {} : il y a {} éléments de BUSINESS, COMEDY et CRIME\".format(index, number))"
   ]
  },
  {
   "cell_type": "markdown",
   "id": "0147f725",
   "metadata": {
    "id": "0147f725"
   },
   "source": [
    "### 2.5 Exécution de la fonction cluster_and_eval sur les 3 représentations obtenues en 2.1, 2.2 et 2.3"
   ]
  },
  {
   "cell_type": "code",
   "execution_count": 17,
   "id": "nVtUawmLEfCM",
   "metadata": {
    "id": "nVtUawmLEfCM"
   },
   "outputs": [],
   "source": [
    "# Transformation des categories en entiers\n",
    "# 0: Business\n",
    "# 1: Comedy\n",
    "# 2: Crime\n",
    "\n",
    "train[\"label\"] = train[\"category\"].astype(\"category\").cat.codes\n",
    "test[\"label\"] = test[\"category\"].astype(\"category\").cat.codes"
   ]
  },
  {
   "cell_type": "code",
   "execution_count": 18,
   "id": "4e1e157e",
   "metadata": {
    "colab": {
     "base_uri": "https://localhost:8080/"
    },
    "id": "4e1e157e",
    "outputId": "0d015d70-a409-4a2d-f9b7-5516968cd79b"
   },
   "outputs": [
    {
     "name": "stdout",
     "output_type": "stream",
     "text": [
      "classification report:               precision    recall  f1-score   support\n",
      "\n",
      "           0       0.53      0.98      0.68      1232\n",
      "           1       0.02      0.01      0.01      1010\n",
      "           2       0.00      0.00      0.00       656\n",
      "\n",
      "    accuracy                           0.42      2898\n",
      "   macro avg       0.18      0.33      0.23      2898\n",
      "weighted avg       0.23      0.42      0.30      2898\n",
      "\n",
      "Cluster 0 : il y a [627 569 398] éléments de BUSINESS, COMEDY et CRIME\n",
      "Cluster 1 : il y a [367 332 227] éléments de BUSINESS, COMEDY et CRIME\n",
      "Cluster 2 : il y a [3678 3291 2126] éléments de BUSINESS, COMEDY et CRIME\n"
     ]
    }
   ],
   "source": [
    "cluster_and_eval(svd_train_matrix, train[\"label\"], svd_test_matrix, test[\"label\"])"
   ]
  },
  {
   "cell_type": "code",
   "execution_count": 19,
   "id": "fe18c296",
   "metadata": {
    "colab": {
     "base_uri": "https://localhost:8080/"
    },
    "id": "fe18c296",
    "outputId": "c36574ab-5d84-40b0-8b22-79f2281ddb27"
   },
   "outputs": [
    {
     "name": "stdout",
     "output_type": "stream",
     "text": [
      "classification report:               precision    recall  f1-score   support\n",
      "\n",
      "           0       0.82      0.91      0.86      1232\n",
      "           1       0.90      0.81      0.85      1010\n",
      "           2       0.91      0.86      0.88       656\n",
      "\n",
      "    accuracy                           0.86      2898\n",
      "   macro avg       0.88      0.86      0.86      2898\n",
      "weighted avg       0.87      0.86      0.86      2898\n",
      "\n",
      "Cluster 0 : il y a [1530 1418  914] éléments de BUSINESS, COMEDY et CRIME\n",
      "Cluster 1 : il y a [1015  986  633] éléments de BUSINESS, COMEDY et CRIME\n",
      "Cluster 2 : il y a [2059 1855 1205] éléments de BUSINESS, COMEDY et CRIME\n"
     ]
    }
   ],
   "source": [
    "cluster_and_eval(vecteurs_moyens_skip_train, train[\"label\"], vecteurs_moyens_skip_test, test[\"label\"])"
   ]
  },
  {
   "cell_type": "code",
   "execution_count": 20,
   "id": "c6de4630",
   "metadata": {
    "colab": {
     "base_uri": "https://localhost:8080/"
    },
    "id": "c6de4630",
    "outputId": "d0db644b-4dd8-4905-f2c1-2b95b3069a84",
    "scrolled": false
   },
   "outputs": [
    {
     "name": "stdout",
     "output_type": "stream",
     "text": [
      "classification report:               precision    recall  f1-score   support\n",
      "\n",
      "           0       0.64      0.83      0.72      1232\n",
      "           1       0.68      0.54      0.60      1010\n",
      "           2       0.92      0.71      0.80       656\n",
      "\n",
      "    accuracy                           0.70      2898\n",
      "   macro avg       0.75      0.69      0.71      2898\n",
      "weighted avg       0.72      0.70      0.70      2898\n",
      "\n",
      "Cluster 0 : il y a [834 791 534] éléments de BUSINESS, COMEDY et CRIME\n",
      "Cluster 1 : il y a [2478 2202 1448] éléments de BUSINESS, COMEDY et CRIME\n",
      "Cluster 2 : il y a [1301 1230  797] éléments de BUSINESS, COMEDY et CRIME\n"
     ]
    }
   ],
   "source": [
    "cluster_and_eval(vecteurs_moyens_word2vec_train, train[\"label\"], vecteurs_moyens_word2vec_test, test[\"label\"])"
   ]
  },
  {
   "cell_type": "markdown",
   "id": "bbb79137",
   "metadata": {
    "id": "bbb79137"
   },
   "source": [
    "### 2.6 Discussion\n",
    "\n",
    "Limitez-vous à 4 lignes maximum par réponse"
   ]
  },
  {
   "cell_type": "markdown",
   "id": "48856aec",
   "metadata": {
    "id": "48856aec"
   },
   "source": [
    "**2.6.1** Si vos implémentations fonctionnent, vous devriez remarquer que le Skipgram avec softmax (2.2) est le modèle obtenant les meilleurs résultats. Pourquoi selon vous, le Skipgram avec softmax(2.2) arrive à des meilleurs résultats que le skipgram avec negative sampling (2.3)? "
   ]
  },
  {
   "cell_type": "markdown",
   "id": "23062efe",
   "metadata": {
    "id": "23062efe"
   },
   "source": [
    "Le skipgram avec negative sampling est plus rapide que le skipgram avec softmax. Toutefois, le skipgram avec négative sampling se base sur une sélection aléatoire de ses échantillons négatifs. Toutes les possibilités ne sont pas explorées. Ce skipgram a donc des moins bons résultats que l'autre."
   ]
  },
  {
   "cell_type": "markdown",
   "id": "7d0ce847",
   "metadata": {
    "id": "7d0ce847"
   },
   "source": [
    "\n",
    "**2.6.2** Pourquoi selon vous le modèle skipgram fonctionne aussi bien dans ce contexte de clustering?\n",
    "\n",
    "\n",
    "\n"
   ]
  },
  {
   "cell_type": "markdown",
   "id": "d3203392",
   "metadata": {
    "id": "d3203392"
   },
   "source": [
    "Le modèle skipgram fonctionne bien dans un contexte de clustering car il consiste à associer des probabilités concernant la proximité des mots dans une phrase. Cela permet donc de créer des groupes de mots proches et donc d'identifier des cluster. "
   ]
  },
  {
   "cell_type": "markdown",
   "id": "a87a7537",
   "metadata": {
    "id": "a87a7537"
   },
   "source": [
    "**2.6.3** Pour un exemple positif (batch_size=1), combien de paramètres sont mis à jour pour:\n",
    "\n"
   ]
  },
  {
   "cell_type": "markdown",
   "id": "088d5b7f",
   "metadata": {
    "id": "088d5b7f"
   },
   "source": [
    "a) le skipgram avec softmax "
   ]
  },
  {
   "cell_type": "markdown",
   "id": "f4a46700",
   "metadata": {
    "id": "f4a46700"
   },
   "source": [
    "Le modèle skipgram apprend 2 embeddings pour chaque mot. La taille du batch est de 1. On considère donc un seul mot. Soit k le paramètre indiquant la taille de la fenêtre. Si k=2, on s'intéresse à wt-1,wt-2,wt+1 et wt+2. Les matrices des paramètres sont de tailles V*N pour le premier embedding et NxV pour le deuxième avec V la taille du vocabulaire et N la dimension de projection.Pour le premier embedding VxN paramètres sont mis à jour. Ensuite pour le deuxième embedding V*N paramètres sont mis à jour.\n",
    "On a donc NxV+VxN paramètres mis à jour. "
   ]
  },
  {
   "cell_type": "markdown",
   "id": "72e00453",
   "metadata": {
    "id": "72e00453"
   },
   "source": [
    "b) BONUS: le skipgram avec negative sampling (5 negative samples):"
   ]
  },
  {
   "cell_type": "markdown",
   "id": "1a2c2722",
   "metadata": {
    "id": "1a2c2722"
   },
   "source": [
    "Le modèle skipgram apprend 2 embeddings pour chaque mot. La taille du batch est de 1. On considère donc un seul mot. Soit k le paramètre indiquant la taille de la fenêtre. Si k=2, on s'intéresse à wt-1,wt-2,wt+1 et wt+2. On a kx2 exemples positifs et kx2xk exemples négatifs. k exemples négatifs pour chaque exemple positif. \n",
    "Les matrices des paramètres sont de tailles V*N pour le premier embedding et NxV pour le deuxième avec V la taille du vocabulaire et N la dimension de projection.Pour le premier embedding seuls les paramètres du mot cible sont mis à jour soit 1xN paramètres . Ensuite pour le deuxième embedding les paramètres des mots parasites sont mis à jour soit  (2xk+kx2xk)xN.\n",
    "On a donc N+(2xk+kx2xk)xN paramètres mis à jour. Si on a 5 negative samples ça fait 13xN paramètres mis à jour."
   ]
  },
  {
   "cell_type": "markdown",
   "id": "f3b6a1aa",
   "metadata": {
    "id": "f3b6a1aa"
   },
   "source": [
    "# 3.Visualisation des représentations vectorielles"
   ]
  },
  {
   "cell_type": "markdown",
   "id": "84bd2a90",
   "metadata": {
    "id": "84bd2a90"
   },
   "source": [
    "Ici les représentations vectorielles seront projetées dans une dimension inférieure, cela nous permet de mieux comprendre la composition des clusters créés par l'algorithme K-Means. \n",
    "\n",
    "Projetez les représentations de documents provenant du skipgram softmax (2.2) dans un espace 2D à l'aide de PCA. Le résultat devrait être un nuage de points ayant 3 couleurs (1 par catégorie), chaque point du nuage est un exemple et a la couleur de sa catégorie. Par exemple, si on définit la catégorie Business comme étant la catégorie avec la couleur bleue, on affiche tous les points de cette catégorie en bleu. Assurez-vous que la couleur de chaque catégorie soit bien identifiée. \n",
    "\n",
    "Utilisez l'ensemble d'entrainement pour faire cette visualisation."
   ]
  },
  {
   "cell_type": "code",
   "execution_count": 22,
   "id": "bec61d87",
   "metadata": {
    "colab": {
     "base_uri": "https://localhost:8080/",
     "height": 265
    },
    "id": "bec61d87",
    "outputId": "af57047b-920d-4ed2-83d1-b19c516d2384"
   },
   "outputs": [
    {
     "data": {
      "image/png": "[encoded data removed]",
      "text/plain": [
       "<Figure size 432x288 with 1 Axes>"
      ]
     },
     "metadata": {
      "needs_background": "light"
     },
     "output_type": "display_data"
    }
   ],
   "source": [
    "from sklearn.decomposition import PCA\n",
    "import matplotlib.pyplot as plt\n",
    "\n",
    "pca = PCA(n_components=2)\n",
    "pca_train_matrix = pca.fit_transform(vecteurs_moyens_skip_train)\n",
    "pca_test_matrix = pca.transform(vecteurs_moyens_skip_test)\n",
    "\n",
    "scatter=plt.scatter(pca_train_matrix[:,0], pca_train_matrix[:,1], c=train[\"label\"])\n",
    "classes= [\"BUSINESS\", \"COMEDY\", \"CRIME\"]\n",
    "plt.legend(handles=scatter.legend_elements()[0], labels=classes)\n",
    "plt.show()\n",
    "\n",
    "\n",
    "\n",
    "\n",
    "\n",
    "\n"
   ]
  },
  {
   "cell_type": "code",
   "execution_count": null,
   "id": "C28D2aKDLJtp",
   "metadata": {
    "id": "C28D2aKDLJtp"
   },
   "outputs": [],
   "source": []
  }
 ],
 "metadata": {
  "accelerator": "GPU",
  "colab": {
   "collapsed_sections": [],
   "provenance": []
  },
  "kernelspec": {
   "display_name": "Python 3",
   "language": "python",
   "name": "python3"
  },
  "language_info": {
   "codemirror_mode": {
    "name": "ipython",
    "version": 3
   },
   "file_extension": ".py",
   "mimetype": "text/x-python",
   "name": "python",
   "nbconvert_exporter": "python",
   "pygments_lexer": "ipython3",
   "version": "3.8.8"
  },
  "vscode": {
   "interpreter": {
    "hash": "837b27d4d8973f8fd17d6772fbcbb50dbf2fdd3cd63e394bb02ff8e33505824d"
   }
  }
 },
 "nbformat": 4,
 "nbformat_minor": 5
}
